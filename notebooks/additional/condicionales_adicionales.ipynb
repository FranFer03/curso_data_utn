{
 "cells": [
  {
   "cell_type": "code",
   "execution_count": 1,
   "metadata": {
    "executionInfo": {
     "elapsed": 12,
     "status": "ok",
     "timestamp": 1748292958693,
     "user": {
      "displayName": "Francisco Fernandez",
      "userId": "14484514716531413217"
     },
     "user_tz": 180
    },
    "id": "_B0IBhOfYGpc"
   },
   "outputs": [],
   "source": [
    "import math"
   ]
  },
  {
   "cell_type": "markdown",
   "metadata": {
    "id": "CDHuf2FVYcoV"
   },
   "source": [
    "1. Escribir un programa que pregunte el nombre del usuario en la consola y un número entero e imprima por pantalla en líneas distintas el nombre del usuario tantas veces como el número introducido."
   ]
  },
  {
   "cell_type": "code",
   "execution_count": 2,
   "metadata": {
    "executionInfo": {
     "elapsed": 3,
     "status": "ok",
     "timestamp": 1748292998501,
     "user": {
      "displayName": "Francisco Fernandez",
      "userId": "14484514716531413217"
     },
     "user_tz": 180
    },
    "id": "wJeLzaK5YV0G"
   },
   "outputs": [],
   "source": [
    "#Escribir solucion aqui"
   ]
  },
  {
   "cell_type": "markdown",
   "metadata": {
    "id": "hbFt5zcCYmm2"
   },
   "source": [
    "2. Para tributar un determinado impuesto se debe ser mayor de 18 años y tener unos ingresos iguales o superiores a 230000 $ mensuales. Escribir un programa que pregunte al usuario su edad y sus ingresos mensuales y muestre por pantalla si el usuario tiene que tributar o no."
   ]
  },
  {
   "cell_type": "code",
   "execution_count": 3,
   "metadata": {
    "executionInfo": {
     "elapsed": 3,
     "status": "ok",
     "timestamp": 1748293002876,
     "user": {
      "displayName": "Francisco Fernandez",
      "userId": "14484514716531413217"
     },
     "user_tz": 180
    },
    "id": "KuM5KA2rYhSE"
   },
   "outputs": [],
   "source": [
    "#Escribir solucion aqui"
   ]
  },
  {
   "cell_type": "markdown",
   "metadata": {
    "id": "ZL59aLB4YtbX"
   },
   "source": [
    "3. Una panadería vende barras de pan a $ 2000 cada una. El pan que no es el día tiene un descuento del 60%. Escribir un programa que comience leyendo el número de barras vendidas que no son del día. Después el programa debe mostrar el precio habitual de una barra de pan, el descuento que se le hace por no ser fresca y el coste final total"
   ]
  },
  {
   "cell_type": "code",
   "execution_count": 4,
   "metadata": {
    "executionInfo": {
     "elapsed": 4,
     "status": "ok",
     "timestamp": 1748293004613,
     "user": {
      "displayName": "Francisco Fernandez",
      "userId": "14484514716531413217"
     },
     "user_tz": 180
    },
    "id": "IGk8clctYiWi"
   },
   "outputs": [],
   "source": [
    "#Escribir solucion aqui"
   ]
  },
  {
   "cell_type": "markdown",
   "metadata": {
    "id": "c55BUFV1ZGWQ"
   },
   "source": [
    "4. Escribe un programa que pregunte al usuario los valores de R1 y R2 (en ohms) y el tipo de conexión (\"serie\" o \"paralelo\"), luego calcule y muestre la resistencia total con el formato: \"Para una conexión en [tipo], la resistencia total es: [valor] ohms\".\n",
    "\n",
    "![conexion](https://tecnoapostol.files.wordpress.com/2012/04/rect36501.png)\n",
    "\n",
    "*Por ejemplo: Si R1 = 100 ,  R2=200 y la conexión es \"paralelo\", el resultado será: Para una conexión en paralelo, la resistencia total es: 66.67 ohms.*\n",
    "\n"
   ]
  },
  {
   "cell_type": "code",
   "execution_count": 5,
   "metadata": {
    "executionInfo": {
     "elapsed": 6,
     "status": "ok",
     "timestamp": 1748293007015,
     "user": {
      "displayName": "Francisco Fernandez",
      "userId": "14484514716531413217"
     },
     "user_tz": 180
    },
    "id": "1g21dRkgYixq"
   },
   "outputs": [],
   "source": [
    "#Escribir solucion aqui"
   ]
  },
  {
   "cell_type": "markdown",
   "metadata": {
    "id": "IWHW4pUsa_2V"
   },
   "source": [
    "5. Un estacionamiento cobra $1.000 por hora, con las siguientes reglas: las primeras 2 horas no tienen descuento, entre 3 y 5 horas se aplica un 10% de descuento, y más de 5 horas un 20%. El programa debe leer el número de horas estacionadas y mostrar el costo base (sin descuento), el descuento (si aplica) y el total a pagar.\n",
    "\n",
    "*Por ejemplo, para 4 horas, la salida será: Costo base: $4.000, Descuento (10%): $400, Total a pagar: $3.600.*"
   ]
  },
  {
   "cell_type": "code",
   "execution_count": 6,
   "metadata": {
    "executionInfo": {
     "elapsed": 8,
     "status": "ok",
     "timestamp": 1748293008226,
     "user": {
      "displayName": "Francisco Fernandez",
      "userId": "14484514716531413217"
     },
     "user_tz": 180
    },
    "id": "j4URhmc7YjXN"
   },
   "outputs": [],
   "source": [
    "#Escribir solucion aqui"
   ]
  },
  {
   "cell_type": "markdown",
   "metadata": {
    "id": "ca7u-xE7bKbK"
   },
   "source": [
    "6. El índice de masa corporal (IMC) se calcula dividiendo el peso (en kg) entre la altura al cuadrado (en metros). Clasifica el resultado en: bajo peso (IMC < 18.5), peso normal (18.5 ≤ IMC < 25) o sobrepeso (IMC ≥ 25). El programa debe leer el peso y la altura, calcular el IMC (redondeado a 2 decimales) y mostrar la categoría.\n",
    "\n",
    "!['IMC'](https://nutricion.com.pe/wp-content/uploads/2024/03/IMC.png)\n",
    "\n",
    "*Por ejemplo, para 70 kg y 1.75 m de altura, la salida será: Tu IMC es: 22.86, Categoría: Peso normal.*\n",
    "\n",
    "\n"
   ]
  },
  {
   "cell_type": "code",
   "execution_count": 7,
   "metadata": {
    "executionInfo": {
     "elapsed": 4,
     "status": "ok",
     "timestamp": 1748293009171,
     "user": {
      "displayName": "Francisco Fernandez",
      "userId": "14484514716531413217"
     },
     "user_tz": 180
    },
    "id": "yqF3P1kbYjqH"
   },
   "outputs": [],
   "source": [
    "#Escribir solucion aqui"
   ]
  }
 ],
 "metadata": {
  "colab": {
   "authorship_tag": "ABX9TyOZ53I17YwpEDL/l1hukCOi",
   "provenance": []
  },
  "kernelspec": {
   "display_name": ".venv",
   "language": "python",
   "name": "python3"
  },
  "language_info": {
   "codemirror_mode": {
    "name": "ipython",
    "version": 3
   },
   "file_extension": ".py",
   "mimetype": "text/x-python",
   "name": "python",
   "nbconvert_exporter": "python",
   "pygments_lexer": "ipython3",
   "version": "3.13.1"
  }
 },
 "nbformat": 4,
 "nbformat_minor": 0
}
