{
 "cells": [
  {
   "cell_type": "markdown",
   "id": "84eedbd4",
   "metadata": {},
   "source": [
    "# Ejercicios Python"
   ]
  },
  {
   "cell_type": "markdown",
   "id": "5faff248",
   "metadata": {},
   "source": [
    "## Ejercicio 1: Cálculo de IMC (Índice de Masa Corporal)\n",
    "\n",
    "El IMC se calcula dividiendo el peso en kilogramos por la altura en metros al cuadrado.\n",
    "\n",
    "**Fórmula:** IMC = peso / (altura²)\n",
    "\n",
    "Calcula el IMC de una persona que pesa 70.5 kg y mide 1.75 m."
   ]
  },
  {
   "cell_type": "code",
   "execution_count": null,
   "id": "5bb0cbc2",
   "metadata": {},
   "outputs": [],
   "source": [
    "# Ejercicio 1: Escribe tu código aquí"
   ]
  },
  {
   "cell_type": "markdown",
   "id": "001f6586",
   "metadata": {},
   "source": [
    "## Ejercicio 2: Conversión de Temperatura\n",
    "\n",
    "Convierte una temperatura de grados Celsius a Fahrenheit y Kelvin.\n",
    "\n",
    "**Fórmulas:**\n",
    "- Fahrenheit = (Celsius × 9/5) + 32\n",
    "- Kelvin = Celsius + 273.15\n",
    "\n",
    "Convierte 25.5°C a F.\n",
    "Convierte 150F a °C."
   ]
  },
  {
   "cell_type": "code",
   "execution_count": null,
   "id": "9a0f3fc0",
   "metadata": {},
   "outputs": [],
   "source": [
    "# Ejercicio 2: Escribe tu código aquí"
   ]
  },
  {
   "cell_type": "markdown",
   "id": "3dd213bd",
   "metadata": {},
   "source": [
    "## Ejercicio 3: Cálculo de Área y Perímetro de un Círculo\n",
    "\n",
    "Dado el radio de un círculo, calcula su área y perímetro.\n",
    "\n",
    "**Fórmulas:**\n",
    "- Área = π × r²\n",
    "- Perímetro = 2 × π × r\n",
    "\n",
    "Usar el metodo pi de la libreria math para obtener su valor  y calcula para un radio de 7.5 metros."
   ]
  },
  {
   "cell_type": "code",
   "execution_count": null,
   "id": "8e612b8a",
   "metadata": {},
   "outputs": [],
   "source": [
    "# Ejercicio 3: Escribe tu código aquí"
   ]
  },
  {
   "cell_type": "markdown",
   "id": "d607a9a8",
   "metadata": {},
   "source": [
    "## Ejercicio 4: Cálculo de Distancia entre dos Puntos\n",
    "\n",
    "Calcula la distancia euclidiana entre dos puntos en un plano cartesiano.\n",
    "\n",
    "**Fórmula:** d = √[(x₂-x₁)² + (y₂-y₁)²]\n",
    "\n",
    "Calcula la distancia entre los puntos A(3.5, 2.8) y B(7.2, 6.1).\n",
    "\n",
    "*Pista: math.sqrt() para obtener aplicar la raiz cuadrada"
   ]
  },
  {
   "cell_type": "code",
   "execution_count": null,
   "id": "ed68de1c",
   "metadata": {},
   "outputs": [],
   "source": [
    "# Ejercicio 4: Escribe tu código aquí"
   ]
  },
  {
   "cell_type": "markdown",
   "id": "b89fbd00",
   "metadata": {},
   "source": [
    "## Ejercicio 5: Cálculo de Interés Compuesto\n",
    "\n",
    "Calcula el monto final de una inversión con interés compuesto.\n",
    "\n",
    "**Fórmula:** A = P × (1 + r)ⁿ\n",
    "\n",
    "Donde:\n",
    "- A = monto final\n",
    "- P = capital inicial\n",
    "- r = tasa de interés (como decimal)\n",
    "- n = número de períodos\n",
    "\n",
    "Calcula el monto final de una inversión de $10,000 pesos al 5% anual durante 3 años."
   ]
  },
  {
   "cell_type": "code",
   "execution_count": null,
   "id": "66b1b5a5",
   "metadata": {},
   "outputs": [],
   "source": [
    "# Ejercicio 5: Escribe tu código aquí"
   ]
  },
  {
   "cell_type": "markdown",
   "id": "5ff00cce",
   "metadata": {},
   "source": [
    "## Ejercicio 6: Velocidad y Tiempo en Movimiento Rectilíneo Uniforme\n",
    "\n",
    "Un automóvil viaja a velocidad constante. Calcula el tiempo necesario para recorrer una distancia.\n",
    "\n",
    "**Fórmula:** tiempo = distancia / velocidad\n",
    "\n",
    "Un auto viaja a 85.5 km/h y debe recorrer 342 km. ¿Cuánto tiempo tardará en horas?"
   ]
  },
  {
   "cell_type": "code",
   "execution_count": null,
   "id": "847ee1de",
   "metadata": {},
   "outputs": [],
   "source": [
    "# Ejercicio 6: Escribe tu código aquí"
   ]
  },
  {
   "cell_type": "markdown",
   "id": "d6bae02a",
   "metadata": {},
   "source": [
    "## Ejercicio 7: Cálculo de Densidad\n",
    "\n",
    "La densidad es la relación entre la masa y el volumen de un objeto.\n",
    "\n",
    "**Fórmula:** densidad = masa / volumen\n",
    "\n",
    "Calcula la densidad de un objeto que tiene una masa de 2.4 kg y un volumen de 0.3 m³. Expresa el resultado en kg/m³."
   ]
  },
  {
   "cell_type": "code",
   "execution_count": null,
   "id": "3d754fa6",
   "metadata": {},
   "outputs": [],
   "source": [
    "# Ejercicio 7: Escribe tu código aquí"
   ]
  },
  {
   "cell_type": "markdown",
   "id": "6645b827",
   "metadata": {},
   "source": [
    "## Ejercicio 8: Cálculo de Energía Cinética\n",
    "\n",
    "La energía cinética es la energía que posee un objeto debido a su movimiento.\n",
    "\n",
    "**Fórmula:** Ec = (1/2) × m × v²\n",
    "\n",
    "Donde:\n",
    "- Ec = energía cinética (Joules)\n",
    "- m = masa (kg)\n",
    "- v = velocidad (m/s)\n",
    "\n",
    "Calcula la energía cinética de un objeto de 12.5 kg que se mueve a 8.2 m/s."
   ]
  },
  {
   "cell_type": "code",
   "execution_count": null,
   "id": "e98913fc",
   "metadata": {},
   "outputs": [],
   "source": [
    "# Ejercicio 8: Escribe tu código aquí"
   ]
  },
  {
   "cell_type": "markdown",
   "id": "31f69e35",
   "metadata": {},
   "source": [
    "## Ejercicio 9: Conversión de Unidades de Volumen\n",
    "\n",
    "Un tanque de agua tiene una capacidad de 2.5 metros cúbicos. Convierte esta capacidad a litros.\n",
    "\n",
    "**Conversión:** 1 m³ = 1000 litros\n",
    "\n",
    "Además, calcula cuántos bidones de 20 litros se pueden llenar completamente con esta capacidad."
   ]
  },
  {
   "cell_type": "code",
   "execution_count": null,
   "id": "84247fca",
   "metadata": {},
   "outputs": [],
   "source": [
    "# Ejercicio 9: Escribe tu código aquí"
   ]
  },
  {
   "cell_type": "markdown",
   "id": "44618699",
   "metadata": {},
   "source": [
    "## Ejercicio 10: Cálculo de pH (Potencial de Hidrógeno)\n",
    "\n",
    "El pH se calcula usando la concentración de iones hidrógeno [H⁺].\n",
    "\n",
    "**Fórmula:** pH = -log₁₀([H⁺])\n",
    "\n",
    "Para una solución con [H⁺] = 0.001 mol/L, calcula el pH.\n",
    "\n",
    "*Pista: Para el logaritmo base 10, puedes usar la aproximación: log₁₀(0.001) = log₁₀(10⁻³) = -3*"
   ]
  },
  {
   "cell_type": "code",
   "execution_count": null,
   "id": "5b2ba522",
   "metadata": {},
   "outputs": [],
   "source": [
    "# Ejercicio 10: Escribe tu código aquí"
   ]
  },
  {
   "cell_type": "markdown",
   "id": "6050bff2",
   "metadata": {},
   "source": [
    "## Soluciones\n",
    "\n",
    "A continuación se muestran las soluciones de todos los ejercicios. Intenta resolver cada ejercicio antes de ver las respuestas."
   ]
  },
  {
   "cell_type": "code",
   "execution_count": null,
   "id": "e23f933b",
   "metadata": {},
   "outputs": [],
   "source": [
    "# Solución Ejercicio 1: IMC\n",
    "peso = 70.5  # kg\n",
    "altura = 1.75  # metros\n",
    "imc = peso / (altura ** 2)\n",
    "print(f\"El IMC es: {imc:.2f} kg/m²\")"
   ]
  },
  {
   "cell_type": "code",
   "execution_count": null,
   "id": "9c95f617",
   "metadata": {},
   "outputs": [],
   "source": [
    "# Solución Ejercicio 2: Conversión de temperatura\n",
    "celsius = 25.5\n",
    "fahrenheit = (celsius * 9/5) + 32\n",
    "kelvin = celsius + 273.15\n",
    "print(f\"{celsius}°C equivale a:\")\n",
    "print(f\"Fahrenheit: {fahrenheit:.2f}°F\")\n",
    "print(f\"Kelvin: {kelvin:.2f}K\")"
   ]
  },
  {
   "cell_type": "code",
   "execution_count": null,
   "id": "2054f37d",
   "metadata": {},
   "outputs": [],
   "source": [
    "# Solución Ejercicio 3: Área y perímetro del círculo\n",
    "import math\n",
    "\n",
    "pi = math.pi\n",
    "radio = 7.5\n",
    "area = pi * (radio ** 2)\n",
    "perimetro = 2 * pi * radio\n",
    "print(f\"Para un círculo de radio {radio} metros:\")\n",
    "print(f\"Área: {area:.2f} m²\")\n",
    "print(f\"Perímetro: {perimetro:.2f} m\")"
   ]
  },
  {
   "cell_type": "code",
   "execution_count": null,
   "id": "a4fe1a7a",
   "metadata": {},
   "outputs": [],
   "source": [
    "# Solución Ejercicio 4: Distancia entre puntos\n",
    "import math\n",
    "\n",
    "x1, y1 = 3.5, 2.8\n",
    "x2, y2 = 7.2, 6.1\n",
    "distancia = math.sqrt((x2 - x1) ** 2 + (y2 - y1) ** 2)\n",
    "print(f\"La distancia entre A({x1}, {y1}) y B({x2}, {y2}) es: {distancia:.2f} unidades\")"
   ]
  },
  {
   "cell_type": "code",
   "execution_count": null,
   "id": "5300511a",
   "metadata": {},
   "outputs": [],
   "source": [
    "# Solución Ejercicio 5: Interés compuesto\n",
    "capital_inicial = 10000  # pesos\n",
    "tasa_interes = 0.05  # 5% como decimal\n",
    "años = 3\n",
    "monto_final = capital_inicial * (1 + tasa_interes) ** años\n",
    "print(f\"Inversión inicial: ${capital_inicial:,.2f}\")\n",
    "print(f\"Monto final después de {años} años: ${monto_final:,.2f}\")\n",
    "print(f\"Ganancia: ${monto_final - capital_inicial:,.2f}\")"
   ]
  },
  {
   "cell_type": "code",
   "execution_count": null,
   "id": "c27d704c",
   "metadata": {},
   "outputs": [],
   "source": [
    "# Solución Ejercicio 6: Tiempo de viaje\n",
    "velocidad = 85.5  # km/h\n",
    "distancia = 342  # km\n",
    "tiempo = distancia / velocidad\n",
    "horas = int(tiempo)\n",
    "minutos = (tiempo - horas) * 60\n",
    "print(f\"Tiempo de viaje: {tiempo:.2f} horas\")\n",
    "print(f\"Equivale a: {horas} horas y {minutos:.0f} minutos\")"
   ]
  },
  {
   "cell_type": "code",
   "execution_count": null,
   "id": "89c57cc4",
   "metadata": {},
   "outputs": [],
   "source": [
    "# Solución Ejercicio 7: Densidad\n",
    "masa = 2.4  # kg\n",
    "volumen = 0.3  # m³\n",
    "densidad = masa / volumen\n",
    "print(f\"La densidad del objeto es: {densidad:.2f} kg/m³\")"
   ]
  },
  {
   "cell_type": "code",
   "execution_count": null,
   "id": "2f967fa4",
   "metadata": {},
   "outputs": [],
   "source": [
    "# Solución Ejercicio 8: Energía cinética\n",
    "masa = 12.5  # kg\n",
    "velocidad = 8.2  # m/s\n",
    "energia_cinetica = 0.5 * masa * (velocidad ** 2)\n",
    "print(f\"La energía cinética es: {energia_cinetica:.2f} Joules\")"
   ]
  },
  {
   "cell_type": "code",
   "execution_count": null,
   "id": "1b0caf6b",
   "metadata": {},
   "outputs": [],
   "source": [
    "# Solución Ejercicio 9: Conversión de volumen\n",
    "capacidad_m3 = 2.5  # metros cúbicos\n",
    "capacidad_litros = capacidad_m3 * 1000  # conversión a litros\n",
    "capacidad_bidon = 20  # litros por bidón\n",
    "bidones_completos = capacidad_litros // capacidad_bidon  # división entera\n",
    "print(f\"Capacidad del tanque: {capacidad_litros} litros\")\n",
    "print(f\"Se pueden llenar {bidones_completos} bidones de {capacidad_bidon} litros\")"
   ]
  },
  {
   "cell_type": "code",
   "execution_count": null,
   "id": "ca9aa9be",
   "metadata": {},
   "outputs": [],
   "source": [
    "# Solución Ejercicio 10: Cálculo de pH\n",
    "concentracion_h = 0.001  # mol/L\n",
    "# log₁₀(0.001) = log₁₀(10⁻³) = -3\n",
    "log_concentracion = -3\n",
    "ph = -log_concentracion\n",
    "print(f\"Concentración de H⁺: {concentracion_h} mol/L\")\n",
    "print(f\"El pH de la solución es: {ph}\")\n",
    "print(\"Esta solución es básica (pH > 7)\")"
   ]
  }
 ],
 "metadata": {
  "language_info": {
   "name": "python"
  }
 },
 "nbformat": 4,
 "nbformat_minor": 5
}
