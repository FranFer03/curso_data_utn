{
 "cells": [
  {
   "cell_type": "code",
   "execution_count": 22,
   "id": "a3a38672",
   "metadata": {},
   "outputs": [],
   "source": [
    "import pandas as pd\n",
    "import requests"
   ]
  },
  {
   "cell_type": "code",
   "execution_count": 4,
   "id": "c98704b3",
   "metadata": {},
   "outputs": [
    {
     "data": {
      "text/html": [
       "<div>\n",
       "<style scoped>\n",
       "    .dataframe tbody tr th:only-of-type {\n",
       "        vertical-align: middle;\n",
       "    }\n",
       "\n",
       "    .dataframe tbody tr th {\n",
       "        vertical-align: top;\n",
       "    }\n",
       "\n",
       "    .dataframe thead th {\n",
       "        text-align: right;\n",
       "    }\n",
       "</style>\n",
       "<table border=\"1\" class=\"dataframe\">\n",
       "  <thead>\n",
       "    <tr style=\"text-align: right;\">\n",
       "      <th></th>\n",
       "      <th>title</th>\n",
       "      <th>magnitude</th>\n",
       "      <th>date_time</th>\n",
       "      <th>cdi</th>\n",
       "      <th>mmi</th>\n",
       "      <th>alert</th>\n",
       "      <th>tsunami</th>\n",
       "      <th>sig</th>\n",
       "      <th>net</th>\n",
       "      <th>nst</th>\n",
       "      <th>dmin</th>\n",
       "      <th>gap</th>\n",
       "      <th>magType</th>\n",
       "      <th>depth</th>\n",
       "      <th>latitude</th>\n",
       "      <th>longitude</th>\n",
       "      <th>location</th>\n",
       "      <th>continent</th>\n",
       "      <th>country</th>\n",
       "    </tr>\n",
       "  </thead>\n",
       "  <tbody>\n",
       "    <tr>\n",
       "      <th>0</th>\n",
       "      <td>M 6.5 - 42 km W of Sola, Vanuatu</td>\n",
       "      <td>6.5</td>\n",
       "      <td>16-08-2023 12:47</td>\n",
       "      <td>7</td>\n",
       "      <td>4</td>\n",
       "      <td>green</td>\n",
       "      <td>0</td>\n",
       "      <td>657</td>\n",
       "      <td>us</td>\n",
       "      <td>114</td>\n",
       "      <td>7.177</td>\n",
       "      <td>25.0</td>\n",
       "      <td>mww</td>\n",
       "      <td>192.955</td>\n",
       "      <td>-13.8814</td>\n",
       "      <td>167.1580</td>\n",
       "      <td>Sola, Vanuatu</td>\n",
       "      <td>NaN</td>\n",
       "      <td>Vanuatu</td>\n",
       "    </tr>\n",
       "    <tr>\n",
       "      <th>1</th>\n",
       "      <td>M 6.5 - 43 km S of Intipucá, El Salvador</td>\n",
       "      <td>6.5</td>\n",
       "      <td>19-07-2023 00:22</td>\n",
       "      <td>8</td>\n",
       "      <td>6</td>\n",
       "      <td>yellow</td>\n",
       "      <td>0</td>\n",
       "      <td>775</td>\n",
       "      <td>us</td>\n",
       "      <td>92</td>\n",
       "      <td>0.679</td>\n",
       "      <td>40.0</td>\n",
       "      <td>mww</td>\n",
       "      <td>69.727</td>\n",
       "      <td>12.8140</td>\n",
       "      <td>-88.1265</td>\n",
       "      <td>Intipucá, El Salvador</td>\n",
       "      <td>NaN</td>\n",
       "      <td>NaN</td>\n",
       "    </tr>\n",
       "  </tbody>\n",
       "</table>\n",
       "</div>"
      ],
      "text/plain": [
       "                                      title  magnitude         date_time  cdi  \\\n",
       "0          M 6.5 - 42 km W of Sola, Vanuatu        6.5  16-08-2023 12:47    7   \n",
       "1  M 6.5 - 43 km S of Intipucá, El Salvador        6.5  19-07-2023 00:22    8   \n",
       "\n",
       "   mmi   alert  tsunami  sig net  nst   dmin   gap magType    depth  latitude  \\\n",
       "0    4   green        0  657  us  114  7.177  25.0     mww  192.955  -13.8814   \n",
       "1    6  yellow        0  775  us   92  0.679  40.0     mww   69.727   12.8140   \n",
       "\n",
       "   longitude               location continent  country  \n",
       "0   167.1580          Sola, Vanuatu       NaN  Vanuatu  \n",
       "1   -88.1265  Intipucá, El Salvador       NaN      NaN  "
      ]
     },
     "execution_count": 4,
     "metadata": {},
     "output_type": "execute_result"
    }
   ],
   "source": [
    "df_1 = pd.read_csv('https://curso-data-science-verdadero-6to.s3.sa-east-1.amazonaws.com/csv/earthquake_1.csv')\n",
    "df_1.head(2)"
   ]
  },
  {
   "cell_type": "code",
   "execution_count": 5,
   "id": "eac7e26e",
   "metadata": {},
   "outputs": [
    {
     "name": "stdout",
     "output_type": "stream",
     "text": [
      "<class 'pandas.core.frame.DataFrame'>\n",
      "RangeIndex: 1000 entries, 0 to 999\n",
      "Data columns (total 19 columns):\n",
      " #   Column     Non-Null Count  Dtype  \n",
      "---  ------     --------------  -----  \n",
      " 0   title      1000 non-null   object \n",
      " 1   magnitude  1000 non-null   float64\n",
      " 2   date_time  1000 non-null   object \n",
      " 3   cdi        1000 non-null   int64  \n",
      " 4   mmi        1000 non-null   int64  \n",
      " 5   alert      449 non-null    object \n",
      " 6   tsunami    1000 non-null   int64  \n",
      " 7   sig        1000 non-null   int64  \n",
      " 8   net        1000 non-null   object \n",
      " 9   nst        1000 non-null   int64  \n",
      " 10  dmin       1000 non-null   float64\n",
      " 11  gap        1000 non-null   float64\n",
      " 12  magType    1000 non-null   object \n",
      " 13  depth      1000 non-null   float64\n",
      " 14  latitude   1000 non-null   float64\n",
      " 15  longitude  1000 non-null   float64\n",
      " 16  location   994 non-null    object \n",
      " 17  continent  284 non-null    object \n",
      " 18  country    651 non-null    object \n",
      "dtypes: float64(6), int64(5), object(8)\n",
      "memory usage: 148.6+ KB\n"
     ]
    }
   ],
   "source": [
    "df_1.info()"
   ]
  },
  {
   "cell_type": "code",
   "execution_count": 6,
   "id": "d12f87d8",
   "metadata": {},
   "outputs": [
    {
     "data": {
      "text/plain": [
       "title          0\n",
       "magnitude      0\n",
       "date_time      0\n",
       "cdi            0\n",
       "mmi            0\n",
       "alert        551\n",
       "tsunami        0\n",
       "sig            0\n",
       "net            0\n",
       "nst            0\n",
       "dmin           0\n",
       "gap            0\n",
       "magType        0\n",
       "depth          0\n",
       "latitude       0\n",
       "longitude      0\n",
       "location       6\n",
       "continent    716\n",
       "country      349\n",
       "dtype: int64"
      ]
     },
     "execution_count": 6,
     "metadata": {},
     "output_type": "execute_result"
    }
   ],
   "source": [
    "df_1.isnull().sum()"
   ]
  },
  {
   "cell_type": "code",
   "execution_count": 7,
   "id": "7f95ba94",
   "metadata": {},
   "outputs": [
    {
     "name": "stdout",
     "output_type": "stream",
     "text": [
      "<class 'pandas.core.frame.DataFrame'>\n",
      "RangeIndex: 1000 entries, 0 to 999\n",
      "Data columns (total 19 columns):\n",
      " #   Column     Non-Null Count  Dtype         \n",
      "---  ------     --------------  -----         \n",
      " 0   title      1000 non-null   object        \n",
      " 1   magnitude  1000 non-null   float64       \n",
      " 2   date_time  1000 non-null   datetime64[ns]\n",
      " 3   cdi        1000 non-null   int64         \n",
      " 4   mmi        1000 non-null   int64         \n",
      " 5   alert      449 non-null    object        \n",
      " 6   tsunami    1000 non-null   int64         \n",
      " 7   sig        1000 non-null   int64         \n",
      " 8   net        1000 non-null   object        \n",
      " 9   nst        1000 non-null   int64         \n",
      " 10  dmin       1000 non-null   float64       \n",
      " 11  gap        1000 non-null   float64       \n",
      " 12  magType    1000 non-null   object        \n",
      " 13  depth      1000 non-null   float64       \n",
      " 14  latitude   1000 non-null   float64       \n",
      " 15  longitude  1000 non-null   float64       \n",
      " 16  location   994 non-null    object        \n",
      " 17  continent  284 non-null    object        \n",
      " 18  country    651 non-null    object        \n",
      "dtypes: datetime64[ns](1), float64(6), int64(5), object(7)\n",
      "memory usage: 148.6+ KB\n"
     ]
    },
    {
     "name": "stderr",
     "output_type": "stream",
     "text": [
      "C:\\Users\\franf\\AppData\\Local\\Temp\\ipykernel_26092\\4157047966.py:1: UserWarning: Parsing dates in %d-%m-%Y %H:%M format when dayfirst=False (the default) was specified. Pass `dayfirst=True` or specify a format to silence this warning.\n",
      "  df_1['date_time'] = pd.to_datetime(df_1['date_time'])\n"
     ]
    }
   ],
   "source": [
    "df_1['date_time'] = pd.to_datetime(df_1['date_time'])\n",
    "df_1.info()"
   ]
  },
  {
   "cell_type": "code",
   "execution_count": 8,
   "id": "57b0d389",
   "metadata": {},
   "outputs": [
    {
     "data": {
      "text/html": [
       "<div>\n",
       "<style scoped>\n",
       "    .dataframe tbody tr th:only-of-type {\n",
       "        vertical-align: middle;\n",
       "    }\n",
       "\n",
       "    .dataframe tbody tr th {\n",
       "        vertical-align: top;\n",
       "    }\n",
       "\n",
       "    .dataframe thead th {\n",
       "        text-align: right;\n",
       "    }\n",
       "</style>\n",
       "<table border=\"1\" class=\"dataframe\">\n",
       "  <thead>\n",
       "    <tr style=\"text-align: right;\">\n",
       "      <th></th>\n",
       "      <th>title</th>\n",
       "      <th>magnitude</th>\n",
       "      <th>date_time</th>\n",
       "      <th>cdi</th>\n",
       "      <th>mmi</th>\n",
       "      <th>alert</th>\n",
       "      <th>tsunami</th>\n",
       "      <th>sig</th>\n",
       "      <th>net</th>\n",
       "      <th>nst</th>\n",
       "      <th>...</th>\n",
       "      <th>magType</th>\n",
       "      <th>depth</th>\n",
       "      <th>latitude</th>\n",
       "      <th>longitude</th>\n",
       "      <th>location</th>\n",
       "      <th>continent</th>\n",
       "      <th>country</th>\n",
       "      <th>year</th>\n",
       "      <th>month</th>\n",
       "      <th>day</th>\n",
       "    </tr>\n",
       "  </thead>\n",
       "  <tbody>\n",
       "    <tr>\n",
       "      <th>0</th>\n",
       "      <td>M 6.5 - 42 km W of Sola, Vanuatu</td>\n",
       "      <td>6.5</td>\n",
       "      <td>2023-08-16 12:47:00</td>\n",
       "      <td>7</td>\n",
       "      <td>4</td>\n",
       "      <td>green</td>\n",
       "      <td>0</td>\n",
       "      <td>657</td>\n",
       "      <td>us</td>\n",
       "      <td>114</td>\n",
       "      <td>...</td>\n",
       "      <td>mww</td>\n",
       "      <td>192.955</td>\n",
       "      <td>-13.8814</td>\n",
       "      <td>167.1580</td>\n",
       "      <td>Sola, Vanuatu</td>\n",
       "      <td>NaN</td>\n",
       "      <td>Vanuatu</td>\n",
       "      <td>2023</td>\n",
       "      <td>8</td>\n",
       "      <td>16</td>\n",
       "    </tr>\n",
       "    <tr>\n",
       "      <th>1</th>\n",
       "      <td>M 6.5 - 43 km S of Intipucá, El Salvador</td>\n",
       "      <td>6.5</td>\n",
       "      <td>2023-07-19 00:22:00</td>\n",
       "      <td>8</td>\n",
       "      <td>6</td>\n",
       "      <td>yellow</td>\n",
       "      <td>0</td>\n",
       "      <td>775</td>\n",
       "      <td>us</td>\n",
       "      <td>92</td>\n",
       "      <td>...</td>\n",
       "      <td>mww</td>\n",
       "      <td>69.727</td>\n",
       "      <td>12.8140</td>\n",
       "      <td>-88.1265</td>\n",
       "      <td>Intipucá, El Salvador</td>\n",
       "      <td>NaN</td>\n",
       "      <td>NaN</td>\n",
       "      <td>2023</td>\n",
       "      <td>7</td>\n",
       "      <td>19</td>\n",
       "    </tr>\n",
       "    <tr>\n",
       "      <th>2</th>\n",
       "      <td>M 6.6 - 25 km ESE of Loncopué, Argentina</td>\n",
       "      <td>6.6</td>\n",
       "      <td>2023-07-17 03:05:00</td>\n",
       "      <td>7</td>\n",
       "      <td>5</td>\n",
       "      <td>green</td>\n",
       "      <td>0</td>\n",
       "      <td>899</td>\n",
       "      <td>us</td>\n",
       "      <td>70</td>\n",
       "      <td>...</td>\n",
       "      <td>mww</td>\n",
       "      <td>171.371</td>\n",
       "      <td>-38.1911</td>\n",
       "      <td>-70.3731</td>\n",
       "      <td>Loncopué, Argentina</td>\n",
       "      <td>South America</td>\n",
       "      <td>Argentina</td>\n",
       "      <td>2023</td>\n",
       "      <td>7</td>\n",
       "      <td>17</td>\n",
       "    </tr>\n",
       "    <tr>\n",
       "      <th>3</th>\n",
       "      <td>M 7.2 - 98 km S of Sand Point, Alaska</td>\n",
       "      <td>7.2</td>\n",
       "      <td>2023-07-16 06:48:00</td>\n",
       "      <td>6</td>\n",
       "      <td>6</td>\n",
       "      <td>green</td>\n",
       "      <td>1</td>\n",
       "      <td>860</td>\n",
       "      <td>us</td>\n",
       "      <td>173</td>\n",
       "      <td>...</td>\n",
       "      <td>mww</td>\n",
       "      <td>32.571</td>\n",
       "      <td>54.3844</td>\n",
       "      <td>-160.6990</td>\n",
       "      <td>Sand Point, Alaska</td>\n",
       "      <td>NaN</td>\n",
       "      <td>NaN</td>\n",
       "      <td>2023</td>\n",
       "      <td>7</td>\n",
       "      <td>16</td>\n",
       "    </tr>\n",
       "    <tr>\n",
       "      <th>4</th>\n",
       "      <td>M 7.3 - Alaska Peninsula</td>\n",
       "      <td>7.3</td>\n",
       "      <td>2023-07-16 06:48:00</td>\n",
       "      <td>0</td>\n",
       "      <td>5</td>\n",
       "      <td>NaN</td>\n",
       "      <td>1</td>\n",
       "      <td>820</td>\n",
       "      <td>at</td>\n",
       "      <td>79</td>\n",
       "      <td>...</td>\n",
       "      <td>Mi</td>\n",
       "      <td>21.000</td>\n",
       "      <td>54.4900</td>\n",
       "      <td>-160.7960</td>\n",
       "      <td>Alaska Peninsula</td>\n",
       "      <td>NaN</td>\n",
       "      <td>NaN</td>\n",
       "      <td>2023</td>\n",
       "      <td>7</td>\n",
       "      <td>16</td>\n",
       "    </tr>\n",
       "  </tbody>\n",
       "</table>\n",
       "<p>5 rows × 22 columns</p>\n",
       "</div>"
      ],
      "text/plain": [
       "                                      title  magnitude           date_time  \\\n",
       "0          M 6.5 - 42 km W of Sola, Vanuatu        6.5 2023-08-16 12:47:00   \n",
       "1  M 6.5 - 43 km S of Intipucá, El Salvador        6.5 2023-07-19 00:22:00   \n",
       "2  M 6.6 - 25 km ESE of Loncopué, Argentina        6.6 2023-07-17 03:05:00   \n",
       "3     M 7.2 - 98 km S of Sand Point, Alaska        7.2 2023-07-16 06:48:00   \n",
       "4                  M 7.3 - Alaska Peninsula        7.3 2023-07-16 06:48:00   \n",
       "\n",
       "   cdi  mmi   alert  tsunami  sig net  nst  ...  magType    depth latitude  \\\n",
       "0    7    4   green        0  657  us  114  ...      mww  192.955 -13.8814   \n",
       "1    8    6  yellow        0  775  us   92  ...      mww   69.727  12.8140   \n",
       "2    7    5   green        0  899  us   70  ...      mww  171.371 -38.1911   \n",
       "3    6    6   green        1  860  us  173  ...      mww   32.571  54.3844   \n",
       "4    0    5     NaN        1  820  at   79  ...       Mi   21.000  54.4900   \n",
       "\n",
       "   longitude               location      continent    country  year month  day  \n",
       "0   167.1580          Sola, Vanuatu            NaN    Vanuatu  2023     8   16  \n",
       "1   -88.1265  Intipucá, El Salvador            NaN        NaN  2023     7   19  \n",
       "2   -70.3731    Loncopué, Argentina  South America  Argentina  2023     7   17  \n",
       "3  -160.6990     Sand Point, Alaska            NaN        NaN  2023     7   16  \n",
       "4  -160.7960       Alaska Peninsula            NaN        NaN  2023     7   16  \n",
       "\n",
       "[5 rows x 22 columns]"
      ]
     },
     "execution_count": 8,
     "metadata": {},
     "output_type": "execute_result"
    }
   ],
   "source": [
    "df_1['year'] = df_1['date_time'].dt.year\n",
    "df_1['month'] = df_1['date_time'].dt.month\n",
    "df_1['day'] = df_1['date_time'].dt.day\n",
    "df_1.head()"
   ]
  },
  {
   "cell_type": "code",
   "execution_count": 9,
   "id": "13079b0f",
   "metadata": {},
   "outputs": [
    {
     "data": {
      "text/html": [
       "<div>\n",
       "<style scoped>\n",
       "    .dataframe tbody tr th:only-of-type {\n",
       "        vertical-align: middle;\n",
       "    }\n",
       "\n",
       "    .dataframe tbody tr th {\n",
       "        vertical-align: top;\n",
       "    }\n",
       "\n",
       "    .dataframe thead th {\n",
       "        text-align: right;\n",
       "    }\n",
       "</style>\n",
       "<table border=\"1\" class=\"dataframe\">\n",
       "  <thead>\n",
       "    <tr style=\"text-align: right;\">\n",
       "      <th></th>\n",
       "      <th>title</th>\n",
       "      <th>magnitude</th>\n",
       "      <th>date_time</th>\n",
       "      <th>cdi</th>\n",
       "      <th>mmi</th>\n",
       "      <th>alert</th>\n",
       "      <th>tsunami</th>\n",
       "      <th>sig</th>\n",
       "      <th>net</th>\n",
       "      <th>nst</th>\n",
       "      <th>...</th>\n",
       "      <th>magType</th>\n",
       "      <th>depth</th>\n",
       "      <th>latitude</th>\n",
       "      <th>longitude</th>\n",
       "      <th>location</th>\n",
       "      <th>continent</th>\n",
       "      <th>country</th>\n",
       "      <th>year</th>\n",
       "      <th>month</th>\n",
       "      <th>day</th>\n",
       "    </tr>\n",
       "  </thead>\n",
       "  <tbody>\n",
       "    <tr>\n",
       "      <th>999</th>\n",
       "      <td>M 7.1 - 14 km NE of Cabatuan, Philippines</td>\n",
       "      <td>7.1</td>\n",
       "      <td>1995-05-05 03:53:00</td>\n",
       "      <td>0</td>\n",
       "      <td>7</td>\n",
       "      <td>NaN</td>\n",
       "      <td>0</td>\n",
       "      <td>776</td>\n",
       "      <td>us</td>\n",
       "      <td>0</td>\n",
       "      <td>...</td>\n",
       "      <td>mw</td>\n",
       "      <td>16.0</td>\n",
       "      <td>12.626</td>\n",
       "      <td>125.297</td>\n",
       "      <td>Cabatuan, Philippines</td>\n",
       "      <td>NaN</td>\n",
       "      <td>Philippines</td>\n",
       "      <td>1995</td>\n",
       "      <td>5</td>\n",
       "      <td>5</td>\n",
       "    </tr>\n",
       "    <tr>\n",
       "      <th>998</th>\n",
       "      <td>M 6.6 - 10 km W of Aianí, Greece</td>\n",
       "      <td>6.6</td>\n",
       "      <td>1995-05-13 08:47:00</td>\n",
       "      <td>0</td>\n",
       "      <td>9</td>\n",
       "      <td>NaN</td>\n",
       "      <td>0</td>\n",
       "      <td>670</td>\n",
       "      <td>us</td>\n",
       "      <td>0</td>\n",
       "      <td>...</td>\n",
       "      <td>mw</td>\n",
       "      <td>14.0</td>\n",
       "      <td>40.149</td>\n",
       "      <td>21.695</td>\n",
       "      <td>Aianí, Greece</td>\n",
       "      <td>Europe</td>\n",
       "      <td>Greece</td>\n",
       "      <td>1995</td>\n",
       "      <td>5</td>\n",
       "      <td>13</td>\n",
       "    </tr>\n",
       "  </tbody>\n",
       "</table>\n",
       "<p>2 rows × 22 columns</p>\n",
       "</div>"
      ],
      "text/plain": [
       "                                         title  magnitude           date_time  \\\n",
       "999  M 7.1 - 14 km NE of Cabatuan, Philippines        7.1 1995-05-05 03:53:00   \n",
       "998           M 6.6 - 10 km W of Aianí, Greece        6.6 1995-05-13 08:47:00   \n",
       "\n",
       "     cdi  mmi alert  tsunami  sig net  nst  ...  magType  depth latitude  \\\n",
       "999    0    7   NaN        0  776  us    0  ...       mw   16.0   12.626   \n",
       "998    0    9   NaN        0  670  us    0  ...       mw   14.0   40.149   \n",
       "\n",
       "     longitude               location  continent      country  year month  day  \n",
       "999    125.297  Cabatuan, Philippines        NaN  Philippines  1995     5    5  \n",
       "998     21.695          Aianí, Greece     Europe       Greece  1995     5   13  \n",
       "\n",
       "[2 rows x 22 columns]"
      ]
     },
     "execution_count": 9,
     "metadata": {},
     "output_type": "execute_result"
    }
   ],
   "source": [
    "df_1 = df_1.sort_values(by='date_time', ascending=True)\n",
    "df_1.head(2)"
   ]
  },
  {
   "cell_type": "code",
   "execution_count": 10,
   "id": "62807c75",
   "metadata": {},
   "outputs": [
    {
     "data": {
      "application/vnd.plotly.v1+json": {
       "config": {
        "plotlyServerURL": "https://plot.ly"
       },
       "data": [
        {
         "hovertemplate": "<b>Latitud:</b> %{lat}<br><b>Longitud:</b> %{lon}<br><b>%{text}</b><extra></extra>",
         "lat": {
          "bdata": "jZduEoNAKUBQjZduEhNEQKjGSzeJwSDANV66SQwCN8CNl24Sg1BKQBfZzvdTM0NAJQaBlUOLM8Ce76fGS/c1QNejcD0KVzfA8tJNYhBYE8AZBFYOLTIXwJ7vp8ZLtxXAL90kBoEVF8B1kxgEVo4UQGQ730+NFzpAgZVDi2zHMEBcj8L1KFwlwAAAAAAAAAbA001iEFg5BsBcj8L1KFwAwK5H4XoUDjNA5/up8dLtO0Dy0k1iEBg8QNejcD0K1zBADi2yne/nPMD6fmq8dNM8QL6fGi/dVEZAObTIdr6fDcDpJjEIrJwbwIcW2c73U+c/fT81XrrpSkDRItv5fko7QLbz/dR4qUZAd76fGi+tQkBQjZduEoPsv76fGi/dJOK/8tJNYhBY7b9WDi2ynS8jwNv5fmq89C9AqvHSTWJQJ0CPwvUoXM8nQClcj8L1aC3Ai2zn+6nxN8DfT42XbhIawIPAyqFF9irA1XjpJjHISUB3vp8aL71JQO58PzVeOilAPzVeukmMHMCamZmZmZkxQKjGSzeJQfA/AAAAAAAA8D99PzVeuoklwNnO91Pj5TVAkxgEVg7tIkCcxCCwcugiQLpJDAIrR0FA1XjpJjGIHMDFILByaJE+QMP1KFyP4j9AI9v5fmr8LcBcj8L1KKxBQESLbOf7yT9A0SLb+X6aRUDy0k1iEDgyQPhT46Wb1EJAYOXQItv5PUArhxbZzvceQHE9Ctej8BnAXrpJDAIrKcDTTWIQWDkmQEa28/3U+CtAmpmZmZnpQED4U+OlmzRCQOOlm8QgcDTAyXa+nxqvMkACK4cW2Q4+wBkEVg4tMiVAaJHtfD9VMEDl0CLb+X4MwJhuEoPAyg5AFK5H4XqUI0Bg5dAi2xk2wAIrhxbZ7j7ARrbz/dR4EcBGtvP91IhBQKabxCCwsitACtejcD1KLsApXI/C9chCQEJg5dAi2/M/z/dT46VrS0B7FK5H4foVwHNoke18vyxAXI/C9Sj8PsAZBFYOLbIvwH0/NV666TfAgZVDi2wnPkCcxCCwcmjhv7Kd76fGSyDAdZMYBFZONkBKDAIrh5YUwOXQItv5fso/QmDl0CK7McAhsHJokY1CQBSuR+F6FCbA46WbxCCwB8AlBoGVQ4sFwGDl0CLb+eK/pHA9CtejFUAzMzMzM3M9wBfZzvdTYyDAN4lBYOXQG8CuR+F6FK4bwMUgsHJokQDAbxKDwMqhNcD8qfHSTWISwMUgsHJocUpA2/l+ary0KcArhxbZzlc8QEoMAiuHlhVAukkMAisHSkBCYOXQIstJQFCNl24Sgz5AKVyPwvWoMMB3vp8aL10WwHnpJjEIbDXAiUFg5dCiFMAbL90kBgETwClcj8L1qBTAiUFg5dBiMkCq8dJNYpAvQDm0yHa+X0RASgwCK4cWIkDLoUW28x0wwBKDwMqhxTdAsHJoke28N0DJdr6fGg8wQKHWNO84TUFAiUFg5dBCQkAbL90kBmFEQLbz/dR46RfAgZVDi2xnGcA/NV66SWwwwC2yne+n5jLAQBNhw9OrTEDVeOkmMYgvQOF6FK5HYRvAuB6F61G4JcDNzMzMzOwwwNnO91PjhUVAx0s3iUFgF8D4U+Olm0QbwK5H4XoUrvG/PzVeukmMN8D8qfHSTeISwC/dJAaBlRLAppvEILByEsDP91PjpftPQLTIdr6fmivAPQrXo3D9T0CvlGWIY61MQLByaJHt/B7AF9nO91PzQEBt5/up8RIowPhT46WbZEhAppvEILAyMkBxPQrXo3AQwJzEILBy6B/AZDvfT43XLsDufD81XrpBQBkEVg4tMhrAqvHSTWIQE8BeukkMAiscQNejcD0K1w/AO99PjZfuFMACK4cW2U4TwJZDi2zn+xXAF9nO91NjFMC28/3UeOkUwI/C9ShcH0RATDeJQWAVRECcxCCwcshDQKwcWmQ73xDAZDvfT42XG0CgGi/dJIYaQEJg5dAi2y3A3gIJih9jTEAMAiuHFhkqQEoMAiuHFhDAJQaBlUNrN0BkO99PjVcrQLgehetRuBLAvHSTGARW9D9QjZduEpNHQARWDi2yHRDAtMh2vp8KQUCkcD0K16MdwKRwPQrXQzDAH4XrUbi+McC8dJMYBBYwwF66SQwCizHAZDvfT42HQ0AzMzMzM2NNQOXQItv5fuK/rBxaZDtfKUCcxCCwcmgQwNnO91PjpRfADAIrhxb5QUD6fmq8dLNDQE5iEFg59DdAYOXQIts5I8CamZmZmZkxwESLbOf7qTHAGQRWDi2yCcDTTWIQWElDQOF6FK5HYRXAx0s3iUFAQkBvEoPAyiEYQH0/NV66qTXAgZVDi2xHOEBcj8L1KPwwQClcj8L1iDvAkxgEVg4tKkDJdr6fGi8pwK5H4XoUzj7A46WbxCDQQUCe76fGS7cfQMHKoUW2MyxA0SLb+X5qCsDfT42XbhIqQOkmMQisHPy/kxgEVg4t+L/9h/Tb18FPQGQ730+NlwZA0m9fB87BT0C+nxov3SQTwFg5tMh2PhXACKwcWmT7JMCNl24Sg0ArQIXrUbgexTJALbKd76fGEsBKDAIrh5YgwAisHFpke0JA6SYxCKxsQ0CiRbbz/dQCQOF6FK5HYRTA5dAi2/m+S0DP91PjpZs+wDm0yHa+nw7Aarx0kxhETsBaZDvfT41GwJhuEoPA6jNAuB6F61HoREBQjZduEuNEQL6fGi/dBElAmpmZmZk5RUBeukkMAhtJQG3n+6nxUkVADi2yne/nQkBQjZduEkMzwM3MzMzMDChAbef7qfFSFsBEi2zn+wk3QIts5/up2UFAokW28/3UIEAfhetRuP48QKRwPQrXAzbA9ihcj8L1CMDsUbgehesMwFCNl24SAxDAUrgehetRDcCoxks3iUFCQAwCK4cWWSrA001iEFi5IsApXI/C9dhCwJ7vp8ZL10tAJzEIrBxa3L+gGi/dJJZBwClcj8L1iEBAZDvfT42XQEAK16NwPZpAQPT91Hjp5iXAmpmZmZnZK0Dy0k1iENgmQEjhehSuhzhAsHJoke2cQkD6fmq8dKNIQKjGSzeJQSbA5/up8dJNIMBI4XoUrscSQEoMAiuHVkfArBxaZDvfDMBU46WbxIBFQDMzMzMzc0VAaJHtfD/1MkAOLbKd76dIwFyPwvUoXApApHA9CtejG0A1XrpJDMIhQNV46SYxCEFAeekmMQgsFUAbL90kBoEswKAaL90kBhNAc2iR7Xw/FsDdJAaBlUMHQM/3U+OlGxrAnu+nxkvnQECuR+F6FK4AQOf7qfHSTfq/BoGVQ4ts+79iEFg5tMjiP23n+6nx0v8/6SYxCKz8M8BMN4lBYKVEQD0K16NwfSZAtMh2vp8a/T+uR+F6FK4fQBfZzvdTI0NADi2yne8nEsCDwMqhRbYWwHNoke18vxXAokW28/1EQUAj2/l+alw2wB1aZDvfTwFACKwcWmQLQ0BMN4lBYOUYwARWDi2yLUJARIts5/spPEArhxbZzidCQG3n+6nxUjXAw/UoXI/CDMD0/dR46YYwwLbz/dR4eU5AAiuHFtk+TkAxCKwcWgQ7wLx0kxgENjvAPQrXo3D9M8AdWmQ73y80wAIrhxbZzrc/iUFg5dBiTkBMN4lBYOUWwMUgsHJokSLAf2q8dJOYL8Bt5/up8ZJJQPCnxks3CRvAZDvfT42XMMCNl24Sg+AzQKAaL90khhfARIts5/vpKsAhsHJoke0ZwLKd76fGS0dABoGVQ4vMNUDTTWIQWPk1QMl2vp8aH0dACtejcD0K8T8lBoGVQ4vwv8uhRbbznTTAXrpJDAKrQkA730+Nl+4gwJMYBFYOrRzA001iEFg5HcDP91PjpRsrQBSuR+F6xEJAgZVDi2xnQkBg5dAi2/kGQHE9CtejMC/AVg4tsp1vF8ASg8DKocUqwF66SQwCqyPAuB6F61E4J8DufD81XroHQI2XbhKDwBHAKVyPwvUoBMAAAAAAAAAFwKAaL90kBvu/CtejcD0KAcCWQ4ts5/v/v/YoXI/C9RPA2c73U+NlRsD+1HjpJjEPwKwcWmQ7PzbAzczMzMzsNsDl0CLb+X4CwLpJDAIrBxfAL90kBoGVIMCmm8QgsHIgwGZmZmZm5iXAF9nO91PjLUBOYhBYOfQ2wMUgsHJogUPACKwcWmRbMEDjpZvEIEBCQFyPwvUoLEJAvp8aL90kBkA9CtejcD0DwBfZzvdT4wPADi2yne+nAsD2KFyPwvUBwMHKoUW2sypAH4XrUbi+QUAZBFYOLRI0wKJFtvP9FEJAjZduEoMAP0CkcD0K14NDQMP1KFyPAiZAZmZmZmbGQkAtsp3vp8ZCQC2yne+n5kNALbKd76fmPkCNl24SgwArwClcj8L1KP4/GQRWDi3yREBOYhBYOcRDQH9qvHST2CxAvHSTGARW9D/l0CLb+X7avxKDwMqhNUJA6SYxCKwc5r9KDAIrhxYPQF66SQwCCzfAQmDl0CK7MEBU46WbxKAUwKjGSzeJ4UbARIts5/sJPUBMN4lBYJVAQKabxCCwMixADAIrhxZpQEBEi2zn+6n3v1TjpZvEIB/A7nw/NV76LsAK16NwPQrnv0Jg5dAi2wPAUI2XbhIDKsBiEFg5tAgpwFYOLbKdLyrAf2q8dJOYKsDVeOkmMYgYwCuHFtnONz1ARIts5/tpIMB3vp8aLz0xwL6fGi/dZDPAwcqhRbZzIcA3iUFg5ZAhwH0/NV66CSLA+n5qvHRTREDFILByaHEyQK5H4XoU7jlAVg4tsp0PQsBt5/up8eJCwDEIrBxaJCvAhetRuB5VQsB/arx0kxgOwIXrUbgeJUHAfT81XropQcCPwvUoXN9CQLKd76fGG0LAL90kBoFVK0Cq8dJNYhADQKjGSzeJwSXAhetRuB6VQECWQ4ts5/sNQEw3iUFgZSvAoBov3SSGH0AxCKwcWmQBwG8Sg8DKoQLAGy/dJAZBJcB/arx0kwhDwHe+nxov3RfA001iEFi5F8CwcmiR7fwZQIts5/up8RXAlkOLbOf7FsDRItv5fooxwKjGSzeJQfS/iUFg5dDCRcAnMQisHNoTwBkEVg4tsjhATDeJQWDlC8AbL90kBgEYwLbz/dR4aTxAwcqhRbazM8A9CtejcC1DwFTjpZvEoDTA9P3UeOnGPEC8dJMYBDZCwHE9CtejsEHASOF6FK43Q0C8dJMYBCZDQIcW2c73I0JAgZVDi2wHQ0Boke18PxVCQAIrhxbZnkNAHVpkO9+vNEBoke18PzUxQBfZzvdTI0NA46WbxCCAQkAAAAAAAMAkwFg5tMh2PjTACtejcD36Q0BEi2zn+4k9wL6fGi/dJAzAPQrXo3BdMsACK4cW2U4ywFYOLbKdTzLAqvHSTWKQHsCyne+nxqs0wLgehetRuAdAbef7qfEiREB7FK5H4bo7QEjhehSuRxrAPzVeuklcQ0DHSzeJQeAswCPb+X5q/DFATmIQWDk0HsCyne+nxutJQBBYObTIdgNAwcqhRbbTMcBzaJHtfP8jQLTIdr6f2klAke18PzV+MEArhxbZzvcYwJqZmZmZmUHAtMh2vp86MkAZBFYOLbI8QAAAAAAAUEDADAIrhxbZFcCsHFpkO9/5v4/C9ShcrzLAtMh2vp+aEsBmZmZmZuZIQIXrUbgehQFAukkMAitHKECsHFpkO58lQOxRuB6FKyRAd76fGi/d/j/FILByaJETwHnpJjEILCRAvp8aL91kSkDhehSuRwE3QDVeukkMQixAUrgehevxQkBvEoPAyiEawOOlm8QgsCzAd76fGi+dS0AGEhQ/xowyQD55WKg1XTTAPQrXo3A9SkA9CtejcD1KQMdLN4lBQEpAx0s3iUFASkAfhetRuD5LQA==",
          "dtype": "f8"
         },
         "lon": {
          "bdata": "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",
          "dtype": "f8"
         },
         "marker": {
          "color": {
           "bdata": "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",
           "dtype": "f8"
          },
          "colorbar": {
           "title": {
            "text": "Magnitud"
           }
          },
          "colorscale": [
           [
            0,
            "rgb(0,0,0)"
           ],
           [
            0.3333333333333333,
            "rgb(230,0,0)"
           ],
           [
            0.6666666666666666,
            "rgb(255,210,0)"
           ],
           [
            1,
            "rgb(255,255,255)"
           ]
          ],
          "line": {
           "color": "darkred",
           "width": 0.5
          },
          "opacity": 0.6,
          "size": 8
         },
         "mode": "markers",
         "text": [
          "Mag: 7.1",
          "Mag: 6.6",
          "Mag: 6.9",
          "Mag: 7.7",
          "Mag: 7.1",
          "Mag: 6.5",
          "Mag: 6.6",
          "Mag: 6.8",
          "Mag: 8.0",
          "Mag: 6.7",
          "Mag: 7.7",
          "Mag: 6.6",
          "Mag: 7.2",
          "Mag: 6.6",
          "Mag: 6.6",
          "Mag: 7.4",
          "Mag: 6.5",
          "Mag: 7.0",
          "Mag: 6.5",
          "Mag: 6.8",
          "Mag: 8.0",
          "Mag: 7.1",
          "Mag: 6.8",
          "Mag: 7.2",
          "Mag: 6.7",
          "Mag: 7.2",
          "Mag: 7.9",
          "Mag: 6.5",
          "Mag: 7.1",
          "Mag: 7.9",
          "Mag: 6.6",
          "Mag: 6.6",
          "Mag: 7.2",
          "Mag: 6.7",
          "Mag: 8.1",
          "Mag: 6.5",
          "Mag: 6.5",
          "Mag: 7.5",
          "Mag: 7.1",
          "Mag: 6.6",
          "Mag: 6.7",
          "Mag: 6.7",
          "Mag: 6.6",
          "Mag: 7.2",
          "Mag: 6.7",
          "Mag: 7.9",
          "Mag: 7.3",
          "Mag: 7.1",
          "Mag: 7.9",
          "Mag: 6.8",
          "Mag: 6.6",
          "Mag: 7.0",
          "Mag: 6.9",
          "Mag: 6.8",
          "Mag: 6.6",
          "Mag: 6.6",
          "Mag: 6.8",
          "Mag: 6.8",
          "Mag: 6.6",
          "Mag: 6.7",
          "Mag: 7.7",
          "Mag: 6.9",
          "Mag: 6.7",
          "Mag: 6.5",
          "Mag: 7.2",
          "Mag: 6.5",
          "Mag: 7.1",
          "Mag: 6.9",
          "Mag: 6.5",
          "Mag: 7.7",
          "Mag: 6.7",
          "Mag: 6.5",
          "Mag: 7.3",
          "Mag: 6.5",
          "Mag: 6.8",
          "Mag: 6.5",
          "Mag: 6.8",
          "Mag: 7.0",
          "Mag: 6.9",
          "Mag: 6.6",
          "Mag: 6.8",
          "Mag: 6.5",
          "Mag: 7.8",
          "Mag: 7.1",
          "Mag: 7.2",
          "Mag: 7.5",
          "Mag: 6.5",
          "Mag: 7.0",
          "Mag: 6.6",
          "Mag: 7.0",
          "Mag: 7.8",
          "Mag: 7.2",
          "Mag: 6.6",
          "Mag: 6.6",
          "Mag: 6.7",
          "Mag: 7.1",
          "Mag: 6.6",
          "Mag: 7.0",
          "Mag: 6.6",
          "Mag: 7.5",
          "Mag: 6.6",
          "Mag: 6.7",
          "Mag: 6.6",
          "Mag: 6.6",
          "Mag: 7.0",
          "Mag: 7.0",
          "Mag: 6.7",
          "Mag: 7.2",
          "Mag: 6.8",
          "Mag: 6.6",
          "Mag: 6.6",
          "Mag: 6.7",
          "Mag: 7.0",
          "Mag: 7.7",
          "Mag: 6.8",
          "Mag: 7.0",
          "Mag: 6.6",
          "Mag: 7.3",
          "Mag: 6.6",
          "Mag: 7.1",
          "Mag: 6.9",
          "Mag: 6.9",
          "Mag: 6.6",
          "Mag: 6.8",
          "Mag: 7.4",
          "Mag: 6.8",
          "Mag: 7.1",
          "Mag: 7.1",
          "Mag: 6.6",
          "Mag: 7.0",
          "Mag: 6.7",
          "Mag: 7.6",
          "Mag: 6.9",
          "Mag: 6.6",
          "Mag: 7.7",
          "Mag: 6.5",
          "Mag: 7.5",
          "Mag: 7.1",
          "Mag: 6.5",
          "Mag: 7.2",
          "Mag: 6.9",
          "Mag: 7.0",
          "Mag: 7.5",
          "Mag: 6.6",
          "Mag: 7.0",
          "Mag: 7.3",
          "Mag: 6.5",
          "Mag: 6.9",
          "Mag: 7.2",
          "Mag: 6.8",
          "Mag: 6.6",
          "Mag: 6.6",
          "Mag: 7.6",
          "Mag: 7.2",
          "Mag: 7.9",
          "Mag: 6.7",
          "Mag: 6.7",
          "Mag: 6.5",
          "Mag: 7.9",
          "Mag: 6.5",
          "Mag: 6.5",
          "Mag: 6.6",
          "Mag: 6.5",
          "Mag: 6.6",
          "Mag: 6.8",
          "Mag: 6.5",
          "Mag: 6.8",
          "Mag: 6.5",
          "Mag: 7.0",
          "Mag: 6.7",
          "Mag: 6.8",
          "Mag: 7.0",
          "Mag: 6.5",
          "Mag: 8.0",
          "Mag: 7.8",
          "Mag: 6.5",
          "Mag: 7.8",
          "Mag: 6.6",
          "Mag: 6.8",
          "Mag: 6.8",
          "Mag: 6.5",
          "Mag: 7.0",
          "Mag: 6.5",
          "Mag: 7.5",
          "Mag: 6.8",
          "Mag: 7.1",
          "Mag: 6.9",
          "Mag: 7.7",
          "Mag: 6.9",
          "Mag: 7.7",
          "Mag: 6.6",
          "Mag: 7.4",
          "Mag: 7.1",
          "Mag: 6.8",
          "Mag: 6.5",
          "Mag: 6.8",
          "Mag: 6.7",
          "Mag: 8.4",
          "Mag: 6.7",
          "Mag: 6.6",
          "Mag: 7.6",
          "Mag: 6.5",
          "Mag: 6.6",
          "Mag: 6.5",
          "Mag: 7.0",
          "Mag: 7.5",
          "Mag: 7.0",
          "Mag: 7.8",
          "Mag: 6.5",
          "Mag: 6.8",
          "Mag: 6.8",
          "Mag: 7.2",
          "Mag: 6.6",
          "Mag: 6.7",
          "Mag: 6.5",
          "Mag: 6.6",
          "Mag: 7.4",
          "Mag: 7.5",
          "Mag: 6.5",
          "Mag: 7.1",
          "Mag: 6.8",
          "Mag: 6.7",
          "Mag: 7.1",
          "Mag: 6.7",
          "Mag: 6.6",
          "Mag: 6.5",
          "Mag: 6.5",
          "Mag: 6.5",
          "Mag: 7.6",
          "Mag: 6.5",
          "Mag: 7.6",
          "Mag: 6.7",
          "Mag: 6.6",
          "Mag: 7.4",
          "Mag: 7.9",
          "Mag: 6.7",
          "Mag: 6.7",
          "Mag: 7.3",
          "Mag: 6.5",
          "Mag: 7.6",
          "Mag: 6.8",
          "Mag: 6.5",
          "Mag: 6.8",
          "Mag: 7.0",
          "Mag: 7.0",
          "Mag: 6.6",
          "Mag: 6.9",
          "Mag: 6.8",
          "Mag: 6.5",
          "Mag: 7.6",
          "Mag: 7.2",
          "Mag: 6.6",
          "Mag: 8.2",
          "Mag: 7.4",
          "Mag: 7.3",
          "Mag: 6.5",
          "Mag: 6.7",
          "Mag: 6.7",
          "Mag: 7.0",
          "Mag: 6.6",
          "Mag: 6.5",
          "Mag: 6.6",
          "Mag: 6.8",
          "Mag: 6.5",
          "Mag: 6.5",
          "Mag: 6.6",
          "Mag: 7.3",
          "Mag: 6.7",
          "Mag: 7.0",
          "Mag: 7.3",
          "Mag: 6.7",
          "Mag: 6.6",
          "Mag: 6.5",
          "Mag: 6.7",
          "Mag: 6.6",
          "Mag: 6.9",
          "Mag: 6.5",
          "Mag: 6.5",
          "Mag: 7.2",
          "Mag: 7.4",
          "Mag: 6.6",
          "Mag: 6.8",
          "Mag: 6.5",
          "Mag: 7.0",
          "Mag: 6.7",
          "Mag: 6.6",
          "Mag: 6.7",
          "Mag: 6.7",
          "Mag: 7.5",
          "Mag: 7.2",
          "Mag: 7.1",
          "Mag: 7.1",
          "Mag: 7.0",
          "Mag: 6.8",
          "Mag: 6.8",
          "Mag: 8.1",
          "Mag: 9.1",
          "Mag: 7.2",
          "Mag: 6.6",
          "Mag: 6.6",
          "Mag: 7.1",
          "Mag: 6.7",
          "Mag: 6.5",
          "Mag: 6.5",
          "Mag: 6.8",
          "Mag: 7.1",
          "Mag: 6.6",
          "Mag: 8.6",
          "Mag: 6.7",
          "Mag: 6.5",
          "Mag: 6.7",
          "Mag: 6.9",
          "Mag: 7.8",
          "Mag: 7.2",
          "Mag: 6.6",
          "Mag: 6.7",
          "Mag: 7.2",
          "Mag: 7.2",
          "Mag: 7.6",
          "Mag: 7.5",
          "Mag: 6.6",
          "Mag: 7.6",
          "Mag: 6.8",
          "Mag: 6.5",
          "Mag: 6.5",
          "Mag: 6.8",
          "Mag: 6.5",
          "Mag: 6.6",
          "Mag: 6.7",
          "Mag: 7.0",
          "Mag: 6.7",
          "Mag: 6.5",
          "Mag: 7.6",
          "Mag: 6.6",
          "Mag: 6.7",
          "Mag: 6.5",
          "Mag: 8.0",
          "Mag: 8.0",
          "Mag: 6.8",
          "Mag: 6.6",
          "Mag: 6.5",
          "Mag: 7.7",
          "Mag: 6.8",
          "Mag: 6.5",
          "Mag: 6.8",
          "Mag: 6.9",
          "Mag: 6.7",
          "Mag: 6.7",
          "Mag: 6.7",
          "Mag: 6.6",
          "Mag: 8.3",
          "Mag: 7.1",
          "Mag: 6.9",
          "Mag: 8.1",
          "Mag: 7.5",
          "Mag: 6.7",
          "Mag: 7.1",
          "Mag: 6.7",
          "Mag: 8.1",
          "Mag: 6.6",
          "Mag: 6.9",
          "Mag: 6.7",
          "Mag: 6.6",
          "Mag: 6.8",
          "Mag: 6.9",
          "Mag: 7.2",
          "Mag: 7.5",
          "Mag: 8.0",
          "Mag: 6.5",
          "Mag: 7.2",
          "Mag: 6.8",
          "Mag: 8.4",
          "Mag: 7.8",
          "Mag: 7.9",
          "Mag: 6.5",
          "Mag: 7.0",
          "Mag: 6.7",
          "Mag: 6.8",
          "Mag: 6.8",
          "Mag: 6.8",
          "Mag: 7.7",
          "Mag: 6.8",
          "Mag: 6.8",
          "Mag: 6.8",
          "Mag: 6.5",
          "Mag: 6.5",
          "Mag: 6.6",
          "Mag: 7.4",
          "Mag: 6.7",
          "Mag: 6.6",
          "Mag: 6.5",
          "Mag: 6.9",
          "Mag: 6.5",
          "Mag: 7.4",
          "Mag: 6.5",
          "Mag: 7.2",
          "Mag: 6.6",
          "Mag: 6.7",
          "Mag: 6.9",
          "Mag: 7.2",
          "Mag: 7.3",
          "Mag: 6.9",
          "Mag: 7.9",
          "Mag: 6.9",
          "Mag: 6.6",
          "Mag: 6.9",
          "Mag: 7.0",
          "Mag: 6.8",
          "Mag: 6.7",
          "Mag: 6.9",
          "Mag: 6.6",
          "Mag: 6.8",
          "Mag: 6.7",
          "Mag: 6.7",
          "Mag: 7.4",
          "Mag: 7.7",
          "Mag: 6.6",
          "Mag: 7.4",
          "Mag: 7.2",
          "Mag: 7.6",
          "Mag: 7.3",
          "Mag: 6.7",
          "Mag: 7.8",
          "Mag: 6.9",
          "Mag: 7.1",
          "Mag: 7.5",
          "Mag: 6.6",
          "Mag: 6.7",
          "Mag: 7.0",
          "Mag: 8.1",
          "Mag: 7.6",
          "Mag: 6.6",
          "Mag: 7.7",
          "Mag: 7.8",
          "Mag: 7.4",
          "Mag: 6.8",
          "Mag: 6.9",
          "Mag: 6.8",
          "Mag: 6.6",
          "Mag: 7.3",
          "Mag: 6.5",
          "Mag: 6.6",
          "Mag: 7.1",
          "Mag: 6.8",
          "Mag: 6.5",
          "Mag: 7.0",
          "Mag: 7.0",
          "Mag: 8.8",
          "Mag: 7.4",
          "Mag: 6.5",
          "Mag: 6.6",
          "Mag: 6.8",
          "Mag: 6.9",
          "Mag: 7.0",
          "Mag: 6.5",
          "Mag: 6.7",
          "Mag: 6.6",
          "Mag: 7.8",
          "Mag: 6.9",
          "Mag: 6.9",
          "Mag: 7.2",
          "Mag: 7.2",
          "Mag: 7.5",
          "Mag: 7.0",
          "Mag: 6.6",
          "Mag: 6.7",
          "Mag: 6.6",
          "Mag: 6.9",
          "Mag: 7.3",
          "Mag: 7.6",
          "Mag: 6.5",
          "Mag: 7.0",
          "Mag: 7.3",
          "Mag: 7.1",
          "Mag: 7.0",
          "Mag: 7.0",
          "Mag: 6.7",
          "Mag: 7.8",
          "Mag: 6.6",
          "Mag: 6.7",
          "Mag: 7.3",
          "Mag: 7.2",
          "Mag: 7.0",
          "Mag: 7.2",
          "Mag: 6.9",
          "Mag: 6.7",
          "Mag: 7.3",
          "Mag: 9.1",
          "Mag: 7.9",
          "Mag: 7.7",
          "Mag: 6.5",
          "Mag: 6.6",
          "Mag: 6.9",
          "Mag: 6.6",
          "Mag: 7.1",
          "Mag: 6.6",
          "Mag: 6.8",
          "Mag: 6.8",
          "Mag: 6.7",
          "Mag: 7.6",
          "Mag: 6.6",
          "Mag: 7.2",
          "Mag: 6.5",
          "Mag: 7.1",
          "Mag: 7.0",
          "Mag: 7.0",
          "Mag: 6.7",
          "Mag: 6.7",
          "Mag: 6.9",
          "Mag: 6.5",
          "Mag: 7.1",
          "Mag: 6.9",
          "Mag: 6.5",
          "Mag: 7.1",
          "Mag: 6.6",
          "Mag: 7.2",
          "Mag: 7.1",
          "Mag: 6.7",
          "Mag: 6.7",
          "Mag: 7.4",
          "Mag: 6.6",
          "Mag: 7.1",
          "Mag: 6.5",
          "Mag: 7.0",
          "Mag: 6.7",
          "Mag: 6.8",
          "Mag: 6.7",
          "Mag: 6.6",
          "Mag: 6.5",
          "Mag: 7.7",
          "Mag: 6.6",
          "Mag: 7.3",
          "Mag: 7.6",
          "Mag: 7.6",
          "Mag: 7.3",
          "Mag: 6.6",
          "Mag: 6.5",
          "Mag: 7.8",
          "Mag: 6.8",
          "Mag: 6.5",
          "Mag: 7.3",
          "Mag: 7.1",
          "Mag: 6.7",
          "Mag: 7.5",
          "Mag: 7.1",
          "Mag: 6.6",
          "Mag: 6.7",
          "Mag: 6.7",
          "Mag: 6.5",
          "Mag: 6.5",
          "Mag: 7.3"
         ],
         "type": "scattergeo"
        }
       ],
       "layout": {
        "geo": {
         "oceancolor": "lightblue",
         "projection": {
          "type": "natural earth"
         },
         "showcoastlines": true,
         "showframe": true,
         "showocean": true
        },
        "height": 600,
        "template": {
         "data": {
          "bar": [
           {
            "error_x": {
             "color": "#2a3f5f"
            },
            "error_y": {
             "color": "#2a3f5f"
            },
            "marker": {
             "line": {
              "color": "#E5ECF6",
              "width": 0.5
             },
             "pattern": {
              "fillmode": "overlay",
              "size": 10,
              "solidity": 0.2
             }
            },
            "type": "bar"
           }
          ],
          "barpolar": [
           {
            "marker": {
             "line": {
              "color": "#E5ECF6",
              "width": 0.5
             },
             "pattern": {
              "fillmode": "overlay",
              "size": 10,
              "solidity": 0.2
             }
            },
            "type": "barpolar"
           }
          ],
          "carpet": [
           {
            "aaxis": {
             "endlinecolor": "#2a3f5f",
             "gridcolor": "white",
             "linecolor": "white",
             "minorgridcolor": "white",
             "startlinecolor": "#2a3f5f"
            },
            "baxis": {
             "endlinecolor": "#2a3f5f",
             "gridcolor": "white",
             "linecolor": "white",
             "minorgridcolor": "white",
             "startlinecolor": "#2a3f5f"
            },
            "type": "carpet"
           }
          ],
          "choropleth": [
           {
            "colorbar": {
             "outlinewidth": 0,
             "ticks": ""
            },
            "type": "choropleth"
           }
          ],
          "contour": [
           {
            "colorbar": {
             "outlinewidth": 0,
             "ticks": ""
            },
            "colorscale": [
             [
              0,
              "#0d0887"
             ],
             [
              0.1111111111111111,
              "#46039f"
             ],
             [
              0.2222222222222222,
              "#7201a8"
             ],
             [
              0.3333333333333333,
              "#9c179e"
             ],
             [
              0.4444444444444444,
              "#bd3786"
             ],
             [
              0.5555555555555556,
              "#d8576b"
             ],
             [
              0.6666666666666666,
              "#ed7953"
             ],
             [
              0.7777777777777778,
              "#fb9f3a"
             ],
             [
              0.8888888888888888,
              "#fdca26"
             ],
             [
              1,
              "#f0f921"
             ]
            ],
            "type": "contour"
           }
          ],
          "contourcarpet": [
           {
            "colorbar": {
             "outlinewidth": 0,
             "ticks": ""
            },
            "type": "contourcarpet"
           }
          ],
          "heatmap": [
           {
            "colorbar": {
             "outlinewidth": 0,
             "ticks": ""
            },
            "colorscale": [
             [
              0,
              "#0d0887"
             ],
             [
              0.1111111111111111,
              "#46039f"
             ],
             [
              0.2222222222222222,
              "#7201a8"
             ],
             [
              0.3333333333333333,
              "#9c179e"
             ],
             [
              0.4444444444444444,
              "#bd3786"
             ],
             [
              0.5555555555555556,
              "#d8576b"
             ],
             [
              0.6666666666666666,
              "#ed7953"
             ],
             [
              0.7777777777777778,
              "#fb9f3a"
             ],
             [
              0.8888888888888888,
              "#fdca26"
             ],
             [
              1,
              "#f0f921"
             ]
            ],
            "type": "heatmap"
           }
          ],
          "histogram": [
           {
            "marker": {
             "pattern": {
              "fillmode": "overlay",
              "size": 10,
              "solidity": 0.2
             }
            },
            "type": "histogram"
           }
          ],
          "histogram2d": [
           {
            "colorbar": {
             "outlinewidth": 0,
             "ticks": ""
            },
            "colorscale": [
             [
              0,
              "#0d0887"
             ],
             [
              0.1111111111111111,
              "#46039f"
             ],
             [
              0.2222222222222222,
              "#7201a8"
             ],
             [
              0.3333333333333333,
              "#9c179e"
             ],
             [
              0.4444444444444444,
              "#bd3786"
             ],
             [
              0.5555555555555556,
              "#d8576b"
             ],
             [
              0.6666666666666666,
              "#ed7953"
             ],
             [
              0.7777777777777778,
              "#fb9f3a"
             ],
             [
              0.8888888888888888,
              "#fdca26"
             ],
             [
              1,
              "#f0f921"
             ]
            ],
            "type": "histogram2d"
           }
          ],
          "histogram2dcontour": [
           {
            "colorbar": {
             "outlinewidth": 0,
             "ticks": ""
            },
            "colorscale": [
             [
              0,
              "#0d0887"
             ],
             [
              0.1111111111111111,
              "#46039f"
             ],
             [
              0.2222222222222222,
              "#7201a8"
             ],
             [
              0.3333333333333333,
              "#9c179e"
             ],
             [
              0.4444444444444444,
              "#bd3786"
             ],
             [
              0.5555555555555556,
              "#d8576b"
             ],
             [
              0.6666666666666666,
              "#ed7953"
             ],
             [
              0.7777777777777778,
              "#fb9f3a"
             ],
             [
              0.8888888888888888,
              "#fdca26"
             ],
             [
              1,
              "#f0f921"
             ]
            ],
            "type": "histogram2dcontour"
           }
          ],
          "mesh3d": [
           {
            "colorbar": {
             "outlinewidth": 0,
             "ticks": ""
            },
            "type": "mesh3d"
           }
          ],
          "parcoords": [
           {
            "line": {
             "colorbar": {
              "outlinewidth": 0,
              "ticks": ""
             }
            },
            "type": "parcoords"
           }
          ],
          "pie": [
           {
            "automargin": true,
            "type": "pie"
           }
          ],
          "scatter": [
           {
            "fillpattern": {
             "fillmode": "overlay",
             "size": 10,
             "solidity": 0.2
            },
            "type": "scatter"
           }
          ],
          "scatter3d": [
           {
            "line": {
             "colorbar": {
              "outlinewidth": 0,
              "ticks": ""
             }
            },
            "marker": {
             "colorbar": {
              "outlinewidth": 0,
              "ticks": ""
             }
            },
            "type": "scatter3d"
           }
          ],
          "scattercarpet": [
           {
            "marker": {
             "colorbar": {
              "outlinewidth": 0,
              "ticks": ""
             }
            },
            "type": "scattercarpet"
           }
          ],
          "scattergeo": [
           {
            "marker": {
             "colorbar": {
              "outlinewidth": 0,
              "ticks": ""
             }
            },
            "type": "scattergeo"
           }
          ],
          "scattergl": [
           {
            "marker": {
             "colorbar": {
              "outlinewidth": 0,
              "ticks": ""
             }
            },
            "type": "scattergl"
           }
          ],
          "scattermap": [
           {
            "marker": {
             "colorbar": {
              "outlinewidth": 0,
              "ticks": ""
             }
            },
            "type": "scattermap"
           }
          ],
          "scattermapbox": [
           {
            "marker": {
             "colorbar": {
              "outlinewidth": 0,
              "ticks": ""
             }
            },
            "type": "scattermapbox"
           }
          ],
          "scatterpolar": [
           {
            "marker": {
             "colorbar": {
              "outlinewidth": 0,
              "ticks": ""
             }
            },
            "type": "scatterpolar"
           }
          ],
          "scatterpolargl": [
           {
            "marker": {
             "colorbar": {
              "outlinewidth": 0,
              "ticks": ""
             }
            },
            "type": "scatterpolargl"
           }
          ],
          "scatterternary": [
           {
            "marker": {
             "colorbar": {
              "outlinewidth": 0,
              "ticks": ""
             }
            },
            "type": "scatterternary"
           }
          ],
          "surface": [
           {
            "colorbar": {
             "outlinewidth": 0,
             "ticks": ""
            },
            "colorscale": [
             [
              0,
              "#0d0887"
             ],
             [
              0.1111111111111111,
              "#46039f"
             ],
             [
              0.2222222222222222,
              "#7201a8"
             ],
             [
              0.3333333333333333,
              "#9c179e"
             ],
             [
              0.4444444444444444,
              "#bd3786"
             ],
             [
              0.5555555555555556,
              "#d8576b"
             ],
             [
              0.6666666666666666,
              "#ed7953"
             ],
             [
              0.7777777777777778,
              "#fb9f3a"
             ],
             [
              0.8888888888888888,
              "#fdca26"
             ],
             [
              1,
              "#f0f921"
             ]
            ],
            "type": "surface"
           }
          ],
          "table": [
           {
            "cells": {
             "fill": {
              "color": "#EBF0F8"
             },
             "line": {
              "color": "white"
             }
            },
            "header": {
             "fill": {
              "color": "#C8D4E3"
             },
             "line": {
              "color": "white"
             }
            },
            "type": "table"
           }
          ]
         },
         "layout": {
          "annotationdefaults": {
           "arrowcolor": "#2a3f5f",
           "arrowhead": 0,
           "arrowwidth": 1
          },
          "autotypenumbers": "strict",
          "coloraxis": {
           "colorbar": {
            "outlinewidth": 0,
            "ticks": ""
           }
          },
          "colorscale": {
           "diverging": [
            [
             0,
             "#8e0152"
            ],
            [
             0.1,
             "#c51b7d"
            ],
            [
             0.2,
             "#de77ae"
            ],
            [
             0.3,
             "#f1b6da"
            ],
            [
             0.4,
             "#fde0ef"
            ],
            [
             0.5,
             "#f7f7f7"
            ],
            [
             0.6,
             "#e6f5d0"
            ],
            [
             0.7,
             "#b8e186"
            ],
            [
             0.8,
             "#7fbc41"
            ],
            [
             0.9,
             "#4d9221"
            ],
            [
             1,
             "#276419"
            ]
           ],
           "sequential": [
            [
             0,
             "#0d0887"
            ],
            [
             0.1111111111111111,
             "#46039f"
            ],
            [
             0.2222222222222222,
             "#7201a8"
            ],
            [
             0.3333333333333333,
             "#9c179e"
            ],
            [
             0.4444444444444444,
             "#bd3786"
            ],
            [
             0.5555555555555556,
             "#d8576b"
            ],
            [
             0.6666666666666666,
             "#ed7953"
            ],
            [
             0.7777777777777778,
             "#fb9f3a"
            ],
            [
             0.8888888888888888,
             "#fdca26"
            ],
            [
             1,
             "#f0f921"
            ]
           ],
           "sequentialminus": [
            [
             0,
             "#0d0887"
            ],
            [
             0.1111111111111111,
             "#46039f"
            ],
            [
             0.2222222222222222,
             "#7201a8"
            ],
            [
             0.3333333333333333,
             "#9c179e"
            ],
            [
             0.4444444444444444,
             "#bd3786"
            ],
            [
             0.5555555555555556,
             "#d8576b"
            ],
            [
             0.6666666666666666,
             "#ed7953"
            ],
            [
             0.7777777777777778,
             "#fb9f3a"
            ],
            [
             0.8888888888888888,
             "#fdca26"
            ],
            [
             1,
             "#f0f921"
            ]
           ]
          },
          "colorway": [
           "#636efa",
           "#EF553B",
           "#00cc96",
           "#ab63fa",
           "#FFA15A",
           "#19d3f3",
           "#FF6692",
           "#B6E880",
           "#FF97FF",
           "#FECB52"
          ],
          "font": {
           "color": "#2a3f5f"
          },
          "geo": {
           "bgcolor": "white",
           "lakecolor": "white",
           "landcolor": "#E5ECF6",
           "showlakes": true,
           "showland": true,
           "subunitcolor": "white"
          },
          "hoverlabel": {
           "align": "left"
          },
          "hovermode": "closest",
          "mapbox": {
           "style": "light"
          },
          "paper_bgcolor": "white",
          "plot_bgcolor": "#E5ECF6",
          "polar": {
           "angularaxis": {
            "gridcolor": "white",
            "linecolor": "white",
            "ticks": ""
           },
           "bgcolor": "#E5ECF6",
           "radialaxis": {
            "gridcolor": "white",
            "linecolor": "white",
            "ticks": ""
           }
          },
          "scene": {
           "xaxis": {
            "backgroundcolor": "#E5ECF6",
            "gridcolor": "white",
            "gridwidth": 2,
            "linecolor": "white",
            "showbackground": true,
            "ticks": "",
            "zerolinecolor": "white"
           },
           "yaxis": {
            "backgroundcolor": "#E5ECF6",
            "gridcolor": "white",
            "gridwidth": 2,
            "linecolor": "white",
            "showbackground": true,
            "ticks": "",
            "zerolinecolor": "white"
           },
           "zaxis": {
            "backgroundcolor": "#E5ECF6",
            "gridcolor": "white",
            "gridwidth": 2,
            "linecolor": "white",
            "showbackground": true,
            "ticks": "",
            "zerolinecolor": "white"
           }
          },
          "shapedefaults": {
           "line": {
            "color": "#2a3f5f"
           }
          },
          "ternary": {
           "aaxis": {
            "gridcolor": "white",
            "linecolor": "white",
            "ticks": ""
           },
           "baxis": {
            "gridcolor": "white",
            "linecolor": "white",
            "ticks": ""
           },
           "bgcolor": "#E5ECF6",
           "caxis": {
            "gridcolor": "white",
            "linecolor": "white",
            "ticks": ""
           }
          },
          "title": {
           "x": 0.05
          },
          "xaxis": {
           "automargin": true,
           "gridcolor": "white",
           "linecolor": "white",
           "ticks": "",
           "title": {
            "standoff": 15
           },
           "zerolinecolor": "white",
           "zerolinewidth": 2
          },
          "yaxis": {
           "automargin": true,
           "gridcolor": "white",
           "linecolor": "white",
           "ticks": "",
           "title": {
            "standoff": 15
           },
           "zerolinecolor": "white",
           "zerolinewidth": 2
          }
         }
        },
        "title": {
         "text": "Mapa de Calor - Terremotos por Magnitud"
        },
        "width": 1000
       }
      }
     },
     "metadata": {},
     "output_type": "display_data"
    }
   ],
   "source": [
    "import plotly.graph_objects as go\n",
    "\n",
    "\n",
    "longitudes = df_1[ df_1['alert'].isnull() ]['longitude']\n",
    "latitudes = df_1[ df_1['alert'].isnull() ]['latitude']\n",
    "magnitudes = df_1[ df_1['alert'].isnull() ]['magnitude']\n",
    "\n",
    "fig = go.Figure(data=go.Scattergeo(\n",
    "    lon=longitudes,\n",
    "    lat=latitudes,\n",
    "    mode='markers',\n",
    "    marker=dict(\n",
    "        size=8,\n",
    "        color=magnitudes,  # Color basado en magnitud\n",
    "        colorscale='Hot',\n",
    "        opacity=0.6,\n",
    "        colorbar=dict(title=\"Magnitud\"),\n",
    "        line=dict(width=0.5, color='darkred')\n",
    "    ),\n",
    "    text=[f'Mag: {mag:.1f}' for mag in magnitudes],\n",
    "    hovertemplate='<b>Latitud:</b> %{lat}<br>' +\n",
    "                  '<b>Longitud:</b> %{lon}<br>' +\n",
    "                  '<b>%{text}</b><extra></extra>'\n",
    "))\n",
    "\n",
    "fig.update_layout(\n",
    "    title='Mapa de Calor - Terremotos por Magnitud',\n",
    "    geo=dict(\n",
    "        showframe=True,\n",
    "        showcoastlines=True,\n",
    "        showocean=True,\n",
    "        oceancolor='lightblue',\n",
    "        projection_type='natural earth'\n",
    "    ),\n",
    "    height=600,\n",
    "    width=1000\n",
    ")\n",
    "\n",
    "fig.show()"
   ]
  },
  {
   "cell_type": "code",
   "execution_count": 11,
   "id": "66bc8ba8",
   "metadata": {},
   "outputs": [
    {
     "name": "stderr",
     "output_type": "stream",
     "text": [
      "C:\\Users\\franf\\AppData\\Local\\Temp\\ipykernel_26092\\1593159683.py:1: FutureWarning:\n",
      "\n",
      "A value is trying to be set on a copy of a DataFrame or Series through chained assignment using an inplace method.\n",
      "The behavior will change in pandas 3.0. This inplace method will never work because the intermediate object on which we are setting values always behaves as a copy.\n",
      "\n",
      "For example, when doing 'df[col].method(value, inplace=True)', try using 'df.method({col: value}, inplace=True)' or df[col] = df[col].method(value) instead, to perform the operation inplace on the original object.\n",
      "\n",
      "\n",
      "\n"
     ]
    },
    {
     "data": {
      "text/html": [
       "<div>\n",
       "<style scoped>\n",
       "    .dataframe tbody tr th:only-of-type {\n",
       "        vertical-align: middle;\n",
       "    }\n",
       "\n",
       "    .dataframe tbody tr th {\n",
       "        vertical-align: top;\n",
       "    }\n",
       "\n",
       "    .dataframe thead th {\n",
       "        text-align: right;\n",
       "    }\n",
       "</style>\n",
       "<table border=\"1\" class=\"dataframe\">\n",
       "  <thead>\n",
       "    <tr style=\"text-align: right;\">\n",
       "      <th></th>\n",
       "      <th>title</th>\n",
       "      <th>magnitude</th>\n",
       "      <th>date_time</th>\n",
       "      <th>cdi</th>\n",
       "      <th>mmi</th>\n",
       "      <th>alert</th>\n",
       "      <th>tsunami</th>\n",
       "      <th>sig</th>\n",
       "      <th>net</th>\n",
       "      <th>nst</th>\n",
       "      <th>...</th>\n",
       "      <th>magType</th>\n",
       "      <th>depth</th>\n",
       "      <th>latitude</th>\n",
       "      <th>longitude</th>\n",
       "      <th>location</th>\n",
       "      <th>continent</th>\n",
       "      <th>country</th>\n",
       "      <th>year</th>\n",
       "      <th>month</th>\n",
       "      <th>day</th>\n",
       "    </tr>\n",
       "  </thead>\n",
       "  <tbody>\n",
       "    <tr>\n",
       "      <th>999</th>\n",
       "      <td>M 7.1 - 14 km NE of Cabatuan, Philippines</td>\n",
       "      <td>7.1</td>\n",
       "      <td>1995-05-05 03:53:00</td>\n",
       "      <td>0</td>\n",
       "      <td>7</td>\n",
       "      <td>No alert</td>\n",
       "      <td>0</td>\n",
       "      <td>776</td>\n",
       "      <td>us</td>\n",
       "      <td>0</td>\n",
       "      <td>...</td>\n",
       "      <td>mw</td>\n",
       "      <td>16.0</td>\n",
       "      <td>12.626</td>\n",
       "      <td>125.297</td>\n",
       "      <td>Cabatuan, Philippines</td>\n",
       "      <td>NaN</td>\n",
       "      <td>Philippines</td>\n",
       "      <td>1995</td>\n",
       "      <td>5</td>\n",
       "      <td>5</td>\n",
       "    </tr>\n",
       "    <tr>\n",
       "      <th>998</th>\n",
       "      <td>M 6.6 - 10 km W of Aianí, Greece</td>\n",
       "      <td>6.6</td>\n",
       "      <td>1995-05-13 08:47:00</td>\n",
       "      <td>0</td>\n",
       "      <td>9</td>\n",
       "      <td>No alert</td>\n",
       "      <td>0</td>\n",
       "      <td>670</td>\n",
       "      <td>us</td>\n",
       "      <td>0</td>\n",
       "      <td>...</td>\n",
       "      <td>mw</td>\n",
       "      <td>14.0</td>\n",
       "      <td>40.149</td>\n",
       "      <td>21.695</td>\n",
       "      <td>Aianí, Greece</td>\n",
       "      <td>Europe</td>\n",
       "      <td>Greece</td>\n",
       "      <td>1995</td>\n",
       "      <td>5</td>\n",
       "      <td>13</td>\n",
       "    </tr>\n",
       "  </tbody>\n",
       "</table>\n",
       "<p>2 rows × 22 columns</p>\n",
       "</div>"
      ],
      "text/plain": [
       "                                         title  magnitude           date_time  \\\n",
       "999  M 7.1 - 14 km NE of Cabatuan, Philippines        7.1 1995-05-05 03:53:00   \n",
       "998           M 6.6 - 10 km W of Aianí, Greece        6.6 1995-05-13 08:47:00   \n",
       "\n",
       "     cdi  mmi     alert  tsunami  sig net  nst  ...  magType  depth latitude  \\\n",
       "999    0    7  No alert        0  776  us    0  ...       mw   16.0   12.626   \n",
       "998    0    9  No alert        0  670  us    0  ...       mw   14.0   40.149   \n",
       "\n",
       "     longitude               location  continent      country  year month  day  \n",
       "999    125.297  Cabatuan, Philippines        NaN  Philippines  1995     5    5  \n",
       "998     21.695          Aianí, Greece     Europe       Greece  1995     5   13  \n",
       "\n",
       "[2 rows x 22 columns]"
      ]
     },
     "execution_count": 11,
     "metadata": {},
     "output_type": "execute_result"
    }
   ],
   "source": [
    "df_1['alert'].fillna('No alert',inplace=True)\n",
    "df_1.head(2)"
   ]
  },
  {
   "cell_type": "markdown",
   "id": "920d48d3",
   "metadata": {},
   "source": [
    "Aquellos valores que no tiene valor fueron rellenado como no alertados segun el criterio asignacion de alerta, mas especificamente por el apartado de la densidad poblacional."
   ]
  },
  {
   "cell_type": "code",
   "execution_count": 12,
   "id": "2dc3b40d",
   "metadata": {},
   "outputs": [
    {
     "data": {
      "text/plain": [
       "title          0\n",
       "magnitude      0\n",
       "date_time      0\n",
       "cdi            0\n",
       "mmi            0\n",
       "alert          0\n",
       "tsunami        0\n",
       "sig            0\n",
       "net            0\n",
       "nst            0\n",
       "dmin           0\n",
       "gap            0\n",
       "magType        0\n",
       "depth          0\n",
       "latitude       0\n",
       "longitude      0\n",
       "location       6\n",
       "continent    716\n",
       "country      349\n",
       "year           0\n",
       "month          0\n",
       "day            0\n",
       "dtype: int64"
      ]
     },
     "execution_count": 12,
     "metadata": {},
     "output_type": "execute_result"
    }
   ],
   "source": [
    "df_1.isnull().sum()"
   ]
  },
  {
   "cell_type": "code",
   "execution_count": 26,
   "id": "6124f36e",
   "metadata": {},
   "outputs": [],
   "source": [
    "API_KEY = '4371658c2bfa486c88194f1490e8da65'    \n"
   ]
  },
  {
   "cell_type": "code",
   "execution_count": null,
   "id": "17d0de90",
   "metadata": {},
   "outputs": [
    {
     "name": "stdout",
     "output_type": "stream",
     "text": [
      "Procesando 50 registros...\n",
      "Procesado: 10 registros\n",
      "Procesado: 20 registros\n",
      "Procesado: 30 registros\n",
      "Procesado: 40 registros\n",
      "Procesado: 50 registros\n",
      "\n",
      "Primeros registros con información de ubicación:\n",
      "     latitude  longitude      continent           country\n",
      "478   -6.2420    145.955        Oceania  Papua New Guinea\n",
      "262   40.4535   -126.194        Unknown           Unknown\n",
      "259  -10.7490    161.132        Unknown           Unknown\n",
      "339   -5.2005    151.777        Oceania  Papua New Guinea\n",
      "588   41.8920    143.754        Unknown           Unknown\n",
      "321   24.9130   -109.623        Unknown           Unknown\n",
      "373  -29.9379   -177.516        Unknown           Unknown\n",
      "486   17.9860    -99.789  North America            Mexico\n",
      "140   48.9638    157.695        Unknown           Unknown\n",
      "863   16.0590    -96.931  North America            Mexico\n"
     ]
    }
   ],
   "source": [
    "import time\n",
    "\n",
    "def get_continent_and_country(latitude, longitude, api_key):\n",
    "    \"\"\"\n",
    "    Obtiene el continente y país a partir de coordenadas usando OpenCage API\n",
    "    \"\"\"\n",
    "    url = f'https://api.opencagedata.com/geocode/v1/json?q={latitude}%2C+{longitude}&key={api_key}'\n",
    "    \n",
    "    try:\n",
    "        response = requests.get(url)\n",
    "        if response.status_code == 200:\n",
    "            data = response.json()\n",
    "            if data['results']:\n",
    "                components = data['results'][0]['components']\n",
    "                \n",
    "                # Extraer país\n",
    "                country = components.get('country', 'Unknown')\n",
    "                \n",
    "                # Extraer continente\n",
    "                continent = components.get('continent', 'Unknown')\n",
    "                \n",
    "                return continent, country\n",
    "            else:\n",
    "                return 'Unknown', 'Unknown'\n",
    "        else:\n",
    "            return 'Unknown', 'Unknown'\n",
    "    except Exception as e:\n",
    "        print(f\"Error para coordenadas ({latitude}, {longitude}): {e}\")\n",
    "        return 'Unknown', 'Unknown'\n",
    "\n",
    "# Función para aplicar a un subset del DataFrame (para evitar límites de API)\n",
    "def add_location_info(df, api_key, sample_size=100):\n",
    "    \"\"\"\n",
    "    Agrega información de continente y país al DataFrame\n",
    "    \"\"\"\n",
    "    # Crear una muestra para evitar exceder límites de API\n",
    "    df_sample = df.sample(n=min(sample_size, len(df)), random_state=42).copy()\n",
    "    \n",
    "    continents = []\n",
    "    countries = []\n",
    "    \n",
    "    print(f\"Procesando {len(df_sample)} registros...\")\n",
    "    \n",
    "    for idx, row in df_sample.iterrows():\n",
    "        continent, country = get_continent_and_country(row['latitude'], row['longitude'], api_key)\n",
    "        continents.append(continent)\n",
    "        countries.append(country)\n",
    "        \n",
    "        # Pausa para evitar exceder límites de API (OpenCage permite 1 req/seg en plan gratuito)\n",
    "        time.sleep(1.1)\n",
    "        \n",
    "        if (len(continents)) % 10 == 0:\n",
    "            print(f\"Procesado: {len(continents)} registros\")\n",
    "    \n",
    "    # Agregar las columnas al DataFrame de muestra\n",
    "    df_sample['continent'] = continents\n",
    "    df_sample['country'] = countries\n",
    "    \n",
    "    return df_sample\n",
    "\n",
    "# Aplicar la función al DataFrame\n",
    "df_with_location = add_location_info(df_1, API_KEY, sample_size=30)\n",
    "\n",
    "# Mostrar resultados\n",
    "print(\"\\nPrimeros registros con información de ubicación:\")\n",
    "print(df_with_location[['latitude', 'longitude', 'continent', 'country']].head(10))"
   ]
  },
  {
   "cell_type": "code",
   "execution_count": 31,
   "id": "6723bcb6",
   "metadata": {},
   "outputs": [
    {
     "data": {
      "text/html": [
       "<div>\n",
       "<style scoped>\n",
       "    .dataframe tbody tr th:only-of-type {\n",
       "        vertical-align: middle;\n",
       "    }\n",
       "\n",
       "    .dataframe tbody tr th {\n",
       "        vertical-align: top;\n",
       "    }\n",
       "\n",
       "    .dataframe thead th {\n",
       "        text-align: right;\n",
       "    }\n",
       "</style>\n",
       "<table border=\"1\" class=\"dataframe\">\n",
       "  <thead>\n",
       "    <tr style=\"text-align: right;\">\n",
       "      <th></th>\n",
       "      <th>title</th>\n",
       "      <th>magnitude</th>\n",
       "      <th>date_time</th>\n",
       "      <th>cdi</th>\n",
       "      <th>mmi</th>\n",
       "      <th>alert</th>\n",
       "      <th>tsunami</th>\n",
       "      <th>sig</th>\n",
       "      <th>net</th>\n",
       "      <th>nst</th>\n",
       "      <th>...</th>\n",
       "      <th>magType</th>\n",
       "      <th>depth</th>\n",
       "      <th>latitude</th>\n",
       "      <th>longitude</th>\n",
       "      <th>location</th>\n",
       "      <th>continent</th>\n",
       "      <th>country</th>\n",
       "      <th>year</th>\n",
       "      <th>month</th>\n",
       "      <th>day</th>\n",
       "    </tr>\n",
       "  </thead>\n",
       "  <tbody>\n",
       "    <tr>\n",
       "      <th>478</th>\n",
       "      <td>M 6.6 - 11 km ENE of Kainantu, Papua New Guinea</td>\n",
       "      <td>6.6</td>\n",
       "      <td>2012-03-21 22:15:00</td>\n",
       "      <td>6</td>\n",
       "      <td>6</td>\n",
       "      <td>No alert</td>\n",
       "      <td>0</td>\n",
       "      <td>709</td>\n",
       "      <td>us</td>\n",
       "      <td>640</td>\n",
       "      <td>...</td>\n",
       "      <td>mww</td>\n",
       "      <td>118.00</td>\n",
       "      <td>-6.2420</td>\n",
       "      <td>145.955</td>\n",
       "      <td>Kainantu, Papua New Guinea</td>\n",
       "      <td>Oceania</td>\n",
       "      <td>Papua New Guinea</td>\n",
       "      <td>2012</td>\n",
       "      <td>3</td>\n",
       "      <td>21</td>\n",
       "    </tr>\n",
       "    <tr>\n",
       "      <th>262</th>\n",
       "      <td>M 6.6 - 164 km W of Ferndale, California</td>\n",
       "      <td>6.6</td>\n",
       "      <td>2016-12-08 14:49:00</td>\n",
       "      <td>5</td>\n",
       "      <td>4</td>\n",
       "      <td>green</td>\n",
       "      <td>1</td>\n",
       "      <td>1120</td>\n",
       "      <td>us</td>\n",
       "      <td>0</td>\n",
       "      <td>...</td>\n",
       "      <td>mww</td>\n",
       "      <td>8.45</td>\n",
       "      <td>40.4535</td>\n",
       "      <td>-126.194</td>\n",
       "      <td>Ferndale, California</td>\n",
       "      <td>Unknown</td>\n",
       "      <td>Unknown</td>\n",
       "      <td>2016</td>\n",
       "      <td>12</td>\n",
       "      <td>8</td>\n",
       "    </tr>\n",
       "  </tbody>\n",
       "</table>\n",
       "<p>2 rows × 22 columns</p>\n",
       "</div>"
      ],
      "text/plain": [
       "                                               title  magnitude  \\\n",
       "478  M 6.6 - 11 km ENE of Kainantu, Papua New Guinea        6.6   \n",
       "262         M 6.6 - 164 km W of Ferndale, California        6.6   \n",
       "\n",
       "              date_time  cdi  mmi     alert  tsunami   sig net  nst  ...  \\\n",
       "478 2012-03-21 22:15:00    6    6  No alert        0   709  us  640  ...   \n",
       "262 2016-12-08 14:49:00    5    4     green        1  1120  us    0  ...   \n",
       "\n",
       "     magType   depth latitude  longitude                    location  \\\n",
       "478      mww  118.00  -6.2420    145.955  Kainantu, Papua New Guinea   \n",
       "262      mww    8.45  40.4535   -126.194        Ferndale, California   \n",
       "\n",
       "     continent           country  year month  day  \n",
       "478    Oceania  Papua New Guinea  2012     3   21  \n",
       "262    Unknown           Unknown  2016    12    8  \n",
       "\n",
       "[2 rows x 22 columns]"
      ]
     },
     "execution_count": 31,
     "metadata": {},
     "output_type": "execute_result"
    }
   ],
   "source": [
    "df_with_location.head(2)\n"
   ]
  },
  {
   "cell_type": "code",
   "execution_count": 34,
   "id": "dcfffd07",
   "metadata": {},
   "outputs": [
    {
     "data": {
      "text/html": [
       "<div>\n",
       "<style scoped>\n",
       "    .dataframe tbody tr th:only-of-type {\n",
       "        vertical-align: middle;\n",
       "    }\n",
       "\n",
       "    .dataframe tbody tr th {\n",
       "        vertical-align: top;\n",
       "    }\n",
       "\n",
       "    .dataframe thead th {\n",
       "        text-align: right;\n",
       "    }\n",
       "</style>\n",
       "<table border=\"1\" class=\"dataframe\">\n",
       "  <thead>\n",
       "    <tr style=\"text-align: right;\">\n",
       "      <th></th>\n",
       "      <th>title</th>\n",
       "      <th>magnitude</th>\n",
       "      <th>date_time</th>\n",
       "      <th>cdi</th>\n",
       "      <th>mmi</th>\n",
       "      <th>alert</th>\n",
       "      <th>tsunami</th>\n",
       "      <th>sig</th>\n",
       "      <th>net</th>\n",
       "      <th>nst</th>\n",
       "      <th>...</th>\n",
       "      <th>magType</th>\n",
       "      <th>depth</th>\n",
       "      <th>latitude</th>\n",
       "      <th>longitude</th>\n",
       "      <th>location</th>\n",
       "      <th>continent</th>\n",
       "      <th>country</th>\n",
       "      <th>year</th>\n",
       "      <th>month</th>\n",
       "      <th>day</th>\n",
       "    </tr>\n",
       "  </thead>\n",
       "  <tbody>\n",
       "    <tr>\n",
       "      <th>999</th>\n",
       "      <td>M 7.1 - 14 km NE of Cabatuan, Philippines</td>\n",
       "      <td>7.1</td>\n",
       "      <td>1995-05-05 03:53:00</td>\n",
       "      <td>0</td>\n",
       "      <td>7</td>\n",
       "      <td>No alert</td>\n",
       "      <td>0</td>\n",
       "      <td>776</td>\n",
       "      <td>us</td>\n",
       "      <td>0</td>\n",
       "      <td>...</td>\n",
       "      <td>mw</td>\n",
       "      <td>16.0</td>\n",
       "      <td>12.626</td>\n",
       "      <td>125.297</td>\n",
       "      <td>Cabatuan, Philippines</td>\n",
       "      <td>No continent</td>\n",
       "      <td>Philippines</td>\n",
       "      <td>1995</td>\n",
       "      <td>5</td>\n",
       "      <td>5</td>\n",
       "    </tr>\n",
       "    <tr>\n",
       "      <th>998</th>\n",
       "      <td>M 6.6 - 10 km W of Aianí, Greece</td>\n",
       "      <td>6.6</td>\n",
       "      <td>1995-05-13 08:47:00</td>\n",
       "      <td>0</td>\n",
       "      <td>9</td>\n",
       "      <td>No alert</td>\n",
       "      <td>0</td>\n",
       "      <td>670</td>\n",
       "      <td>us</td>\n",
       "      <td>0</td>\n",
       "      <td>...</td>\n",
       "      <td>mw</td>\n",
       "      <td>14.0</td>\n",
       "      <td>40.149</td>\n",
       "      <td>21.695</td>\n",
       "      <td>Aianí, Greece</td>\n",
       "      <td>Europe</td>\n",
       "      <td>Greece</td>\n",
       "      <td>1995</td>\n",
       "      <td>5</td>\n",
       "      <td>13</td>\n",
       "    </tr>\n",
       "    <tr>\n",
       "      <th>997</th>\n",
       "      <td>M 6.9 - 27 km NNW of Maubara, Timor Leste</td>\n",
       "      <td>6.9</td>\n",
       "      <td>1995-05-14 11:33:00</td>\n",
       "      <td>0</td>\n",
       "      <td>6</td>\n",
       "      <td>No alert</td>\n",
       "      <td>0</td>\n",
       "      <td>732</td>\n",
       "      <td>us</td>\n",
       "      <td>0</td>\n",
       "      <td>...</td>\n",
       "      <td>mw</td>\n",
       "      <td>11.2</td>\n",
       "      <td>-8.378</td>\n",
       "      <td>125.127</td>\n",
       "      <td>Maubara, Timor Leste</td>\n",
       "      <td>NaN</td>\n",
       "      <td>Indonesia</td>\n",
       "      <td>1995</td>\n",
       "      <td>5</td>\n",
       "      <td>14</td>\n",
       "    </tr>\n",
       "    <tr>\n",
       "      <th>996</th>\n",
       "      <td>M 7.7 - 249 km E of Vao, New Caledonia</td>\n",
       "      <td>7.7</td>\n",
       "      <td>1995-05-16 20:12:00</td>\n",
       "      <td>0</td>\n",
       "      <td>4</td>\n",
       "      <td>No alert</td>\n",
       "      <td>0</td>\n",
       "      <td>912</td>\n",
       "      <td>us</td>\n",
       "      <td>0</td>\n",
       "      <td>...</td>\n",
       "      <td>mw</td>\n",
       "      <td>20.2</td>\n",
       "      <td>-23.008</td>\n",
       "      <td>169.900</td>\n",
       "      <td>Vao, New Caledonia</td>\n",
       "      <td>NaN</td>\n",
       "      <td>NaN</td>\n",
       "      <td>1995</td>\n",
       "      <td>5</td>\n",
       "      <td>16</td>\n",
       "    </tr>\n",
       "    <tr>\n",
       "      <th>995</th>\n",
       "      <td>M 7.1 - 85 km S of Tungor, Russia</td>\n",
       "      <td>7.1</td>\n",
       "      <td>1995-05-27 13:03:00</td>\n",
       "      <td>0</td>\n",
       "      <td>9</td>\n",
       "      <td>No alert</td>\n",
       "      <td>0</td>\n",
       "      <td>776</td>\n",
       "      <td>us</td>\n",
       "      <td>0</td>\n",
       "      <td>...</td>\n",
       "      <td>mwb</td>\n",
       "      <td>11.0</td>\n",
       "      <td>52.629</td>\n",
       "      <td>142.827</td>\n",
       "      <td>Tungor, Russia</td>\n",
       "      <td>Asia</td>\n",
       "      <td>Russia</td>\n",
       "      <td>1995</td>\n",
       "      <td>5</td>\n",
       "      <td>27</td>\n",
       "    </tr>\n",
       "    <tr>\n",
       "      <th>994</th>\n",
       "      <td>M 6.5 - 8 km WNW of Galaxídhion, Greece</td>\n",
       "      <td>6.5</td>\n",
       "      <td>1995-06-15 00:15:00</td>\n",
       "      <td>0</td>\n",
       "      <td>7</td>\n",
       "      <td>No alert</td>\n",
       "      <td>0</td>\n",
       "      <td>650</td>\n",
       "      <td>us</td>\n",
       "      <td>0</td>\n",
       "      <td>...</td>\n",
       "      <td>mw</td>\n",
       "      <td>14.2</td>\n",
       "      <td>38.401</td>\n",
       "      <td>22.283</td>\n",
       "      <td>Galaxídhion, Greece</td>\n",
       "      <td>Europe</td>\n",
       "      <td>Greece</td>\n",
       "      <td>1995</td>\n",
       "      <td>6</td>\n",
       "      <td>15</td>\n",
       "    </tr>\n",
       "    <tr>\n",
       "      <th>993</th>\n",
       "      <td>M 6.6 - 0 km ESE of Isangel, Vanuatu</td>\n",
       "      <td>6.6</td>\n",
       "      <td>1995-06-29 12:24:00</td>\n",
       "      <td>0</td>\n",
       "      <td>5</td>\n",
       "      <td>No alert</td>\n",
       "      <td>0</td>\n",
       "      <td>670</td>\n",
       "      <td>us</td>\n",
       "      <td>0</td>\n",
       "      <td>...</td>\n",
       "      <td>mw</td>\n",
       "      <td>139.4</td>\n",
       "      <td>-19.544</td>\n",
       "      <td>169.287</td>\n",
       "      <td>Isangel, Vanuatu</td>\n",
       "      <td>NaN</td>\n",
       "      <td>Vanuatu</td>\n",
       "      <td>1995</td>\n",
       "      <td>6</td>\n",
       "      <td>29</td>\n",
       "    </tr>\n",
       "    <tr>\n",
       "      <th>992</th>\n",
       "      <td>M 6.8 - 158 km W of Jinghong, China</td>\n",
       "      <td>6.8</td>\n",
       "      <td>1995-07-11 21:46:00</td>\n",
       "      <td>0</td>\n",
       "      <td>8</td>\n",
       "      <td>No alert</td>\n",
       "      <td>0</td>\n",
       "      <td>711</td>\n",
       "      <td>us</td>\n",
       "      <td>0</td>\n",
       "      <td>...</td>\n",
       "      <td>mw</td>\n",
       "      <td>12.5</td>\n",
       "      <td>21.966</td>\n",
       "      <td>99.196</td>\n",
       "      <td>Jinghong, China</td>\n",
       "      <td>Asia</td>\n",
       "      <td>Myanmar</td>\n",
       "      <td>1995</td>\n",
       "      <td>7</td>\n",
       "      <td>11</td>\n",
       "    </tr>\n",
       "    <tr>\n",
       "      <th>991</th>\n",
       "      <td>M 8.0 - 36 km NNE of Antofagasta, Chile</td>\n",
       "      <td>8.0</td>\n",
       "      <td>1995-07-30 05:11:00</td>\n",
       "      <td>0</td>\n",
       "      <td>8</td>\n",
       "      <td>No alert</td>\n",
       "      <td>0</td>\n",
       "      <td>985</td>\n",
       "      <td>us</td>\n",
       "      <td>0</td>\n",
       "      <td>...</td>\n",
       "      <td>mw</td>\n",
       "      <td>45.6</td>\n",
       "      <td>-23.340</td>\n",
       "      <td>-70.294</td>\n",
       "      <td>Ant</td>\n",
       "      <td>South America</td>\n",
       "      <td>Chile</td>\n",
       "      <td>1995</td>\n",
       "      <td>7</td>\n",
       "      <td>30</td>\n",
       "    </tr>\n",
       "    <tr>\n",
       "      <th>990</th>\n",
       "      <td>M 6.7 - 99 km WSW of Kokopo, Papua New Guinea</td>\n",
       "      <td>6.7</td>\n",
       "      <td>1995-08-14 04:37:00</td>\n",
       "      <td>0</td>\n",
       "      <td>6</td>\n",
       "      <td>No alert</td>\n",
       "      <td>0</td>\n",
       "      <td>691</td>\n",
       "      <td>us</td>\n",
       "      <td>0</td>\n",
       "      <td>...</td>\n",
       "      <td>mw</td>\n",
       "      <td>127.9</td>\n",
       "      <td>-4.836</td>\n",
       "      <td>151.515</td>\n",
       "      <td>Kokopo, Papua New Guinea</td>\n",
       "      <td>NaN</td>\n",
       "      <td>Papua New Guinea</td>\n",
       "      <td>1995</td>\n",
       "      <td>8</td>\n",
       "      <td>14</td>\n",
       "    </tr>\n",
       "    <tr>\n",
       "      <th>989</th>\n",
       "      <td>M 7.7 - 155 km WNW of Panguna, Papua New Guinea</td>\n",
       "      <td>7.7</td>\n",
       "      <td>1995-08-16 10:27:00</td>\n",
       "      <td>0</td>\n",
       "      <td>6</td>\n",
       "      <td>No alert</td>\n",
       "      <td>0</td>\n",
       "      <td>912</td>\n",
       "      <td>us</td>\n",
       "      <td>0</td>\n",
       "      <td>...</td>\n",
       "      <td>mw</td>\n",
       "      <td>30.1</td>\n",
       "      <td>-5.799</td>\n",
       "      <td>154.178</td>\n",
       "      <td>Panguna, Papua New Guinea</td>\n",
       "      <td>NaN</td>\n",
       "      <td>NaN</td>\n",
       "      <td>1995</td>\n",
       "      <td>8</td>\n",
       "      <td>16</td>\n",
       "    </tr>\n",
       "    <tr>\n",
       "      <th>988</th>\n",
       "      <td>M 6.6 - 205 km SE of Kokopo, Papua New Guinea</td>\n",
       "      <td>6.6</td>\n",
       "      <td>1995-08-16 16:24:00</td>\n",
       "      <td>0</td>\n",
       "      <td>4</td>\n",
       "      <td>No alert</td>\n",
       "      <td>0</td>\n",
       "      <td>670</td>\n",
       "      <td>us</td>\n",
       "      <td>0</td>\n",
       "      <td>...</td>\n",
       "      <td>mw</td>\n",
       "      <td>18.7</td>\n",
       "      <td>-5.429</td>\n",
       "      <td>153.773</td>\n",
       "      <td>Kokopo, Papua New Guinea</td>\n",
       "      <td>NaN</td>\n",
       "      <td>NaN</td>\n",
       "      <td>1995</td>\n",
       "      <td>8</td>\n",
       "      <td>16</td>\n",
       "    </tr>\n",
       "    <tr>\n",
       "      <th>987</th>\n",
       "      <td>M 7.2 - 139 km WNW of Panguna, Papua New Guinea</td>\n",
       "      <td>7.2</td>\n",
       "      <td>1995-08-16 23:10:00</td>\n",
       "      <td>0</td>\n",
       "      <td>6</td>\n",
       "      <td>No alert</td>\n",
       "      <td>0</td>\n",
       "      <td>798</td>\n",
       "      <td>us</td>\n",
       "      <td>0</td>\n",
       "      <td>...</td>\n",
       "      <td>mw</td>\n",
       "      <td>33.0</td>\n",
       "      <td>-5.771</td>\n",
       "      <td>154.347</td>\n",
       "      <td>Panguna, Papua New Guinea</td>\n",
       "      <td>NaN</td>\n",
       "      <td>NaN</td>\n",
       "      <td>1995</td>\n",
       "      <td>8</td>\n",
       "      <td>16</td>\n",
       "    </tr>\n",
       "    <tr>\n",
       "      <th>986</th>\n",
       "      <td>M 6.6 - 7 km WSW of Neira, Colombia</td>\n",
       "      <td>6.6</td>\n",
       "      <td>1995-08-19 21:43:00</td>\n",
       "      <td>0</td>\n",
       "      <td>6</td>\n",
       "      <td>No alert</td>\n",
       "      <td>0</td>\n",
       "      <td>670</td>\n",
       "      <td>us</td>\n",
       "      <td>0</td>\n",
       "      <td>...</td>\n",
       "      <td>mw</td>\n",
       "      <td>119.6</td>\n",
       "      <td>5.139</td>\n",
       "      <td>-75.577</td>\n",
       "      <td>Neira, Colombia</td>\n",
       "      <td>South America</td>\n",
       "      <td>Colombia</td>\n",
       "      <td>1995</td>\n",
       "      <td>8</td>\n",
       "      <td>19</td>\n",
       "    </tr>\n",
       "    <tr>\n",
       "      <th>985</th>\n",
       "      <td>M 6.6 - 95 km SW of Etchoropo, Mexico</td>\n",
       "      <td>6.6</td>\n",
       "      <td>1995-08-28 10:46:00</td>\n",
       "      <td>0</td>\n",
       "      <td>5</td>\n",
       "      <td>No alert</td>\n",
       "      <td>0</td>\n",
       "      <td>670</td>\n",
       "      <td>us</td>\n",
       "      <td>0</td>\n",
       "      <td>...</td>\n",
       "      <td>mwb</td>\n",
       "      <td>12.2</td>\n",
       "      <td>26.092</td>\n",
       "      <td>-110.284</td>\n",
       "      <td>Etchoropo, Mexico</td>\n",
       "      <td>NaN</td>\n",
       "      <td>NaN</td>\n",
       "      <td>1995</td>\n",
       "      <td>8</td>\n",
       "      <td>28</td>\n",
       "    </tr>\n",
       "    <tr>\n",
       "      <th>984</th>\n",
       "      <td>M 7.4 - 5 km N of Azoyú, Mexico</td>\n",
       "      <td>7.4</td>\n",
       "      <td>1995-09-14 14:04:00</td>\n",
       "      <td>0</td>\n",
       "      <td>7</td>\n",
       "      <td>No alert</td>\n",
       "      <td>0</td>\n",
       "      <td>842</td>\n",
       "      <td>us</td>\n",
       "      <td>0</td>\n",
       "      <td>...</td>\n",
       "      <td>mwb</td>\n",
       "      <td>23.0</td>\n",
       "      <td>16.779</td>\n",
       "      <td>-98.597</td>\n",
       "      <td>Azoyú, Mexico</td>\n",
       "      <td>North America</td>\n",
       "      <td>Mexico</td>\n",
       "      <td>1995</td>\n",
       "      <td>9</td>\n",
       "      <td>14</td>\n",
       "    </tr>\n",
       "    <tr>\n",
       "      <th>983</th>\n",
       "      <td>M 6.5 - 81 km W of Paramonga, Peru</td>\n",
       "      <td>6.5</td>\n",
       "      <td>1995-09-23 22:31:00</td>\n",
       "      <td>0</td>\n",
       "      <td>5</td>\n",
       "      <td>No alert</td>\n",
       "      <td>0</td>\n",
       "      <td>650</td>\n",
       "      <td>us</td>\n",
       "      <td>0</td>\n",
       "      <td>...</td>\n",
       "      <td>mwb</td>\n",
       "      <td>59.9</td>\n",
       "      <td>-10.680</td>\n",
       "      <td>-78.581</td>\n",
       "      <td>Paramonga, Peru</td>\n",
       "      <td>NaN</td>\n",
       "      <td>Peru</td>\n",
       "      <td>1995</td>\n",
       "      <td>9</td>\n",
       "      <td>23</td>\n",
       "    </tr>\n",
       "    <tr>\n",
       "      <th>982</th>\n",
       "      <td>M 7.0 - 45 km SE of Sucúa, Ecuador</td>\n",
       "      <td>7.0</td>\n",
       "      <td>1995-10-03 01:51:00</td>\n",
       "      <td>0</td>\n",
       "      <td>7</td>\n",
       "      <td>No alert</td>\n",
       "      <td>0</td>\n",
       "      <td>754</td>\n",
       "      <td>us</td>\n",
       "      <td>0</td>\n",
       "      <td>...</td>\n",
       "      <td>mw</td>\n",
       "      <td>24.4</td>\n",
       "      <td>-2.750</td>\n",
       "      <td>-77.881</td>\n",
       "      <td>Sucúa, Ecuador</td>\n",
       "      <td>South America</td>\n",
       "      <td>Ecuador</td>\n",
       "      <td>1995</td>\n",
       "      <td>10</td>\n",
       "      <td>3</td>\n",
       "    </tr>\n",
       "    <tr>\n",
       "      <th>981</th>\n",
       "      <td>M 6.5 - 50 km SE of Sucúa, Ecuador</td>\n",
       "      <td>6.5</td>\n",
       "      <td>1995-10-03 12:44:00</td>\n",
       "      <td>0</td>\n",
       "      <td>7</td>\n",
       "      <td>No alert</td>\n",
       "      <td>0</td>\n",
       "      <td>650</td>\n",
       "      <td>us</td>\n",
       "      <td>0</td>\n",
       "      <td>...</td>\n",
       "      <td>mw</td>\n",
       "      <td>16.7</td>\n",
       "      <td>-2.778</td>\n",
       "      <td>-77.851</td>\n",
       "      <td>Sucúa, Ecuador</td>\n",
       "      <td>South America</td>\n",
       "      <td>Ecuador</td>\n",
       "      <td>1995</td>\n",
       "      <td>10</td>\n",
       "      <td>3</td>\n",
       "    </tr>\n",
       "    <tr>\n",
       "      <th>980</th>\n",
       "      <td>M 6.8 - 5 km ENE of Sungai Penuh, Indonesia</td>\n",
       "      <td>6.8</td>\n",
       "      <td>1995-10-06 18:09:00</td>\n",
       "      <td>0</td>\n",
       "      <td>7</td>\n",
       "      <td>No alert</td>\n",
       "      <td>0</td>\n",
       "      <td>711</td>\n",
       "      <td>us</td>\n",
       "      <td>0</td>\n",
       "      <td>...</td>\n",
       "      <td>mw</td>\n",
       "      <td>33.0</td>\n",
       "      <td>-2.045</td>\n",
       "      <td>101.436</td>\n",
       "      <td>Sungai Penuh, Indonesia</td>\n",
       "      <td>NaN</td>\n",
       "      <td>Indonesia</td>\n",
       "      <td>1995</td>\n",
       "      <td>10</td>\n",
       "      <td>6</td>\n",
       "    </tr>\n",
       "  </tbody>\n",
       "</table>\n",
       "<p>20 rows × 22 columns</p>\n",
       "</div>"
      ],
      "text/plain": [
       "                                               title  magnitude  \\\n",
       "999        M 7.1 - 14 km NE of Cabatuan, Philippines        7.1   \n",
       "998                 M 6.6 - 10 km W of Aianí, Greece        6.6   \n",
       "997        M 6.9 - 27 km NNW of Maubara, Timor Leste        6.9   \n",
       "996           M 7.7 - 249 km E of Vao, New Caledonia        7.7   \n",
       "995                M 7.1 - 85 km S of Tungor, Russia        7.1   \n",
       "994          M 6.5 - 8 km WNW of Galaxídhion, Greece        6.5   \n",
       "993             M 6.6 - 0 km ESE of Isangel, Vanuatu        6.6   \n",
       "992              M 6.8 - 158 km W of Jinghong, China        6.8   \n",
       "991          M 8.0 - 36 km NNE of Antofagasta, Chile        8.0   \n",
       "990    M 6.7 - 99 km WSW of Kokopo, Papua New Guinea        6.7   \n",
       "989  M 7.7 - 155 km WNW of Panguna, Papua New Guinea        7.7   \n",
       "988    M 6.6 - 205 km SE of Kokopo, Papua New Guinea        6.6   \n",
       "987  M 7.2 - 139 km WNW of Panguna, Papua New Guinea        7.2   \n",
       "986              M 6.6 - 7 km WSW of Neira, Colombia        6.6   \n",
       "985            M 6.6 - 95 km SW of Etchoropo, Mexico        6.6   \n",
       "984                  M 7.4 - 5 km N of Azoyú, Mexico        7.4   \n",
       "983               M 6.5 - 81 km W of Paramonga, Peru        6.5   \n",
       "982               M 7.0 - 45 km SE of Sucúa, Ecuador        7.0   \n",
       "981               M 6.5 - 50 km SE of Sucúa, Ecuador        6.5   \n",
       "980      M 6.8 - 5 km ENE of Sungai Penuh, Indonesia        6.8   \n",
       "\n",
       "              date_time  cdi  mmi     alert  tsunami  sig net  nst  ...  \\\n",
       "999 1995-05-05 03:53:00    0    7  No alert        0  776  us    0  ...   \n",
       "998 1995-05-13 08:47:00    0    9  No alert        0  670  us    0  ...   \n",
       "997 1995-05-14 11:33:00    0    6  No alert        0  732  us    0  ...   \n",
       "996 1995-05-16 20:12:00    0    4  No alert        0  912  us    0  ...   \n",
       "995 1995-05-27 13:03:00    0    9  No alert        0  776  us    0  ...   \n",
       "994 1995-06-15 00:15:00    0    7  No alert        0  650  us    0  ...   \n",
       "993 1995-06-29 12:24:00    0    5  No alert        0  670  us    0  ...   \n",
       "992 1995-07-11 21:46:00    0    8  No alert        0  711  us    0  ...   \n",
       "991 1995-07-30 05:11:00    0    8  No alert        0  985  us    0  ...   \n",
       "990 1995-08-14 04:37:00    0    6  No alert        0  691  us    0  ...   \n",
       "989 1995-08-16 10:27:00    0    6  No alert        0  912  us    0  ...   \n",
       "988 1995-08-16 16:24:00    0    4  No alert        0  670  us    0  ...   \n",
       "987 1995-08-16 23:10:00    0    6  No alert        0  798  us    0  ...   \n",
       "986 1995-08-19 21:43:00    0    6  No alert        0  670  us    0  ...   \n",
       "985 1995-08-28 10:46:00    0    5  No alert        0  670  us    0  ...   \n",
       "984 1995-09-14 14:04:00    0    7  No alert        0  842  us    0  ...   \n",
       "983 1995-09-23 22:31:00    0    5  No alert        0  650  us    0  ...   \n",
       "982 1995-10-03 01:51:00    0    7  No alert        0  754  us    0  ...   \n",
       "981 1995-10-03 12:44:00    0    7  No alert        0  650  us    0  ...   \n",
       "980 1995-10-06 18:09:00    0    7  No alert        0  711  us    0  ...   \n",
       "\n",
       "     magType  depth latitude  longitude                   location  \\\n",
       "999       mw   16.0   12.626    125.297      Cabatuan, Philippines   \n",
       "998       mw   14.0   40.149     21.695              Aianí, Greece   \n",
       "997       mw   11.2   -8.378    125.127       Maubara, Timor Leste   \n",
       "996       mw   20.2  -23.008    169.900         Vao, New Caledonia   \n",
       "995      mwb   11.0   52.629    142.827             Tungor, Russia   \n",
       "994       mw   14.2   38.401     22.283        Galaxídhion, Greece   \n",
       "993       mw  139.4  -19.544    169.287           Isangel, Vanuatu   \n",
       "992       mw   12.5   21.966     99.196            Jinghong, China   \n",
       "991       mw   45.6  -23.340    -70.294                        Ant   \n",
       "990       mw  127.9   -4.836    151.515   Kokopo, Papua New Guinea   \n",
       "989       mw   30.1   -5.799    154.178  Panguna, Papua New Guinea   \n",
       "988       mw   18.7   -5.429    153.773   Kokopo, Papua New Guinea   \n",
       "987       mw   33.0   -5.771    154.347  Panguna, Papua New Guinea   \n",
       "986       mw  119.6    5.139    -75.577            Neira, Colombia   \n",
       "985      mwb   12.2   26.092   -110.284          Etchoropo, Mexico   \n",
       "984      mwb   23.0   16.779    -98.597              Azoyú, Mexico   \n",
       "983      mwb   59.9  -10.680    -78.581            Paramonga, Peru   \n",
       "982       mw   24.4   -2.750    -77.881             Sucúa, Ecuador   \n",
       "981       mw   16.7   -2.778    -77.851             Sucúa, Ecuador   \n",
       "980       mw   33.0   -2.045    101.436    Sungai Penuh, Indonesia   \n",
       "\n",
       "         continent           country  year month  day  \n",
       "999   No continent       Philippines  1995     5    5  \n",
       "998         Europe            Greece  1995     5   13  \n",
       "997            NaN         Indonesia  1995     5   14  \n",
       "996            NaN               NaN  1995     5   16  \n",
       "995           Asia            Russia  1995     5   27  \n",
       "994         Europe            Greece  1995     6   15  \n",
       "993            NaN           Vanuatu  1995     6   29  \n",
       "992           Asia           Myanmar  1995     7   11  \n",
       "991  South America             Chile  1995     7   30  \n",
       "990            NaN  Papua New Guinea  1995     8   14  \n",
       "989            NaN               NaN  1995     8   16  \n",
       "988            NaN               NaN  1995     8   16  \n",
       "987            NaN               NaN  1995     8   16  \n",
       "986  South America          Colombia  1995     8   19  \n",
       "985            NaN               NaN  1995     8   28  \n",
       "984  North America            Mexico  1995     9   14  \n",
       "983            NaN              Peru  1995     9   23  \n",
       "982  South America           Ecuador  1995    10    3  \n",
       "981  South America           Ecuador  1995    10    3  \n",
       "980            NaN         Indonesia  1995    10    6  \n",
       "\n",
       "[20 rows x 22 columns]"
      ]
     },
     "execution_count": 34,
     "metadata": {},
     "output_type": "execute_result"
    }
   ],
   "source": [
    "df_1.head(20)"
   ]
  },
  {
   "cell_type": "code",
   "execution_count": null,
   "id": "09c91661",
   "metadata": {},
   "outputs": [],
   "source": []
  }
 ],
 "metadata": {
  "kernelspec": {
   "display_name": "env",
   "language": "python",
   "name": "python3"
  },
  "language_info": {
   "codemirror_mode": {
    "name": "ipython",
    "version": 3
   },
   "file_extension": ".py",
   "mimetype": "text/x-python",
   "name": "python",
   "nbconvert_exporter": "python",
   "pygments_lexer": "ipython3",
   "version": "3.12.8"
  }
 },
 "nbformat": 4,
 "nbformat_minor": 5
}
