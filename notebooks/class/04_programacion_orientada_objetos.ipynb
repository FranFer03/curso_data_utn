{
 "cells": [
  {
   "cell_type": "markdown",
   "metadata": {},
   "source": [
    "# 🏗️ Programación Orientada a Objetos (POO)\n",
    "\n",
    "## 🎯 Objetivos de Aprendizaje\n",
    "\n",
    "Al finalizar este notebook, serás capaz de:\n",
    "\n",
    "- Comprender los conceptos fundamentales de la Programación Orientada a Objetos\n",
    "- Crear y utilizar clases y objetos en Python\n",
    "- Implementar atributos y métodos de clase\n",
    "- Aplicar los principios de encapsulación, herencia y polimorfismo\n",
    "- Utilizar métodos especiales (dunder methods)\n",
    "- Diseñar soluciones orientadas a objetos para problemas reales\n",
    "\n",
    "## 📚 Contenido\n",
    "\n",
    "1. **Introducción a POO**\n",
    "   - ¿Qué es la Programación Orientada a Objetos?\n",
    "   - Ventajas del paradigma OOP\n",
    "   - Conceptos fundamentales\n",
    "\n",
    "2. **Clases y Objetos**\n",
    "   - Definición de clases con `class`\n",
    "   - Creación de objetos (instancias)\n",
    "   - Atributos de instancia\n",
    "\n",
    "3. **Métodos**\n",
    "   - Definición de métodos\n",
    "   - El parámetro `self`\n",
    "   - Métodos de instancia\n",
    "\n",
    "4. **Constructor y Métodos Especiales**\n",
    "   - Método `__init__()` (constructor)\n",
    "   - Métodos `__str__()` y `__repr__()`\n",
    "   - Otros métodos especiales\n",
    "\n",
    "5. **Principios de POO**\n",
    "   - **Encapsulación**: Ocultación de datos\n",
    "   - **Herencia**: Reutilización de código\n",
    "   - **Polimorfismo**: Múltiples formas\n",
    "\n",
    "6. **Atributos y Métodos de Clase**\n",
    "   - Variables de clase vs instancia\n",
    "   - Métodos estáticos y de clase\n",
    "\n",
    "## 🛠️ Prerrequisitos\n",
    "\n",
    "- Dominio de funciones en Python\n",
    "- Comprensión de estructuras de datos básicas\n",
    "- Conocimiento de conceptos de programación procedural\n",
    "\n",
    "## 💡 Conceptos Clave\n",
    "\n",
    "- **Clase**: Plantilla o molde para crear objetos\n",
    "- **Objeto**: Instancia específica de una clase\n",
    "- **Atributo**: Característica o propiedad de un objeto\n",
    "- **Método**: Función definida dentro de una clase\n",
    "- **Encapsulación**: Principio de ocultar detalles internos\n",
    "- **Herencia**: Mecanismo para crear nuevas clases basadas en existentes\n",
    "- **Polimorfismo**: Capacidad de objetos de diferentes clases de responder a la misma interfaz\n",
    "\n",
    "## 🎨 Analogía\n",
    "\n",
    "Piensa en una **clase** como un plano arquitectónico de una casa, y un **objeto** como una casa real construida a partir de ese plano. Puedes construir muchas casas (objetos) diferentes usando el mismo plano (clase).\n",
    "\n",
    "---"
   ]
  },
  {
   "cell_type": "markdown",
   "metadata": {
    "id": "SnP4XlDkkvw4"
   },
   "source": [
    "# Primer clase Perro"
   ]
  },
  {
   "cell_type": "code",
   "execution_count": 1,
   "metadata": {
    "colab": {
     "base_uri": "https://localhost:8080/"
    },
    "executionInfo": {
     "elapsed": 64,
     "status": "ok",
     "timestamp": 1748312776710,
     "user": {
      "displayName": "Francisco Fernandez",
      "userId": "14484514716531413217"
     },
     "user_tz": 180
    },
    "id": "CWLd-xgTniCp",
    "outputId": "e40c8e05-5737-468d-cc22-d28111cc4b19"
   },
   "outputs": [
    {
     "name": "stdout",
     "output_type": "stream",
     "text": [
      "Hola mi nombre Firulais soy un Callejero Aleman tengo 10 años\n"
     ]
    }
   ],
   "source": [
    "class Perro:\n",
    "  # Atributo de la clase que son compartidos por todos\n",
    "  tipo = 'caninos'\n",
    "  # Contructor (__init__)\n",
    "  # 'self' hace referencia al objeto que se esta creando\n",
    "  def __init__(self,nombre,edad,raza):\n",
    "    # Atributos de instancia especificos para cada uno\n",
    "    self.nombre = nombre\n",
    "    self.edad = edad\n",
    "    self.raza = raza\n",
    "    self.vueltita = False\n",
    "\n",
    "  def vueltitas(self):\n",
    "    if self.vueltita == True:\n",
    "      print(f'{self.nombre} dio una vueltita')\n",
    "    else:\n",
    "      print(f'{self.nombre} no sabe dar vueltitas')\n",
    "\n",
    "  def aprender_vueltita(self):\n",
    "    self.vueltita = True\n",
    "    print(f'Felicidades {self.nombre} aprendio a dar vueltitas')\n",
    "\n",
    "  #Metodo\n",
    "  def presentarse(self):\n",
    "    print(f'Hola mi nombre {self.nombre} soy un {self.raza} tengo {self.edad} años')\n",
    "\n",
    "firu = Perro('Firulais',10,'Callejero Aleman')\n",
    "firu.presentarse()"
   ]
  },
  {
   "cell_type": "code",
   "execution_count": 2,
   "metadata": {
    "colab": {
     "base_uri": "https://localhost:8080/"
    },
    "executionInfo": {
     "elapsed": 5,
     "status": "ok",
     "timestamp": 1748312776717,
     "user": {
      "displayName": "Francisco Fernandez",
      "userId": "14484514716531413217"
     },
     "user_tz": 180
    },
    "id": "4F4ynxYqtNcD",
    "outputId": "c46d7614-d3fc-4f54-af9e-12705dc10624"
   },
   "outputs": [
    {
     "data": {
      "text/plain": [
       "10"
      ]
     },
     "execution_count": 2,
     "metadata": {},
     "output_type": "execute_result"
    }
   ],
   "source": [
    "firu.edad"
   ]
  },
  {
   "cell_type": "code",
   "execution_count": 3,
   "metadata": {
    "colab": {
     "base_uri": "https://localhost:8080/",
     "height": 0
    },
    "executionInfo": {
     "elapsed": 11,
     "status": "ok",
     "timestamp": 1748312776729,
     "user": {
      "displayName": "Francisco Fernandez",
      "userId": "14484514716531413217"
     },
     "user_tz": 180
    },
    "id": "mFGW2dNEtTD_",
    "outputId": "cad47942-3a4f-413b-f254-32305f62c5d2"
   },
   "outputs": [
    {
     "data": {
      "application/vnd.google.colaboratory.intrinsic+json": {
       "type": "string"
      },
      "text/plain": [
       "'caninos'"
      ]
     },
     "execution_count": 3,
     "metadata": {},
     "output_type": "execute_result"
    }
   ],
   "source": [
    "firu.tipo"
   ]
  },
  {
   "cell_type": "code",
   "execution_count": 4,
   "metadata": {
    "colab": {
     "base_uri": "https://localhost:8080/"
    },
    "executionInfo": {
     "elapsed": 14,
     "status": "ok",
     "timestamp": 1748312776748,
     "user": {
      "displayName": "Francisco Fernandez",
      "userId": "14484514716531413217"
     },
     "user_tz": 180
    },
    "id": "_71l2gzlsWrU",
    "outputId": "186159c4-d062-4980-e33d-b93a778ca941"
   },
   "outputs": [
    {
     "name": "stdout",
     "output_type": "stream",
     "text": [
      "Hola mi nombre Piscu soy un Golden tengo 13 años\n"
     ]
    }
   ],
   "source": [
    "piscu = Perro('Piscu',13,'Golden')\n",
    "piscu.presentarse()"
   ]
  },
  {
   "cell_type": "code",
   "execution_count": 5,
   "metadata": {
    "colab": {
     "base_uri": "https://localhost:8080/",
     "height": 0
    },
    "executionInfo": {
     "elapsed": 45,
     "status": "ok",
     "timestamp": 1748312776795,
     "user": {
      "displayName": "Francisco Fernandez",
      "userId": "14484514716531413217"
     },
     "user_tz": 180
    },
    "id": "H2jgVoXEtVwl",
    "outputId": "3449efdf-1e18-43a7-ee40-2a5dd0f57f1b"
   },
   "outputs": [
    {
     "data": {
      "application/vnd.google.colaboratory.intrinsic+json": {
       "type": "string"
      },
      "text/plain": [
       "'caninos'"
      ]
     },
     "execution_count": 5,
     "metadata": {},
     "output_type": "execute_result"
    }
   ],
   "source": [
    "piscu.tipo"
   ]
  },
  {
   "cell_type": "code",
   "execution_count": 6,
   "metadata": {
    "colab": {
     "base_uri": "https://localhost:8080/"
    },
    "executionInfo": {
     "elapsed": 6,
     "status": "ok",
     "timestamp": 1748312776803,
     "user": {
      "displayName": "Francisco Fernandez",
      "userId": "14484514716531413217"
     },
     "user_tz": 180
    },
    "id": "l324KIwxq4_D",
    "outputId": "0b9e31f0-fb0f-4f9d-a989-c80e1f36eb96"
   },
   "outputs": [
    {
     "name": "stdout",
     "output_type": "stream",
     "text": [
      "Firulais no sabe dar vueltitas\n"
     ]
    }
   ],
   "source": [
    "firu.vueltitas()"
   ]
  },
  {
   "cell_type": "code",
   "execution_count": 7,
   "metadata": {
    "colab": {
     "base_uri": "https://localhost:8080/"
    },
    "executionInfo": {
     "elapsed": 4,
     "status": "ok",
     "timestamp": 1748312776808,
     "user": {
      "displayName": "Francisco Fernandez",
      "userId": "14484514716531413217"
     },
     "user_tz": 180
    },
    "id": "vpUA9uSVs2yV",
    "outputId": "4dfffb8b-770a-453b-c7ca-b1cc8f10f751"
   },
   "outputs": [
    {
     "name": "stdout",
     "output_type": "stream",
     "text": [
      "Felicidades Firulais aprendio a dar vueltitas\n"
     ]
    }
   ],
   "source": [
    "firu.aprender_vueltita()"
   ]
  },
  {
   "cell_type": "code",
   "execution_count": 8,
   "metadata": {
    "colab": {
     "base_uri": "https://localhost:8080/"
    },
    "executionInfo": {
     "elapsed": 5,
     "status": "ok",
     "timestamp": 1748312776815,
     "user": {
      "displayName": "Francisco Fernandez",
      "userId": "14484514716531413217"
     },
     "user_tz": 180
    },
    "id": "Sv7eGTzKs9lU",
    "outputId": "ff5d6589-fbea-4c2d-a89c-15cb9bde22eb"
   },
   "outputs": [
    {
     "name": "stdout",
     "output_type": "stream",
     "text": [
      "Firulais dio una vueltita\n"
     ]
    }
   ],
   "source": [
    "firu.vueltitas()"
   ]
  },
  {
   "cell_type": "markdown",
   "metadata": {
    "id": "KxTWlxNxk1DZ"
   },
   "source": [
    "# Segunda clase Auto"
   ]
  },
  {
   "cell_type": "markdown",
   "metadata": {
    "id": "EZAk8acxtDnx"
   },
   "source": [
    "Hacer una clase llamada Auto, donde todos los autos sea del tipo SUV,  que posea los atributos de modelo,marca,color y encendido.\n",
    "Hacer dos metodos\n",
    "* Imprimir todos los atributos\n",
    "* Otro para prender/apagar el auto."
   ]
  },
  {
   "cell_type": "code",
   "execution_count": 32,
   "metadata": {
    "executionInfo": {
     "elapsed": 9,
     "status": "ok",
     "timestamp": 1748313573066,
     "user": {
      "displayName": "Francisco Fernandez",
      "userId": "14484514716531413217"
     },
     "user_tz": 180
    },
    "id": "dHU3xwF5tmeo"
   },
   "outputs": [],
   "source": [
    "class Auto:\n",
    "  tipo = 'SUV'\n",
    "  def __init__(self, modelo, marca, color):\n",
    "    self.modelo = modelo\n",
    "    self.marca = marca\n",
    "    self.color = color\n",
    "    self.encendido = False\n",
    "    self.combustible = 10 #Porcentaje de llenado\n",
    "\n",
    "  def encender(self):\n",
    "    if self.encendido == False:\n",
    "      self.encendido = True\n",
    "      print('Vehiculo encendido')\n",
    "    elif self.encendido == True:\n",
    "      self.encendido = False\n",
    "      print('Vehiculo apagado')\n",
    "\n",
    "  def cargar_combustible(self,combustible):\n",
    "    self.combustible = self.combustible + combustible\n",
    "    if self.combustible > 100:\n",
    "      self.combustible = 100\n",
    "\n",
    "  def chapa_pintura(self,color_nuevo):\n",
    "    self.color = color_nuevo\n",
    "    print(f'Se ha cambiado el color del vehiculo a uno {color_nuevo}')\n",
    "\n",
    "  def carInfo(self):\n",
    "    print(\"El vehiculo posee las siguientes caracteristicas:\")\n",
    "    print(f'Modelo: {self.modelo}')\n",
    "    print(f'Marca: {self.marca}')\n",
    "    print(f'Color: {self.color}')\n",
    "    print(f'Combustible: {self.combustible}')\n",
    "\n",
    "\n",
    "MiNave = Auto(\"Tiguan\", \"Volkswagen\", \"Negra\")"
   ]
  },
  {
   "cell_type": "code",
   "execution_count": 27,
   "metadata": {
    "colab": {
     "base_uri": "https://localhost:8080/"
    },
    "executionInfo": {
     "elapsed": 4,
     "status": "ok",
     "timestamp": 1748313493570,
     "user": {
      "displayName": "Francisco Fernandez",
      "userId": "14484514716531413217"
     },
     "user_tz": 180
    },
    "id": "xAsYIP7n18LT",
    "outputId": "78cad36f-3465-4aa8-e364-bc91d0bde282"
   },
   "outputs": [
    {
     "name": "stdout",
     "output_type": "stream",
     "text": [
      "El vehiculo posee las siguientes caracteristicas:\n",
      "Modelo: Tiguan\n",
      "Marca: Volkswagen\n",
      "Color: Negra\n",
      "Combustible: 10\n"
     ]
    }
   ],
   "source": [
    "MiNave.carInfo()"
   ]
  },
  {
   "cell_type": "code",
   "execution_count": 28,
   "metadata": {
    "colab": {
     "base_uri": "https://localhost:8080/"
    },
    "executionInfo": {
     "elapsed": 41,
     "status": "ok",
     "timestamp": 1748313495915,
     "user": {
      "displayName": "Francisco Fernandez",
      "userId": "14484514716531413217"
     },
     "user_tz": 180
    },
    "id": "YkmduEfK2kal",
    "outputId": "73a1003b-b0cf-4b47-a7f5-e33a6b1b11fb"
   },
   "outputs": [
    {
     "name": "stdout",
     "output_type": "stream",
     "text": [
      "Se ha cambiado el color del vehiculo a uno rojo\n"
     ]
    }
   ],
   "source": [
    "MiNave.chapa_pintura('rojo')"
   ]
  },
  {
   "cell_type": "code",
   "execution_count": 29,
   "metadata": {
    "colab": {
     "base_uri": "https://localhost:8080/"
    },
    "executionInfo": {
     "elapsed": 8,
     "status": "ok",
     "timestamp": 1748313498428,
     "user": {
      "displayName": "Francisco Fernandez",
      "userId": "14484514716531413217"
     },
     "user_tz": 180
    },
    "id": "Yci1I-z62rjs",
    "outputId": "dd1d6a48-23b4-4764-ca76-19eb921f6a0e"
   },
   "outputs": [
    {
     "name": "stdout",
     "output_type": "stream",
     "text": [
      "El vehiculo posee las siguientes caracteristicas:\n",
      "Modelo: Tiguan\n",
      "Marca: Volkswagen\n",
      "Color: rojo\n",
      "Combustible: 10\n"
     ]
    }
   ],
   "source": [
    "MiNave.carInfo()"
   ]
  },
  {
   "cell_type": "code",
   "execution_count": 30,
   "metadata": {
    "executionInfo": {
     "elapsed": 2,
     "status": "ok",
     "timestamp": 1748313514928,
     "user": {
      "displayName": "Francisco Fernandez",
      "userId": "14484514716531413217"
     },
     "user_tz": 180
    },
    "id": "qwkxSjXsmujO"
   },
   "outputs": [],
   "source": [
    "MiNave.cargar_combustible(50)"
   ]
  },
  {
   "cell_type": "code",
   "execution_count": 31,
   "metadata": {
    "colab": {
     "base_uri": "https://localhost:8080/"
    },
    "executionInfo": {
     "elapsed": 5,
     "status": "ok",
     "timestamp": 1748313527608,
     "user": {
      "displayName": "Francisco Fernandez",
      "userId": "14484514716531413217"
     },
     "user_tz": 180
    },
    "id": "ntF2rG21myf3",
    "outputId": "f2eb6772-806b-4d79-a420-25da3017bff2"
   },
   "outputs": [
    {
     "name": "stdout",
     "output_type": "stream",
     "text": [
      "El vehiculo posee las siguientes caracteristicas:\n",
      "Modelo: Tiguan\n",
      "Marca: Volkswagen\n",
      "Color: rojo\n",
      "Combustible: 60\n"
     ]
    }
   ],
   "source": [
    "MiNave.carInfo()"
   ]
  },
  {
   "cell_type": "markdown",
   "metadata": {
    "id": "slozo8NGk64P"
   },
   "source": [
    "# Pokemon"
   ]
  },
  {
   "cell_type": "code",
   "execution_count": 13,
   "metadata": {
    "executionInfo": {
     "elapsed": 11,
     "status": "ok",
     "timestamp": 1748312776902,
     "user": {
      "displayName": "Francisco Fernandez",
      "userId": "14484514716531413217"
     },
     "user_tz": 180
    },
    "id": "caOFTN7p3L3P"
   },
   "outputs": [],
   "source": [
    "class Pokemon:\n",
    "    def __init__(self, nombre, tipo, nivel=1):\n",
    "        self.nombre = nombre\n",
    "        self.tipo = tipo\n",
    "        self.nivel = nivel\n",
    "        self.salud = nivel * 10\n",
    "        self.isalive = True\n",
    "        #elementos\n",
    "\n",
    "    def presentarse(self):\n",
    "        print(f\"¡Hola! Soy {self.nombre}, un Pokémon de tipo {self.tipo}.\")\n",
    "\n",
    "    def atacar(self, otro_pokemon):\n",
    "      if otro_pokemon.isalive:\n",
    "        print(f\"{self.nombre} ataca a {otro_pokemon.nombre}!\")\n",
    "        daño = self.nivel * 2\n",
    "        otro_pokemon.salud = otro_pokemon.salud - daño\n",
    "        if otro_pokemon.salud <= 0:\n",
    "          otro_pokemon.isalive = False\n",
    "          print(f'{self.nombre} a matado a {otro_pokemon.nombre}')\n",
    "        else:\n",
    "          print(f\"{otro_pokemon.nombre} pierde {daño} puntos de salud.\")\n",
    "      else:\n",
    "        print('No se puede atacar a un pokemon muerto')\n",
    "\n",
    "    def mostrar_estado(self):\n",
    "        print(f\"{self.nombre} - Nivel: {self.nivel} - Salud: {self.salud}\")"
   ]
  },
  {
   "cell_type": "code",
   "execution_count": 14,
   "metadata": {
    "executionInfo": {
     "elapsed": 1,
     "status": "ok",
     "timestamp": 1748312776974,
     "user": {
      "displayName": "Francisco Fernandez",
      "userId": "14484514716531413217"
     },
     "user_tz": 180
    },
    "id": "_zNH8gEK58Er"
   },
   "outputs": [],
   "source": [
    "pikachu = Pokemon(\"Pikachu\", \"Eléctrico\", nivel=5)\n",
    "charmander = Pokemon(\"Charmander\", \"Fuego\", nivel=4)"
   ]
  },
  {
   "cell_type": "code",
   "execution_count": 15,
   "metadata": {
    "colab": {
     "base_uri": "https://localhost:8080/"
    },
    "executionInfo": {
     "elapsed": 3,
     "status": "ok",
     "timestamp": 1748312776978,
     "user": {
      "displayName": "Francisco Fernandez",
      "userId": "14484514716531413217"
     },
     "user_tz": 180
    },
    "id": "wGQ_SdVw5-5i",
    "outputId": "a5b7790f-05e1-4217-b49f-845088b89137"
   },
   "outputs": [
    {
     "name": "stdout",
     "output_type": "stream",
     "text": [
      "¡Hola! Soy Pikachu, un Pokémon de tipo Eléctrico.\n",
      "¡Hola! Soy Charmander, un Pokémon de tipo Fuego.\n"
     ]
    }
   ],
   "source": [
    "pikachu.presentarse()\n",
    "charmander.presentarse()"
   ]
  },
  {
   "cell_type": "code",
   "execution_count": 16,
   "metadata": {
    "colab": {
     "base_uri": "https://localhost:8080/"
    },
    "executionInfo": {
     "elapsed": 3,
     "status": "ok",
     "timestamp": 1748312776982,
     "user": {
      "displayName": "Francisco Fernandez",
      "userId": "14484514716531413217"
     },
     "user_tz": 180
    },
    "id": "aIkaQrz36AyA",
    "outputId": "2737e7e8-8ac0-49bd-aede-5c11e1986f87"
   },
   "outputs": [
    {
     "name": "stdout",
     "output_type": "stream",
     "text": [
      "Pikachu - Nivel: 5 - Salud: 50\n",
      "Charmander - Nivel: 4 - Salud: 40\n"
     ]
    }
   ],
   "source": [
    "pikachu.mostrar_estado()\n",
    "charmander.mostrar_estado()"
   ]
  },
  {
   "cell_type": "code",
   "execution_count": 17,
   "metadata": {
    "colab": {
     "base_uri": "https://localhost:8080/"
    },
    "executionInfo": {
     "elapsed": 19,
     "status": "ok",
     "timestamp": 1748312777003,
     "user": {
      "displayName": "Francisco Fernandez",
      "userId": "14484514716531413217"
     },
     "user_tz": 180
    },
    "id": "cXhWSvNA6CUv",
    "outputId": "db866ab6-5b68-4e78-d1f9-99516bc065ad"
   },
   "outputs": [
    {
     "name": "stdout",
     "output_type": "stream",
     "text": [
      "Pikachu ataca a Charmander!\n",
      "Charmander pierde 10 puntos de salud.\n",
      "Pikachu ataca a Charmander!\n",
      "Charmander pierde 10 puntos de salud.\n",
      "Pikachu ataca a Charmander!\n",
      "Charmander pierde 10 puntos de salud.\n"
     ]
    }
   ],
   "source": [
    "pikachu.atacar(charmander)\n",
    "pikachu.atacar(charmander)\n",
    "pikachu.atacar(charmander)"
   ]
  },
  {
   "cell_type": "code",
   "execution_count": 18,
   "metadata": {
    "colab": {
     "base_uri": "https://localhost:8080/"
    },
    "executionInfo": {
     "elapsed": 81,
     "status": "ok",
     "timestamp": 1748312777097,
     "user": {
      "displayName": "Francisco Fernandez",
      "userId": "14484514716531413217"
     },
     "user_tz": 180
    },
    "id": "VcLJJ_bG8xRN",
    "outputId": "7eaddabb-ea7f-4c54-df57-9e3324bc8f32"
   },
   "outputs": [
    {
     "name": "stdout",
     "output_type": "stream",
     "text": [
      "Charmander - Nivel: 4 - Salud: 10\n"
     ]
    }
   ],
   "source": [
    "charmander.mostrar_estado()"
   ]
  },
  {
   "cell_type": "code",
   "execution_count": 19,
   "metadata": {
    "colab": {
     "base_uri": "https://localhost:8080/"
    },
    "executionInfo": {
     "elapsed": 6,
     "status": "ok",
     "timestamp": 1748312777105,
     "user": {
      "displayName": "Francisco Fernandez",
      "userId": "14484514716531413217"
     },
     "user_tz": 180
    },
    "id": "EftA029E8qnH",
    "outputId": "9c28df84-3710-4b82-d717-a23a289773e7"
   },
   "outputs": [
    {
     "name": "stdout",
     "output_type": "stream",
     "text": [
      "Pikachu ataca a Charmander!\n",
      "Pikachu a matado a Charmander\n"
     ]
    }
   ],
   "source": [
    "pikachu.atacar(charmander)"
   ]
  },
  {
   "cell_type": "code",
   "execution_count": 20,
   "metadata": {
    "colab": {
     "base_uri": "https://localhost:8080/"
    },
    "executionInfo": {
     "elapsed": 4,
     "status": "ok",
     "timestamp": 1748312777111,
     "user": {
      "displayName": "Francisco Fernandez",
      "userId": "14484514716531413217"
     },
     "user_tz": 180
    },
    "id": "amUQdRgw8zEG",
    "outputId": "b2f164ca-d4e7-457d-ae89-3ae72d43bdd5"
   },
   "outputs": [
    {
     "name": "stdout",
     "output_type": "stream",
     "text": [
      "Charmander - Nivel: 4 - Salud: 0\n"
     ]
    }
   ],
   "source": [
    "charmander.mostrar_estado()"
   ]
  },
  {
   "cell_type": "code",
   "execution_count": 21,
   "metadata": {
    "colab": {
     "base_uri": "https://localhost:8080/"
    },
    "executionInfo": {
     "elapsed": 5,
     "status": "ok",
     "timestamp": 1748312777116,
     "user": {
      "displayName": "Francisco Fernandez",
      "userId": "14484514716531413217"
     },
     "user_tz": 180
    },
    "id": "w5gcQblU807L",
    "outputId": "1a11e5b5-9fbc-4d49-e2b6-7527ebc0f625"
   },
   "outputs": [
    {
     "name": "stdout",
     "output_type": "stream",
     "text": [
      "No se puede atacar a un pokemon muerto\n"
     ]
    }
   ],
   "source": [
    "pikachu.atacar(charmander)"
   ]
  },
  {
   "cell_type": "markdown",
   "metadata": {
    "id": "Exk9oDOrlKDl"
   },
   "source": [
    "# Cuenta Bancaria"
   ]
  },
  {
   "cell_type": "markdown",
   "metadata": {
    "id": "-8-QJPLtnEK3"
   },
   "source": [
    "Una clase llamada CuentaBancaria\n",
    "* Atributos:\n",
    "  * Titular\n",
    "  * Numero de cuenta\n",
    "  * Saldo\n",
    "* Metodo:\n",
    "  * Depositar\n",
    "  * Cargar\n",
    "  * Retirar\n"
   ]
  },
  {
   "cell_type": "code",
   "execution_count": 52,
   "metadata": {
    "executionInfo": {
     "elapsed": 3,
     "status": "ok",
     "timestamp": 1748318120847,
     "user": {
      "displayName": "Francisco Fernandez",
      "userId": "14484514716531413217"
     },
     "user_tz": 180
    },
    "id": "0kx1G5vrlNCo"
   },
   "outputs": [],
   "source": [
    "class CuentaBancaria:\n",
    "    def __init__(self, titular, numero_cuenta, saldo_inicial):\n",
    "        self.titular = titular\n",
    "        self.numero_cuenta = numero_cuenta\n",
    "        self.saldo = saldo_inicial\n",
    "\n",
    "    def imprimir_atributos(self):\n",
    "        print(f\"Esta cuenta bancaria es de {self.titular}, el número de cuenta es {self.numero_cuenta}, el saldo es {self.saldo}\")\n",
    "\n",
    "    def depositar(self, monto):\n",
    "        self.saldo += monto\n",
    "        print(f\"El saldo actual es {self.saldo}\")\n",
    "\n",
    "    def retirar(self, monto):\n",
    "        self.saldo -= monto\n",
    "        print(f\"El saldo actual es {self.saldo}\")\n",
    "\n",
    "    def transferencia(self,otracuenta,monto):\n",
    "        self.saldo -= monto\n",
    "        otracuenta.saldo += monto\n",
    "        print(f'Se ha transferido {monto} $ desde la cuenta bancaria de {self.titular} hacia {otracuenta.titular}')\n"
   ]
  },
  {
   "cell_type": "code",
   "execution_count": 53,
   "metadata": {
    "colab": {
     "base_uri": "https://localhost:8080/"
    },
    "executionInfo": {
     "elapsed": 7,
     "status": "ok",
     "timestamp": 1748318122185,
     "user": {
      "displayName": "Francisco Fernandez",
      "userId": "14484514716531413217"
     },
     "user_tz": 180
    },
    "id": "cxxQo98y2COf",
    "outputId": "ff540f3f-6b24-4a78-b82a-7739ec4b8016"
   },
   "outputs": [
    {
     "name": "stdout",
     "output_type": "stream",
     "text": [
      "Esta cuenta bancaria es de Tomas, el número de cuenta es 45454, el saldo es 0\n"
     ]
    }
   ],
   "source": [
    "brubank = CuentaBancaria('Tomas',45454,0)\n",
    "brubank.imprimir_atributos()"
   ]
  },
  {
   "cell_type": "code",
   "execution_count": 54,
   "metadata": {
    "colab": {
     "base_uri": "https://localhost:8080/"
    },
    "executionInfo": {
     "elapsed": 7,
     "status": "ok",
     "timestamp": 1748318123847,
     "user": {
      "displayName": "Francisco Fernandez",
      "userId": "14484514716531413217"
     },
     "user_tz": 180
    },
    "id": "uPuM3EK_2Lnu",
    "outputId": "77a10c64-cf77-41d6-9878-a19011f41d68"
   },
   "outputs": [
    {
     "name": "stdout",
     "output_type": "stream",
     "text": [
      "El saldo actual es 100\n"
     ]
    }
   ],
   "source": [
    "brubank.depositar(100)"
   ]
  },
  {
   "cell_type": "code",
   "execution_count": 55,
   "metadata": {
    "colab": {
     "base_uri": "https://localhost:8080/"
    },
    "executionInfo": {
     "elapsed": 3,
     "status": "ok",
     "timestamp": 1748318125298,
     "user": {
      "displayName": "Francisco Fernandez",
      "userId": "14484514716531413217"
     },
     "user_tz": 180
    },
    "id": "1r9F0Evj2giY",
    "outputId": "a811d0a2-e096-4663-8a2f-9a9aef304aea"
   },
   "outputs": [
    {
     "name": "stdout",
     "output_type": "stream",
     "text": [
      "El saldo actual es 75\n"
     ]
    }
   ],
   "source": [
    "brubank.retirar(25)"
   ]
  },
  {
   "cell_type": "code",
   "execution_count": 57,
   "metadata": {
    "colab": {
     "base_uri": "https://localhost:8080/"
    },
    "executionInfo": {
     "elapsed": 5,
     "status": "ok",
     "timestamp": 1748318151855,
     "user": {
      "displayName": "Francisco Fernandez",
      "userId": "14484514716531413217"
     },
     "user_tz": 180
    },
    "id": "0xexdK5z23zu",
    "outputId": "43113792-4620-4b31-8622-a20b5876a7ae"
   },
   "outputs": [
    {
     "name": "stdout",
     "output_type": "stream",
     "text": [
      "Esta cuenta bancaria es de Saso, el número de cuenta es 213, el saldo es 100\n"
     ]
    }
   ],
   "source": [
    "uala = CuentaBancaria('Saso',213,100)\n",
    "uala.imprimir_atributos()"
   ]
  },
  {
   "cell_type": "code",
   "execution_count": 58,
   "metadata": {
    "colab": {
     "base_uri": "https://localhost:8080/"
    },
    "executionInfo": {
     "elapsed": 8,
     "status": "ok",
     "timestamp": 1748318191633,
     "user": {
      "displayName": "Francisco Fernandez",
      "userId": "14484514716531413217"
     },
     "user_tz": 180
    },
    "id": "fBtxNiC24cqi",
    "outputId": "05cd38d0-9571-44da-8ab4-db3b54846e41"
   },
   "outputs": [
    {
     "name": "stdout",
     "output_type": "stream",
     "text": [
      "Se ha transferido 25 $ desde la cuenta bancaria de Tomas hacia Saso\n"
     ]
    }
   ],
   "source": [
    "brubank.transferencia(uala,25)"
   ]
  },
  {
   "cell_type": "code",
   "execution_count": 59,
   "metadata": {
    "colab": {
     "base_uri": "https://localhost:8080/"
    },
    "executionInfo": {
     "elapsed": 7,
     "status": "ok",
     "timestamp": 1748318201442,
     "user": {
      "displayName": "Francisco Fernandez",
      "userId": "14484514716531413217"
     },
     "user_tz": 180
    },
    "id": "Gae3XAIV4n9E",
    "outputId": "7bd33c8e-38a8-4798-ef66-527c936d9c5b"
   },
   "outputs": [
    {
     "name": "stdout",
     "output_type": "stream",
     "text": [
      "Esta cuenta bancaria es de Saso, el número de cuenta es 213, el saldo es 125\n"
     ]
    }
   ],
   "source": [
    "uala.imprimir_atributos()"
   ]
  },
  {
   "cell_type": "code",
   "execution_count": null,
   "metadata": {
    "id": "KexraP0H4qWQ"
   },
   "outputs": [],
   "source": []
  }
 ],
 "metadata": {
  "colab": {
   "authorship_tag": "ABX9TyM3GRUYUufMllG/D16AeUjf",
   "collapsed_sections": [
    "SnP4XlDkkvw4",
    "slozo8NGk64P"
   ],
   "provenance": []
  },
  "kernelspec": {
   "display_name": "Python 3",
   "name": "python3"
  },
  "language_info": {
   "name": "python"
  }
 },
 "nbformat": 4,
 "nbformat_minor": 0
}
