{
 "cells": [
  {
   "cell_type": "markdown",
   "metadata": {},
   "source": [
    "# 🔀 Estructuras de Control: Condicionales\n",
    "\n",
    "## 🎯 Objetivos de Aprendizaje\n",
    "\n",
    "Al finalizar este notebook, serás capaz de:\n",
    "\n",
    "- Comprender el concepto de estructuras de control condicionales\n",
    "- Utilizar declaraciones `if`, `elif`, y `else` para crear lógica condicional\n",
    "- Implementar operadores de comparación y lógicos\n",
    "- Combinar múltiples condiciones para crear programas más complejos\n",
    "- Aplicar buenas prácticas en la escritura de código condicional\n",
    "\n",
    "## 📚 Contenido\n",
    "\n",
    "1. **Introducción a las Estructuras de Control**\n",
    "   - ¿Qué son las estructuras de control?\n",
    "   - Importancia en la programación\n",
    "\n",
    "2. **Operadores de Comparación**\n",
    "   - `==` (igual a)\n",
    "   - `!=` (diferente de)\n",
    "   - `<`, `>`, `<=`, `>=` (comparaciones numéricas)\n",
    "\n",
    "3. **Operadores Lógicos**\n",
    "   - `and` (y lógico)\n",
    "   - `or` (o lógico)\n",
    "   - `not` (negación)\n",
    "\n",
    "4. **Declaración `if`**\n",
    "   - Sintaxis básica\n",
    "   - Ejemplos prácticos\n",
    "\n",
    "5. **Declaraciones `elif` y `else`**\n",
    "   - Múltiples condiciones\n",
    "   - Casos por defecto\n",
    "\n",
    "6. **Condicionales Anidados**\n",
    "   - Estructuras más complejas\n",
    "   - Buenas prácticas de indentación\n",
    "\n",
    "## 🛠️ Prerrequisitos\n",
    "\n",
    "- Conocimiento de tipos de datos básicos en Python\n",
    "- Comprensión de variables y operaciones básicas\n",
    "\n",
    "## 💡 Conceptos Clave\n",
    "\n",
    "- **Expresión booleana**: Una expresión que evalúa a `True` o `False`\n",
    "- **Bloque de código**: Conjunto de instrucciones que se ejecutan juntas\n",
    "- **Indentación**: Espacios al inicio de línea que definen la estructura del código\n",
    "\n",
    "---"
   ]
  },
  {
   "cell_type": "markdown",
   "metadata": {
    "id": "1SUHs76FXUt5"
   },
   "source": [
    "# Introduccion de datos\n",
    "\n",
    "Palabra clave input"
   ]
  },
  {
   "cell_type": "code",
   "execution_count": 29,
   "metadata": {
    "colab": {
     "base_uri": "https://localhost:8080/",
     "height": 54
    },
    "executionInfo": {
     "elapsed": 7861,
     "status": "ok",
     "timestamp": 1747691381303,
     "user": {
      "displayName": "Francisco Fernandez",
      "userId": "14484514716531413217"
     },
     "user_tz": 180
    },
    "id": "OhAsjmhoYYjJ",
    "outputId": "29605b3a-af24-45df-c39b-25261040cb6c"
   },
   "outputs": [
    {
     "name": "stdout",
     "output_type": "stream",
     "text": [
      "hola buenos dias\n"
     ]
    },
    {
     "data": {
      "application/vnd.google.colaboratory.intrinsic+json": {
       "type": "string"
      },
      "text/plain": [
       "'hola buenos dias'"
      ]
     },
     "execution_count": 29,
     "metadata": {},
     "output_type": "execute_result"
    }
   ],
   "source": [
    "input()"
   ]
  },
  {
   "cell_type": "code",
   "execution_count": 30,
   "metadata": {
    "colab": {
     "base_uri": "https://localhost:8080/",
     "height": 54
    },
    "executionInfo": {
     "elapsed": 4264,
     "status": "ok",
     "timestamp": 1747691577307,
     "user": {
      "displayName": "Francisco Fernandez",
      "userId": "14484514716531413217"
     },
     "user_tz": 180
    },
    "id": "w1-AbG75YeK2",
    "outputId": "8b5bfab2-a7da-4757-ad0d-1ff9181400b5"
   },
   "outputs": [
    {
     "name": "stdout",
     "output_type": "stream",
     "text": [
      "Introducir un numero 20\n"
     ]
    },
    {
     "data": {
      "application/vnd.google.colaboratory.intrinsic+json": {
       "type": "string"
      },
      "text/plain": [
       "'20'"
      ]
     },
     "execution_count": 30,
     "metadata": {},
     "output_type": "execute_result"
    }
   ],
   "source": [
    "input('Introducir un numero ')"
   ]
  },
  {
   "cell_type": "code",
   "execution_count": 33,
   "metadata": {
    "colab": {
     "base_uri": "https://localhost:8080/"
    },
    "executionInfo": {
     "elapsed": 1993,
     "status": "ok",
     "timestamp": 1747691619195,
     "user": {
      "displayName": "Francisco Fernandez",
      "userId": "14484514716531413217"
     },
     "user_tz": 180
    },
    "id": "XwfhLEiDYld5",
    "outputId": "2ca24019-ca2d-4c40-8ede-cee12f2ce056"
   },
   "outputs": [
    {
     "name": "stdout",
     "output_type": "stream",
     "text": [
      "Introducir un numero 20\n"
     ]
    },
    {
     "data": {
      "text/plain": [
       "str"
      ]
     },
     "execution_count": 33,
     "metadata": {},
     "output_type": "execute_result"
    }
   ],
   "source": [
    "numero = input('Introducir un numero ')\n",
    "type(numero)"
   ]
  },
  {
   "cell_type": "code",
   "execution_count": 39,
   "metadata": {
    "colab": {
     "base_uri": "https://localhost:8080/",
     "height": 36
    },
    "executionInfo": {
     "elapsed": 7,
     "status": "ok",
     "timestamp": 1747692426807,
     "user": {
      "displayName": "Francisco Fernandez",
      "userId": "14484514716531413217"
     },
     "user_tz": 180
    },
    "id": "347H84aaldJK",
    "outputId": "060bf6cf-ee97-4038-cdfd-154bf31e3370"
   },
   "outputs": [
    {
     "data": {
      "application/vnd.google.colaboratory.intrinsic+json": {
       "type": "string"
      },
      "text/plain": [
       "'10'"
      ]
     },
     "execution_count": 39,
     "metadata": {},
     "output_type": "execute_result"
    }
   ],
   "source": [
    "'20'"
   ]
  },
  {
   "cell_type": "code",
   "execution_count": 41,
   "metadata": {
    "colab": {
     "base_uri": "https://localhost:8080/"
    },
    "executionInfo": {
     "elapsed": 43,
     "status": "ok",
     "timestamp": 1747692539445,
     "user": {
      "displayName": "Francisco Fernandez",
      "userId": "14484514716531413217"
     },
     "user_tz": 180
    },
    "id": "OzmBL0Ralh5J",
    "outputId": "b852e666-d3d2-45ef-990b-96b23c163ee3"
   },
   "outputs": [
    {
     "data": {
      "text/plain": [
       "20"
      ]
     },
     "execution_count": 41,
     "metadata": {},
     "output_type": "execute_result"
    }
   ],
   "source": [
    "int('20')"
   ]
  },
  {
   "cell_type": "code",
   "execution_count": 43,
   "metadata": {
    "colab": {
     "base_uri": "https://localhost:8080/"
    },
    "executionInfo": {
     "elapsed": 999,
     "status": "ok",
     "timestamp": 1747692582037,
     "user": {
      "displayName": "Francisco Fernandez",
      "userId": "14484514716531413217"
     },
     "user_tz": 180
    },
    "id": "UfajR1ObYqL-",
    "outputId": "7c4f42ce-8a41-4768-b066-a7294c503015"
   },
   "outputs": [
    {
     "name": "stdout",
     "output_type": "stream",
     "text": [
      "Introducir un numero 20\n"
     ]
    },
    {
     "data": {
      "text/plain": [
       "int"
      ]
     },
     "execution_count": 43,
     "metadata": {},
     "output_type": "execute_result"
    }
   ],
   "source": [
    "numero = int( input('Introducir un numero ') )\n",
    "type(numero)"
   ]
  },
  {
   "cell_type": "code",
   "execution_count": 44,
   "metadata": {
    "executionInfo": {
     "elapsed": 4,
     "status": "ok",
     "timestamp": 1747692659088,
     "user": {
      "displayName": "Francisco Fernandez",
      "userId": "14484514716531413217"
     },
     "user_tz": 180
    },
    "id": "Q2wawCFimJ38"
   },
   "outputs": [],
   "source": [
    "# soluciones de la ecuacion de segundo grado ( a , b , c )\n",
    "a = int(input('Dame el valor a'))\n",
    "b\n",
    "c\n",
    "\n",
    "x1 =\n",
    "x2 =\n",
    "print(x1,x2)"
   ]
  },
  {
   "cell_type": "markdown",
   "metadata": {
    "id": "_Q4-bTvfTras"
   },
   "source": [
    "# Condicionales"
   ]
  },
  {
   "cell_type": "markdown",
   "metadata": {
    "id": "U3Ba5J4Um2lb"
   },
   "source": [
    "### **Operadores de comparación**\n",
    "![comparacion](https://programacionpython.wordpress.com/wp-content/uploads/2008/07/signos1.jpg)"
   ]
  },
  {
   "cell_type": "code",
   "execution_count": null,
   "metadata": {
    "id": "z-GNC_xu-Cyp"
   },
   "outputs": [],
   "source": [
    "'Argentino'"
   ]
  },
  {
   "cell_type": "code",
   "execution_count": null,
   "metadata": {
    "colab": {
     "base_uri": "https://localhost:8080/"
    },
    "executionInfo": {
     "elapsed": 13,
     "status": "ok",
     "timestamp": 1747424431963,
     "user": {
      "displayName": "Francisco Fernandez",
      "userId": "14484514716531413217"
     },
     "user_tz": 180
    },
    "id": "8bjtol41nLXd",
    "outputId": "e277e4c1-5bbf-4c21-ee9a-bfe96b962c98"
   },
   "outputs": [
    {
     "data": {
      "text/plain": [
       "True"
      ]
     },
     "execution_count": 10,
     "metadata": {},
     "output_type": "execute_result"
    }
   ],
   "source": [
    "10 == 10"
   ]
  },
  {
   "cell_type": "code",
   "execution_count": null,
   "metadata": {
    "colab": {
     "base_uri": "https://localhost:8080/"
    },
    "executionInfo": {
     "elapsed": 7,
     "status": "ok",
     "timestamp": 1747424446233,
     "user": {
      "displayName": "Francisco Fernandez",
      "userId": "14484514716531413217"
     },
     "user_tz": 180
    },
    "id": "6a7GVbp7nO7W",
    "outputId": "c8ae1891-a2ed-433a-f649-ccbdde5bc47c"
   },
   "outputs": [
    {
     "data": {
      "text/plain": [
       "False"
      ]
     },
     "execution_count": 11,
     "metadata": {},
     "output_type": "execute_result"
    }
   ],
   "source": [
    "10 != 10"
   ]
  },
  {
   "cell_type": "code",
   "execution_count": null,
   "metadata": {
    "colab": {
     "base_uri": "https://localhost:8080/"
    },
    "executionInfo": {
     "elapsed": 5,
     "status": "ok",
     "timestamp": 1747424468624,
     "user": {
      "displayName": "Francisco Fernandez",
      "userId": "14484514716531413217"
     },
     "user_tz": 180
    },
    "id": "D2f_wX2ZnRj6",
    "outputId": "fc74a05e-cb47-4607-da0d-dcfb9c755248"
   },
   "outputs": [
    {
     "data": {
      "text/plain": [
       "False"
      ]
     },
     "execution_count": 12,
     "metadata": {},
     "output_type": "execute_result"
    }
   ],
   "source": [
    "10 < 8"
   ]
  },
  {
   "cell_type": "code",
   "execution_count": null,
   "metadata": {
    "colab": {
     "base_uri": "https://localhost:8080/"
    },
    "executionInfo": {
     "elapsed": 4,
     "status": "ok",
     "timestamp": 1747424483983,
     "user": {
      "displayName": "Francisco Fernandez",
      "userId": "14484514716531413217"
     },
     "user_tz": 180
    },
    "id": "UkrrU0GbnW1M",
    "outputId": "db3fc2d2-878b-4ac5-cae8-531ba2ccfdcf"
   },
   "outputs": [
    {
     "data": {
      "text/plain": [
       "True"
      ]
     },
     "execution_count": 13,
     "metadata": {},
     "output_type": "execute_result"
    }
   ],
   "source": [
    "20 > 10"
   ]
  },
  {
   "cell_type": "code",
   "execution_count": 45,
   "metadata": {
    "colab": {
     "base_uri": "https://localhost:8080/"
    },
    "executionInfo": {
     "elapsed": 16,
     "status": "ok",
     "timestamp": 1747695098064,
     "user": {
      "displayName": "Francisco Fernandez",
      "userId": "14484514716531413217"
     },
     "user_tz": 180
    },
    "id": "ESmwnBoqvqb8",
    "outputId": "c52c6392-af86-4ba3-ff78-3872f553bd57"
   },
   "outputs": [
    {
     "data": {
      "text/plain": [
       "True"
      ]
     },
     "execution_count": 45,
     "metadata": {},
     "output_type": "execute_result"
    }
   ],
   "source": [
    "'jaco' == 'jaco'"
   ]
  },
  {
   "cell_type": "code",
   "execution_count": 46,
   "metadata": {
    "colab": {
     "base_uri": "https://localhost:8080/"
    },
    "executionInfo": {
     "elapsed": 42,
     "status": "ok",
     "timestamp": 1747695109070,
     "user": {
      "displayName": "Francisco Fernandez",
      "userId": "14484514716531413217"
     },
     "user_tz": 180
    },
    "id": "Pf360_NWvuKq",
    "outputId": "0947eaa7-dd29-4d46-d040-e32bd4434c17"
   },
   "outputs": [
    {
     "data": {
      "text/plain": [
       "False"
      ]
     },
     "execution_count": 46,
     "metadata": {},
     "output_type": "execute_result"
    }
   ],
   "source": [
    "'Jaco' == 'jaco'"
   ]
  },
  {
   "cell_type": "markdown",
   "metadata": {
    "id": "5knAPxDWUKg3"
   },
   "source": [
    "Un condicional es una estructura que permite tomar decisiones.\n",
    "\n",
    "*Ejemplo del mundo real:\n",
    "Si llueve, me llevo paraguas. Si no, salgo sin él.*"
   ]
  },
  {
   "cell_type": "code",
   "execution_count": null,
   "metadata": {
    "id": "KeCDgqNEUJ42"
   },
   "outputs": [],
   "source": [
    "#if condición:\n",
    "    # código si la condición es verdadera"
   ]
  },
  {
   "cell_type": "code",
   "execution_count": 49,
   "metadata": {
    "colab": {
     "base_uri": "https://localhost:8080/"
    },
    "executionInfo": {
     "elapsed": 5,
     "status": "ok",
     "timestamp": 1747695260311,
     "user": {
      "displayName": "Francisco Fernandez",
      "userId": "14484514716531413217"
     },
     "user_tz": 180
    },
    "id": "7RL64pOuUSaC",
    "outputId": "a3c84a26-4d5f-4d8b-e830-d8ff2c7471f3"
   },
   "outputs": [
    {
     "name": "stdout",
     "output_type": "stream",
     "text": [
      "Es mayor de edad\n"
     ]
    }
   ],
   "source": [
    "edad = 25\n",
    "\n",
    "if edad >= 18:\n",
    "  print(\"Es mayor de edad\")"
   ]
  },
  {
   "cell_type": "markdown",
   "metadata": {
    "id": "jahSHV_EUXQZ"
   },
   "source": [
    "Agregando un else"
   ]
  },
  {
   "cell_type": "code",
   "execution_count": 52,
   "metadata": {
    "colab": {
     "base_uri": "https://localhost:8080/"
    },
    "executionInfo": {
     "elapsed": 3,
     "status": "ok",
     "timestamp": 1747695300198,
     "user": {
      "displayName": "Francisco Fernandez",
      "userId": "14484514716531413217"
     },
     "user_tz": 180
    },
    "id": "PWZ2LIH1UV2F",
    "outputId": "719d8b4b-5caa-4591-abb9-7be992ed071a"
   },
   "outputs": [
    {
     "name": "stdout",
     "output_type": "stream",
     "text": [
      "Es menor de edad\n"
     ]
    }
   ],
   "source": [
    "edad = 10\n",
    "\n",
    "if edad >= 18:\n",
    "    print(\"Es mayor de edad\")\n",
    "else:\n",
    "    print(\"Es menor de edad\")\n"
   ]
  },
  {
   "cell_type": "markdown",
   "metadata": {
    "id": "XhIa2kTWUZ_E"
   },
   "source": [
    "Agregando un elif (else if)"
   ]
  },
  {
   "cell_type": "code",
   "execution_count": 55,
   "metadata": {
    "colab": {
     "base_uri": "https://localhost:8080/"
    },
    "executionInfo": {
     "elapsed": 3,
     "status": "ok",
     "timestamp": 1747695449281,
     "user": {
      "displayName": "Francisco Fernandez",
      "userId": "14484514716531413217"
     },
     "user_tz": 180
    },
    "id": "xr9vEp2tUZWB",
    "outputId": "8f55c49e-5b98-4b30-daed-3303d5348f08"
   },
   "outputs": [
    {
     "name": "stdout",
     "output_type": "stream",
     "text": [
      "Recursa\n"
     ]
    }
   ],
   "source": [
    "nota = 2\n",
    "\n",
    "if nota >= 7:\n",
    "    print(\"Promocionado\")\n",
    "elif nota >= 4:\n",
    "    print(\"Regular\")\n",
    "else:\n",
    "    print(\"Recursa\")"
   ]
  },
  {
   "cell_type": "markdown",
   "metadata": {
    "id": "5ezU_ukqU6qM"
   },
   "source": [
    "### **Operadores lógicos**"
   ]
  },
  {
   "cell_type": "code",
   "execution_count": 56,
   "metadata": {
    "cellView": "form",
    "colab": {
     "base_uri": "https://localhost:8080/"
    },
    "executionInfo": {
     "elapsed": 8,
     "status": "ok",
     "timestamp": 1747695455707,
     "user": {
      "displayName": "Francisco Fernandez",
      "userId": "14484514716531413217"
     },
     "user_tz": 180
    },
    "id": "WCaT0A0nWjTy",
    "outputId": "819438cf-b633-4c0d-c08c-a960dd463ea5"
   },
   "outputs": [
    {
     "name": "stdout",
     "output_type": "stream",
     "text": [
      "x\ty\tx or y\n",
      "----------------------\n",
      "False\tFalse\tFalse\n",
      "False\tTrue\tTrue\n",
      "True\tFalse\tTrue\n",
      "True\tTrue\tTrue\n",
      "\n",
      "x\ty\tx and y\n",
      "----------------------\n",
      "False\tFalse\tFalse\n",
      "False\tTrue\tFalse\n",
      "True\tFalse\tFalse\n",
      "True\tTrue\tTrue\n",
      "\n",
      "x\tnot x\n",
      "-------------\n",
      "False\tTrue\n",
      "True\tFalse\n",
      "\n",
      "x\ty\tx ^ y\n",
      "---------------------\n",
      "False\tFalse\tFalse\n",
      "False\tTrue\tTrue\n",
      "True\tFalse\tTrue\n",
      "True\tTrue\tFalse\n"
     ]
    }
   ],
   "source": [
    "# @title Codigo de tabla de la verdad\n",
    "booleanos = [False, True]\n",
    "\n",
    "# Tabla de verdad de or\n",
    "\n",
    "print('x\\ty\\tx or y')\n",
    "print('-'*22)\n",
    "for x in booleanos:\n",
    "    for y in booleanos:\n",
    "        print(x, y, x or y, sep = '\\t')\n",
    "\n",
    "print()\n",
    "\n",
    "# Tabla de verdad de and\n",
    "\n",
    "print('x\\ty\\tx and y')\n",
    "print('-'*22)\n",
    "for x in booleanos:\n",
    "    for y in booleanos:\n",
    "        print(x, y, x and y, sep = '\\t')\n",
    "\n",
    "print()\n",
    "\n",
    "# Tabla de verdad de not\n",
    "\n",
    "print('x\\tnot x')\n",
    "print('-'*13)\n",
    "for x in booleanos:\n",
    "    print(x, not x, sep = '\\t')\n",
    "\n",
    "print()\n",
    "\n",
    "# Tabla de verdad de ^\n",
    "\n",
    "print('x\\ty\\tx ^ y')\n",
    "print('-'*21)\n",
    "for x in booleanos:\n",
    "    for y in booleanos:\n",
    "        print(x, y, x ^ y, sep = '\\t')"
   ]
  },
  {
   "cell_type": "markdown",
   "metadata": {
    "id": "PJ-GTcqPXKGe"
   },
   "source": [
    "### **Ejemplos**"
   ]
  },
  {
   "cell_type": "code",
   "execution_count": null,
   "metadata": {
    "colab": {
     "base_uri": "https://localhost:8080/"
    },
    "executionInfo": {
     "elapsed": 5,
     "status": "ok",
     "timestamp": 1747425011578,
     "user": {
      "displayName": "Francisco Fernandez",
      "userId": "14484514716531413217"
     },
     "user_tz": 180
    },
    "id": "gf0aXUbIXI39",
    "outputId": "bc63ec10-91fb-48b8-9132-925a03aa8d94"
   },
   "outputs": [
    {
     "name": "stdout",
     "output_type": "stream",
     "text": [
      "Es par\n"
     ]
    }
   ],
   "source": [
    "numero = 8\n",
    "\n",
    "if numero % 2 == 0:\n",
    "    print(\"Es par\")\n",
    "else:\n",
    "    print(\"Es impar\")"
   ]
  },
  {
   "cell_type": "code",
   "execution_count": 58,
   "metadata": {
    "colab": {
     "base_uri": "https://localhost:8080/"
    },
    "executionInfo": {
     "elapsed": 1999,
     "status": "ok",
     "timestamp": 1747695616828,
     "user": {
      "displayName": "Francisco Fernandez",
      "userId": "14484514716531413217"
     },
     "user_tz": 180
    },
    "id": "RhhuKlFeXOuk",
    "outputId": "56a1fd1d-acda-4d4d-e41c-745eb9421c28"
   },
   "outputs": [
    {
     "name": "stdout",
     "output_type": "stream",
     "text": [
      "Ingrese su edad: 10\n",
      "Acceso denegado\n"
     ]
    }
   ],
   "source": [
    "edad = int(input(\"Ingrese su edad: \"))\n",
    "\n",
    "if edad >= 18:\n",
    "    print(\"Puede entrar\")\n",
    "else:\n",
    "    print(\"Acceso denegado\")\n"
   ]
  },
  {
   "cell_type": "code",
   "execution_count": 62,
   "metadata": {
    "colab": {
     "base_uri": "https://localhost:8080/"
    },
    "executionInfo": {
     "elapsed": 4,
     "status": "ok",
     "timestamp": 1747695644373,
     "user": {
      "displayName": "Francisco Fernandez",
      "userId": "14484514716531413217"
     },
     "user_tz": 180
    },
    "id": "940X0oJIXgta",
    "outputId": "b7afcf48-45b1-4535-f9bb-162c3648b757"
   },
   "outputs": [
    {
     "name": "stdout",
     "output_type": "stream",
     "text": [
      "Hace calor\n"
     ]
    }
   ],
   "source": [
    "temperatura = 30\n",
    "\n",
    "if temperatura < 10:\n",
    "    print(\"Hace frío\")\n",
    "elif temperatura < 15:\n",
    "    print(\"Casi chui\")\n",
    "elif temperatura < 25:\n",
    "    print(\"Clima agradable\")\n",
    "else:\n",
    "    print(\"Hace calor\")"
   ]
  },
  {
   "cell_type": "code",
   "execution_count": null,
   "metadata": {
    "colab": {
     "base_uri": "https://localhost:8080/"
    },
    "executionInfo": {
     "elapsed": 2044,
     "status": "ok",
     "timestamp": 1747425630852,
     "user": {
      "displayName": "Francisco Fernandez",
      "userId": "14484514716531413217"
     },
     "user_tz": 180
    },
    "id": "dlJEJocgXkbm",
    "outputId": "3f4c41fc-8dcf-4e56-a081-1c4f9fce90f9"
   },
   "outputs": [
    {
     "name": "stdout",
     "output_type": "stream",
     "text": [
      "Introducir nota: 6\n",
      "Aprobado\n"
     ]
    }
   ],
   "source": [
    "input_ok = False\n",
    "\n",
    "while not input_ok:\n",
    "  nota = int(input('Introducir nota: '))\n",
    "  if nota > 0 and nota <= 10:\n",
    "    input_ok = True\n",
    "\n",
    "if nota >= 6 and nota <= 10:\n",
    "    print(\"Aprobado\")\n",
    "else:\n",
    "    print(\"Reprobado\")"
   ]
  },
  {
   "cell_type": "markdown",
   "metadata": {
    "id": "5yPwMux-TuQ-"
   },
   "source": [
    "# Ejercicios"
   ]
  },
  {
   "cell_type": "code",
   "execution_count": null,
   "metadata": {
    "id": "kaeJkDmUW64D"
   },
   "outputs": [],
   "source": [
    "# Pide una nota y clasifícala: excelente (9-10), aprobado (6-8), desaprobado (<6)."
   ]
  },
  {
   "cell_type": "code",
   "execution_count": null,
   "metadata": {
    "colab": {
     "base_uri": "https://localhost:8080/"
    },
    "executionInfo": {
     "elapsed": 1664,
     "status": "ok",
     "timestamp": 1747426229062,
     "user": {
      "displayName": "Francisco Fernandez",
      "userId": "14484514716531413217"
     },
     "user_tz": 180
    },
    "id": "h2uDHQyht9UW",
    "outputId": "69a1d2bf-edc9-4333-c398-2300ee05fd45"
   },
   "outputs": [
    {
     "name": "stdout",
     "output_type": "stream",
     "text": [
      "Ingresá la nota (0 a 10): 9\n",
      "Clasificación: Excelente\n"
     ]
    }
   ],
   "source": [
    "nota = int(input(\"Ingresá la nota (0 a 10): \"))\n",
    "\n",
    "\n",
    "if nota >= 9 and nota <= 10:\n",
    "    print(\"Clasificación: Excelente\")\n",
    "elif nota >= 6 and nota < 9:\n",
    "    print(\"Clasificación: Aprobado\")\n",
    "elif nota >= 0 and nota < 6:\n",
    "    print(\"Clasificación: Desaprobado\")\n",
    "else:\n",
    "    print(\"Error: La nota ingresada no es válida (debe estar entre 0 y 10).\")"
   ]
  },
  {
   "cell_type": "code",
   "execution_count": null,
   "metadata": {
    "colab": {
     "base_uri": "https://localhost:8080/"
    },
    "executionInfo": {
     "elapsed": 6153,
     "status": "ok",
     "timestamp": 1747426576673,
     "user": {
      "displayName": "Francisco Fernandez",
      "userId": "14484514716531413217"
     },
     "user_tz": 180
    },
    "id": "Hy-o5_TOXq9Z",
    "outputId": "2be3f74c-1357-470f-d34a-2342078d8e00"
   },
   "outputs": [
    {
     "name": "stdout",
     "output_type": "stream",
     "text": [
      "Introducir edad 20\n",
      "Introducir nacionalidadargentina\n",
      "Puede votar en Argentina\n"
     ]
    }
   ],
   "source": [
    "# Pide edad y nacionalidad. Si es mayor de edad y argentino, puede votar en Argentina\n",
    "\n",
    "edad= int(input('Introducir edad '))\n",
    "nacionalidad = input ('Introducir nacionalidad')\n",
    "\n",
    "\n",
    "if edad >=18:\n",
    "  if nacionalidad == 'argentino' or nacionalidad== 'argentina':\n",
    "    print ('Puede votar en Argentina')\n",
    "  else:\n",
    "    print ('No puede votar en Argentina')"
   ]
  },
  {
   "cell_type": "code",
   "execution_count": null,
   "metadata": {
    "id": "iH4zY55LvBkN"
   },
   "outputs": [],
   "source": []
  }
 ],
 "metadata": {
  "colab": {
   "authorship_tag": "ABX9TyMPEW3/Gupcemz2JP0oEm2O",
   "provenance": []
  },
  "kernelspec": {
   "display_name": "Python 3",
   "name": "python3"
  },
  "language_info": {
   "name": "python"
  }
 },
 "nbformat": 4,
 "nbformat_minor": 0
}
