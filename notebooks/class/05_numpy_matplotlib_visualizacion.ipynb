{
 "cells": [
  {
   "cell_type": "markdown",
   "metadata": {},
   "source": [
    "# 📊 NumPy y Matplotlib: Análisis Numérico y Visualización\n",
    "\n",
    "## 🎯 Objetivos de Aprendizaje\n",
    "\n",
    "Al finalizar este notebook, serás capaz de:\n",
    "\n",
    "- Comprender la importancia de NumPy en el ecosistema de Data Science\n",
    "- Crear y manipular arrays de NumPy de manera eficiente\n",
    "- Realizar operaciones matemáticas y estadísticas con arrays\n",
    "- Utilizar Matplotlib para crear visualizaciones básicas y avanzadas\n",
    "- Personalizar gráficos para comunicar datos efectivamente\n",
    "- Integrar NumPy y Matplotlib para análisis exploratorio de datos\n",
    "\n",
    "## 📚 Contenido\n",
    "\n",
    "### 🔢 NumPy - Numerical Python\n",
    "\n",
    "1. **Introducción a NumPy**\n",
    "   - ¿Qué es NumPy y por qué usarlo?\n",
    "   - Ventajas sobre listas de Python\n",
    "   - Instalación e importación\n",
    "\n",
    "2. **Arrays de NumPy**\n",
    "   - Creación de arrays (1D, 2D, 3D)\n",
    "   - Tipos de datos (dtype)\n",
    "   - Propiedades básicas (shape, size, ndim)\n",
    "\n",
    "3. **Operaciones con Arrays**\n",
    "   - Operaciones aritméticas elemento a elemento\n",
    "   - Funciones matemáticas universales\n",
    "   - Indexación y slicing avanzado\n",
    "\n",
    "4. **Funciones Estadísticas**\n",
    "   - Media, mediana, desviación estándar\n",
    "   - Valores máximos y mínimos\n",
    "   - Correlaciones y covarianzas\n",
    "\n",
    "### 📈 Matplotlib - Visualización de Datos\n",
    "\n",
    "5. **Introducción a Matplotlib**\n",
    "   - ¿Qué es Matplotlib?\n",
    "   - Estructura básica de un gráfico\n",
    "   - Interfaz pyplot\n",
    "\n",
    "6. **Tipos de Gráficos**\n",
    "   - Gráficos de línea\n",
    "   - Gráficos de barras\n",
    "   - Histogramas\n",
    "   - Gráficos de dispersión\n",
    "\n",
    "7. **Personalización de Gráficos**\n",
    "   - Títulos, etiquetas y leyendas\n",
    "   - Colores y estilos\n",
    "   - Subgráficos (subplots)\n",
    "\n",
    "8. **Casos Prácticos**\n",
    "   - Visualización de datos científicos\n",
    "   - Análisis exploratorio básico\n",
    "\n",
    "## 🛠️ Prerrequisitos\n",
    "\n",
    "- Conocimiento sólido de Python básico\n",
    "- Familiaridad con listas y estructuras de datos\n",
    "- Conceptos básicos de matemáticas y estadística\n",
    "\n",
    "## 📦 Librerías Utilizadas\n",
    "\n",
    "```python\n",
    "import numpy as np\n",
    "import matplotlib.pyplot as plt\n",
    "```\n",
    "\n",
    "## 💡 Conceptos Clave\n",
    "\n",
    "- **Array**: Estructura de datos homogénea y multidimensional\n",
    "- **Broadcasting**: Operaciones entre arrays de diferentes tamaños\n",
    "- **Vectorización**: Aplicar operaciones a arrays completos sin bucles explícitos\n",
    "- **Figure**: Contenedor principal de todos los elementos de un gráfico\n",
    "- **Axes**: Área donde se dibujan los datos en un gráfico\n",
    "\n",
    "## 🌟 ¿Por qué NumPy y Matplotlib?\n",
    "\n",
    "- **NumPy**: Base de la mayoría de librerías científicas de Python\n",
    "- **Matplotlib**: Herramienta estándar para visualización en Python\n",
    "- **Rendimiento**: Operaciones optimizadas en C para mayor velocidad\n",
    "- **Ecosistema**: Integración perfecta con pandas, scikit-learn, scipy\n",
    "\n",
    "---"
   ]
  },
  {
   "cell_type": "markdown",
   "metadata": {
    "id": "N8_BqXmAHXjo"
   },
   "source": [
    "# **Libreria Numpy**\n",
    "NumPy es un proyecto de código abierto que tiene como objetivo permitir la computación numérica con Python. Fue creado en 2005, basándose en el trabajo inicial de las bibliotecas Numeric y Numarray.\n",
    "\n",
    "NumPy siempre será un software 100% de código abierto, de uso gratuito para todos y publicado bajo los términos liberales de la licencia BSD modificada\n",
    "\n",
    "![numpy](https://aprendeconalf.es/docencia/python/manual/img/numpy-logo.png)\n",
    "\n",
    "\n",
    "**Qué es NumPy?**\n",
    "\n",
    "* Librería para computación numérica eficiente.\n",
    "\n",
    "* Base de muchas otras librerías (Pandas, SciPy, Scikit-learn, etc.)."
   ]
  },
  {
   "cell_type": "code",
   "execution_count": 10,
   "metadata": {
    "executionInfo": {
     "elapsed": 11,
     "status": "ok",
     "timestamp": 1747338033083,
     "user": {
      "displayName": "Francisco Fernandez",
      "userId": "14484514716531413217"
     },
     "user_tz": 180
    },
    "id": "P911p-tDoyoz"
   },
   "outputs": [],
   "source": [
    "# invocamos la libreria numpy\n",
    "import numpy as np"
   ]
  },
  {
   "cell_type": "markdown",
   "metadata": {
    "id": "dtCxiNobqOFj"
   },
   "source": [
    "# **Invocacion de una lista y un array**"
   ]
  },
  {
   "cell_type": "code",
   "execution_count": 8,
   "metadata": {
    "colab": {
     "base_uri": "https://localhost:8080/"
    },
    "executionInfo": {
     "elapsed": 5,
     "status": "ok",
     "timestamp": 1747332628476,
     "user": {
      "displayName": "Francisco Fernandez",
      "userId": "14484514716531413217"
     },
     "user_tz": 180
    },
    "id": "xUPPaFW0pQMu",
    "outputId": "3faec587-c60c-4ba4-879f-9351281867c9"
   },
   "outputs": [
    {
     "name": "stdout",
     "output_type": "stream",
     "text": [
      "[1, 2, 3, 4, 5, 6, 7, 8, 9]\n",
      "<class 'list'>\n"
     ]
    }
   ],
   "source": [
    "lista = [1,2,3,4,5,6,7,8,9]\n",
    "print(lista)\n",
    "print(type(lista))"
   ]
  },
  {
   "cell_type": "code",
   "execution_count": 7,
   "metadata": {
    "colab": {
     "base_uri": "https://localhost:8080/"
    },
    "executionInfo": {
     "elapsed": 7,
     "status": "ok",
     "timestamp": 1747332627171,
     "user": {
      "displayName": "Francisco Fernandez",
      "userId": "14484514716531413217"
     },
     "user_tz": 180
    },
    "id": "m35eq4tepZPH",
    "outputId": "fc62320c-8b81-42da-8df4-b11693ef67bb"
   },
   "outputs": [
    {
     "name": "stdout",
     "output_type": "stream",
     "text": [
      "[1 2 3 4 5 6 7 8 9]\n",
      "<class 'numpy.ndarray'>\n"
     ]
    }
   ],
   "source": [
    "vector = np.array([1,2,3,4,5,6,7,8,9])\n",
    "print(vector)\n",
    "print(type(vector))"
   ]
  },
  {
   "cell_type": "markdown",
   "metadata": {
    "id": "L30IKpumKeto"
   },
   "source": [
    "**¿Por qué no usar solo listas de Python?**\n",
    "\n",
    "* Rendimiento.\n",
    "* Operaciones vectorizadas.\n",
    "* Funciones avanzadas."
   ]
  },
  {
   "cell_type": "markdown",
   "metadata": {
    "id": "nEABK7BLHiF_"
   },
   "source": [
    "# **Creaciòn de vectores**\n",
    "\n",
    "![dimensiones](https://aprendeconalf.es/docencia/python/manual/img/arrays.png)"
   ]
  },
  {
   "cell_type": "markdown",
   "metadata": {
    "id": "Re_sn4blf2DY"
   },
   "source": [
    "## 1D array"
   ]
  },
  {
   "cell_type": "code",
   "execution_count": 27,
   "metadata": {
    "colab": {
     "base_uri": "https://localhost:8080/"
    },
    "executionInfo": {
     "elapsed": 5,
     "status": "ok",
     "timestamp": 1747338565690,
     "user": {
      "displayName": "Francisco Fernandez",
      "userId": "14484514716531413217"
     },
     "user_tz": 180
    },
    "id": "OhUmJpiGfmL1",
    "outputId": "6d89ed6b-612a-41e0-fa54-e18a0b6bf448"
   },
   "outputs": [
    {
     "data": {
      "text/plain": [
       "array([1, 2, 4, 5, 6, 7, 8])"
      ]
     },
     "execution_count": 27,
     "metadata": {},
     "output_type": "execute_result"
    }
   ],
   "source": [
    "np.array([1,2,4,5,6,7,8])"
   ]
  },
  {
   "cell_type": "code",
   "execution_count": 11,
   "metadata": {
    "colab": {
     "base_uri": "https://localhost:8080/"
    },
    "executionInfo": {
     "elapsed": 5,
     "status": "ok",
     "timestamp": 1747338174909,
     "user": {
      "displayName": "Francisco Fernandez",
      "userId": "14484514716531413217"
     },
     "user_tz": 180
    },
    "id": "Zx8wuX_THuFh",
    "outputId": "9c8d1716-4a34-4542-84b6-59d787a56273"
   },
   "outputs": [
    {
     "data": {
      "text/plain": [
       "array([0, 1, 2, 3, 4, 5, 6, 7, 8, 9])"
      ]
     },
     "execution_count": 11,
     "metadata": {},
     "output_type": "execute_result"
    }
   ],
   "source": [
    "np.arange(10)"
   ]
  },
  {
   "cell_type": "code",
   "execution_count": 21,
   "metadata": {
    "executionInfo": {
     "elapsed": 5,
     "status": "ok",
     "timestamp": 1747338439745,
     "user": {
      "displayName": "Francisco Fernandez",
      "userId": "14484514716531413217"
     },
     "user_tz": 180
    },
    "id": "umeVFJk2eW7M"
   },
   "outputs": [],
   "source": [
    "#(start,stop,step)"
   ]
  },
  {
   "cell_type": "code",
   "execution_count": 15,
   "metadata": {
    "colab": {
     "base_uri": "https://localhost:8080/"
    },
    "executionInfo": {
     "elapsed": 9,
     "status": "ok",
     "timestamp": 1747338252088,
     "user": {
      "displayName": "Francisco Fernandez",
      "userId": "14484514716531413217"
     },
     "user_tz": 180
    },
    "id": "RLpVFFjheNkr",
    "outputId": "300310a9-f08d-42a5-a9b3-2dc43ef67952"
   },
   "outputs": [
    {
     "data": {
      "text/plain": [
       "array([ 0,  2,  4,  6,  8, 10])"
      ]
     },
     "execution_count": 15,
     "metadata": {},
     "output_type": "execute_result"
    }
   ],
   "source": [
    "np.arange(0,11,2)"
   ]
  },
  {
   "cell_type": "code",
   "execution_count": 16,
   "metadata": {
    "colab": {
     "base_uri": "https://localhost:8080/"
    },
    "executionInfo": {
     "elapsed": 7,
     "status": "ok",
     "timestamp": 1747338271642,
     "user": {
      "displayName": "Francisco Fernandez",
      "userId": "14484514716531413217"
     },
     "user_tz": 180
    },
    "id": "Nz4OBI3Jee0j",
    "outputId": "ab7f71da-5ca0-4ac6-e180-4f3bea983b8e"
   },
   "outputs": [
    {
     "data": {
      "text/plain": [
       "array([0., 0., 0., 0., 0., 0., 0., 0., 0., 0.])"
      ]
     },
     "execution_count": 16,
     "metadata": {},
     "output_type": "execute_result"
    }
   ],
   "source": [
    "np.zeros(10)"
   ]
  },
  {
   "cell_type": "code",
   "execution_count": 17,
   "metadata": {
    "colab": {
     "base_uri": "https://localhost:8080/"
    },
    "executionInfo": {
     "elapsed": 28,
     "status": "ok",
     "timestamp": 1747338338605,
     "user": {
      "displayName": "Francisco Fernandez",
      "userId": "14484514716531413217"
     },
     "user_tz": 180
    },
    "id": "Cv0wxA2CevA9",
    "outputId": "2f37b1cd-86df-41aa-8608-561e8f31bd98"
   },
   "outputs": [
    {
     "data": {
      "text/plain": [
       "array([0, 0, 0, 0, 0, 0, 0, 0, 0, 0])"
      ]
     },
     "execution_count": 17,
     "metadata": {},
     "output_type": "execute_result"
    }
   ],
   "source": [
    "np.zeros(10,dtype=int)"
   ]
  },
  {
   "cell_type": "code",
   "execution_count": 18,
   "metadata": {
    "colab": {
     "base_uri": "https://localhost:8080/"
    },
    "executionInfo": {
     "elapsed": 15,
     "status": "ok",
     "timestamp": 1747338361627,
     "user": {
      "displayName": "Francisco Fernandez",
      "userId": "14484514716531413217"
     },
     "user_tz": 180
    },
    "id": "qTSxvigXezlz",
    "outputId": "0632c8a4-0880-42f9-d326-9c0bf9da1f23"
   },
   "outputs": [
    {
     "data": {
      "text/plain": [
       "array([1., 1., 1., 1., 1., 1., 1., 1., 1., 1.])"
      ]
     },
     "execution_count": 18,
     "metadata": {},
     "output_type": "execute_result"
    }
   ],
   "source": [
    "np.ones(10)"
   ]
  },
  {
   "cell_type": "code",
   "execution_count": 19,
   "metadata": {
    "colab": {
     "base_uri": "https://localhost:8080/"
    },
    "executionInfo": {
     "elapsed": 5,
     "status": "ok",
     "timestamp": 1747338380430,
     "user": {
      "displayName": "Francisco Fernandez",
      "userId": "14484514716531413217"
     },
     "user_tz": 180
    },
    "id": "VnOMMowAe4I8",
    "outputId": "b4b52846-8259-4e9b-b089-ae38b2980389"
   },
   "outputs": [
    {
     "data": {
      "text/plain": [
       "array([1, 1, 1, 1, 1, 1, 1, 1, 1, 1])"
      ]
     },
     "execution_count": 19,
     "metadata": {},
     "output_type": "execute_result"
    }
   ],
   "source": [
    "np.ones(10,dtype=int)"
   ]
  },
  {
   "cell_type": "code",
   "execution_count": 20,
   "metadata": {
    "colab": {
     "base_uri": "https://localhost:8080/"
    },
    "executionInfo": {
     "elapsed": 54,
     "status": "ok",
     "timestamp": 1747338418536,
     "user": {
      "displayName": "Francisco Fernandez",
      "userId": "14484514716531413217"
     },
     "user_tz": 180
    },
    "id": "v9ZzOiE3e9jW",
    "outputId": "02184441-8bf3-45b3-b2c4-e73ed9a888a2"
   },
   "outputs": [
    {
     "data": {
      "text/plain": [
       "array([255, 255, 255, 255, 255, 255, 255, 255, 255, 255])"
      ]
     },
     "execution_count": 20,
     "metadata": {},
     "output_type": "execute_result"
    }
   ],
   "source": [
    "np.full(10,255)"
   ]
  },
  {
   "cell_type": "code",
   "execution_count": 26,
   "metadata": {
    "colab": {
     "base_uri": "https://localhost:8080/"
    },
    "executionInfo": {
     "elapsed": 5,
     "status": "ok",
     "timestamp": 1747338535157,
     "user": {
      "displayName": "Francisco Fernandez",
      "userId": "14484514716531413217"
     },
     "user_tz": 180
    },
    "id": "yQg0dofIfMFn",
    "outputId": "7b7cacdf-79dc-4297-d2a6-f1909d56e6d8"
   },
   "outputs": [
    {
     "data": {
      "text/plain": [
       "array([7, 8, 4, 2, 6, 6, 0, 1, 4, 0])"
      ]
     },
     "execution_count": 26,
     "metadata": {},
     "output_type": "execute_result"
    }
   ],
   "source": [
    "np.random.randint(10,size=(10))"
   ]
  },
  {
   "cell_type": "markdown",
   "metadata": {
    "id": "j0CNAjxrf5Ps"
   },
   "source": [
    "## 2D array"
   ]
  },
  {
   "cell_type": "code",
   "execution_count": 30,
   "metadata": {
    "colab": {
     "base_uri": "https://localhost:8080/"
    },
    "executionInfo": {
     "elapsed": 220,
     "status": "ok",
     "timestamp": 1747338731656,
     "user": {
      "displayName": "Francisco Fernandez",
      "userId": "14484514716531413217"
     },
     "user_tz": 180
    },
    "id": "gFTWrHs2fzK7",
    "outputId": "4343eb62-dc6c-4174-dc21-53d85a632073"
   },
   "outputs": [
    {
     "data": {
      "text/plain": [
       "array([[1, 5],\n",
       "       [2, 6]])"
      ]
     },
     "execution_count": 30,
     "metadata": {},
     "output_type": "execute_result"
    }
   ],
   "source": [
    "np.array([(1,5),(2,6)])"
   ]
  },
  {
   "cell_type": "code",
   "execution_count": 33,
   "metadata": {
    "colab": {
     "base_uri": "https://localhost:8080/"
    },
    "executionInfo": {
     "elapsed": 8,
     "status": "ok",
     "timestamp": 1747338804576,
     "user": {
      "displayName": "Francisco Fernandez",
      "userId": "14484514716531413217"
     },
     "user_tz": 180
    },
    "id": "sI2LoYVFgV40",
    "outputId": "8bc8ace5-53fc-4ca1-a0df-3adbbcca7ec5"
   },
   "outputs": [
    {
     "data": {
      "text/plain": [
       "array([[0, 0],\n",
       "       [0, 0],\n",
       "       [0, 0]])"
      ]
     },
     "execution_count": 33,
     "metadata": {},
     "output_type": "execute_result"
    }
   ],
   "source": [
    "np.zeros((3,2),dtype=int)"
   ]
  },
  {
   "cell_type": "code",
   "execution_count": 34,
   "metadata": {
    "colab": {
     "base_uri": "https://localhost:8080/"
    },
    "executionInfo": {
     "elapsed": 13,
     "status": "ok",
     "timestamp": 1747338811120,
     "user": {
      "displayName": "Francisco Fernandez",
      "userId": "14484514716531413217"
     },
     "user_tz": 180
    },
    "id": "j56COocWgkVL",
    "outputId": "c76ce59b-2671-4115-cba6-6fb600f2af5e"
   },
   "outputs": [
    {
     "data": {
      "text/plain": [
       "array([[1, 1],\n",
       "       [1, 1],\n",
       "       [1, 1]])"
      ]
     },
     "execution_count": 34,
     "metadata": {},
     "output_type": "execute_result"
    }
   ],
   "source": [
    "np.ones((3,2),dtype=int)"
   ]
  },
  {
   "cell_type": "code",
   "execution_count": 36,
   "metadata": {
    "colab": {
     "base_uri": "https://localhost:8080/"
    },
    "executionInfo": {
     "elapsed": 16,
     "status": "ok",
     "timestamp": 1747338838141,
     "user": {
      "displayName": "Francisco Fernandez",
      "userId": "14484514716531413217"
     },
     "user_tz": 180
    },
    "id": "mjuDsXiXgmo1",
    "outputId": "761e7dbf-6f8f-419a-a817-750973eac4fd"
   },
   "outputs": [
    {
     "data": {
      "text/plain": [
       "array([[9, 8, 9, 1],\n",
       "       [2, 2, 4, 9],\n",
       "       [1, 8, 4, 8],\n",
       "       [8, 8, 2, 6]])"
      ]
     },
     "execution_count": 36,
     "metadata": {},
     "output_type": "execute_result"
    }
   ],
   "source": [
    "np.random.randint(10,size=(4,4))"
   ]
  },
  {
   "cell_type": "markdown",
   "metadata": {
    "id": "E6rqe7SzITbM"
   },
   "source": [
    "# **Indexacion**"
   ]
  },
  {
   "cell_type": "markdown",
   "metadata": {
    "id": "pNgV-Vj4qEFu"
   },
   "source": [
    "Indexación sobre una lista y un array (numpy)\n",
    "\n",
    "![Ejercicio NumPy](https://www.programiz.com/sites/tutorial2program/files/numpy-array-negative-index.png)"
   ]
  },
  {
   "cell_type": "code",
   "execution_count": 37,
   "metadata": {
    "colab": {
     "base_uri": "https://localhost:8080/"
    },
    "executionInfo": {
     "elapsed": 22,
     "status": "ok",
     "timestamp": 1747338875598,
     "user": {
      "displayName": "Francisco Fernandez",
      "userId": "14484514716531413217"
     },
     "user_tz": 180
    },
    "id": "NwhsGbt9psKp",
    "outputId": "a7a63db1-8f17-4e77-ef20-1ee3eec81d78"
   },
   "outputs": [
    {
     "data": {
      "text/plain": [
       "[1, 2, 3, 4, 5, 6, 7, 8, 9]"
      ]
     },
     "execution_count": 37,
     "metadata": {},
     "output_type": "execute_result"
    }
   ],
   "source": [
    "lista"
   ]
  },
  {
   "cell_type": "code",
   "execution_count": 39,
   "metadata": {
    "colab": {
     "base_uri": "https://localhost:8080/"
    },
    "executionInfo": {
     "elapsed": 26,
     "status": "ok",
     "timestamp": 1747338905922,
     "user": {
      "displayName": "Francisco Fernandez",
      "userId": "14484514716531413217"
     },
     "user_tz": 180
    },
    "id": "r6wly9qwg2uX",
    "outputId": "0e99b933-0257-4879-96cf-872dc4ed1e00"
   },
   "outputs": [
    {
     "data": {
      "text/plain": [
       "6"
      ]
     },
     "execution_count": 39,
     "metadata": {},
     "output_type": "execute_result"
    }
   ],
   "source": [
    "lista[5]"
   ]
  },
  {
   "cell_type": "code",
   "execution_count": 40,
   "metadata": {
    "colab": {
     "base_uri": "https://localhost:8080/"
    },
    "executionInfo": {
     "elapsed": 12,
     "status": "ok",
     "timestamp": 1747338929551,
     "user": {
      "displayName": "Francisco Fernandez",
      "userId": "14484514716531413217"
     },
     "user_tz": 180
    },
    "id": "Ntz9_ceHhBtP",
    "outputId": "27468bdc-725b-4300-a59e-0c7738062549"
   },
   "outputs": [
    {
     "data": {
      "text/plain": [
       "array([1, 2, 3, 4, 5, 6, 7, 8, 9])"
      ]
     },
     "execution_count": 40,
     "metadata": {},
     "output_type": "execute_result"
    }
   ],
   "source": [
    "vector"
   ]
  },
  {
   "cell_type": "code",
   "execution_count": 41,
   "metadata": {
    "colab": {
     "base_uri": "https://localhost:8080/"
    },
    "executionInfo": {
     "elapsed": 6,
     "status": "ok",
     "timestamp": 1747338941788,
     "user": {
      "displayName": "Francisco Fernandez",
      "userId": "14484514716531413217"
     },
     "user_tz": 180
    },
    "id": "SuSlk3Wrp1r_",
    "outputId": "0b72f974-9548-4cc8-e87e-7b6caa7872b4"
   },
   "outputs": [
    {
     "data": {
      "text/plain": [
       "np.int64(1)"
      ]
     },
     "execution_count": 41,
     "metadata": {},
     "output_type": "execute_result"
    }
   ],
   "source": [
    "vector[0]"
   ]
  },
  {
   "cell_type": "code",
   "execution_count": 42,
   "metadata": {
    "colab": {
     "base_uri": "https://localhost:8080/"
    },
    "executionInfo": {
     "elapsed": 11,
     "status": "ok",
     "timestamp": 1747338945047,
     "user": {
      "displayName": "Francisco Fernandez",
      "userId": "14484514716531413217"
     },
     "user_tz": 180
    },
    "id": "RyYVU6cap-jG",
    "outputId": "905e149a-9d28-491f-cd5e-ef688091bbfe"
   },
   "outputs": [
    {
     "data": {
      "text/plain": [
       "np.int64(9)"
      ]
     },
     "execution_count": 42,
     "metadata": {},
     "output_type": "execute_result"
    }
   ],
   "source": [
    "vector[-1]"
   ]
  },
  {
   "cell_type": "code",
   "execution_count": 43,
   "metadata": {
    "colab": {
     "base_uri": "https://localhost:8080/"
    },
    "executionInfo": {
     "elapsed": 7,
     "status": "ok",
     "timestamp": 1747338969909,
     "user": {
      "displayName": "Francisco Fernandez",
      "userId": "14484514716531413217"
     },
     "user_tz": 180
    },
    "id": "4Sq3LPMmw3IH",
    "outputId": "fe0c5099-642c-48fd-cbd1-cef4ba7133b4"
   },
   "outputs": [
    {
     "data": {
      "text/plain": [
       "array([2, 3])"
      ]
     },
     "execution_count": 43,
     "metadata": {},
     "output_type": "execute_result"
    }
   ],
   "source": [
    "#start,stop,step\n",
    "vector[1:3:1]"
   ]
  },
  {
   "cell_type": "code",
   "execution_count": 44,
   "metadata": {
    "colab": {
     "base_uri": "https://localhost:8080/"
    },
    "executionInfo": {
     "elapsed": 18,
     "status": "ok",
     "timestamp": 1747338973544,
     "user": {
      "displayName": "Francisco Fernandez",
      "userId": "14484514716531413217"
     },
     "user_tz": 180
    },
    "id": "qjTs4n3ixHHT",
    "outputId": "5997704a-e149-4d83-8fba-570473757421"
   },
   "outputs": [
    {
     "data": {
      "text/plain": [
       "array([9, 8, 7, 6, 5, 4, 3, 2, 1])"
      ]
     },
     "execution_count": 44,
     "metadata": {},
     "output_type": "execute_result"
    }
   ],
   "source": [
    "vector[::-1]"
   ]
  },
  {
   "cell_type": "markdown",
   "metadata": {
    "id": "EH1AWoX5tIxU"
   },
   "source": [
    "# **Verificar dimensiones**"
   ]
  },
  {
   "cell_type": "code",
   "execution_count": 45,
   "metadata": {
    "colab": {
     "base_uri": "https://localhost:8080/"
    },
    "executionInfo": {
     "elapsed": 28,
     "status": "ok",
     "timestamp": 1747339008950,
     "user": {
      "displayName": "Francisco Fernandez",
      "userId": "14484514716531413217"
     },
     "user_tz": 180
    },
    "id": "VWhJ1QCmKxg7",
    "outputId": "84b2527a-874b-4b47-ae51-9d2f4dbaf90e"
   },
   "outputs": [
    {
     "data": {
      "text/plain": [
       "(9,)"
      ]
     },
     "execution_count": 45,
     "metadata": {},
     "output_type": "execute_result"
    }
   ],
   "source": [
    "vector.shape"
   ]
  },
  {
   "cell_type": "markdown",
   "metadata": {
    "id": "fPmwzW7fsvIO"
   },
   "source": [
    "# **Calculos con vectores**"
   ]
  },
  {
   "cell_type": "code",
   "execution_count": 48,
   "metadata": {
    "executionInfo": {
     "elapsed": 15,
     "status": "ok",
     "timestamp": 1747339135354,
     "user": {
      "displayName": "Francisco Fernandez",
      "userId": "14484514716531413217"
     },
     "user_tz": 180
    },
    "id": "xInp0nH1hpdX"
   },
   "outputs": [],
   "source": [
    "np.random.seed(42)"
   ]
  },
  {
   "cell_type": "code",
   "execution_count": 49,
   "metadata": {
    "colab": {
     "base_uri": "https://localhost:8080/"
    },
    "executionInfo": {
     "elapsed": 12,
     "status": "ok",
     "timestamp": 1747339138800,
     "user": {
      "displayName": "Francisco Fernandez",
      "userId": "14484514716531413217"
     },
     "user_tz": 180
    },
    "id": "huLUROwIhZhV",
    "outputId": "dc55a06f-6e82-4e71-b9b7-4640dacd906d"
   },
   "outputs": [
    {
     "data": {
      "text/plain": [
       "array([51, 92, 14, 71, 60, 20, 82, 86, 74, 74])"
      ]
     },
     "execution_count": 49,
     "metadata": {},
     "output_type": "execute_result"
    }
   ],
   "source": [
    "vectora = np.random.randint(100,size=(10))\n",
    "vectora"
   ]
  },
  {
   "cell_type": "code",
   "execution_count": 50,
   "metadata": {
    "colab": {
     "base_uri": "https://localhost:8080/"
    },
    "executionInfo": {
     "elapsed": 20,
     "status": "ok",
     "timestamp": 1747339140795,
     "user": {
      "displayName": "Francisco Fernandez",
      "userId": "14484514716531413217"
     },
     "user_tz": 180
    },
    "id": "g47ETwHvhjBO",
    "outputId": "f0b2f653-5072-4f2a-a46e-679618b6aa5d"
   },
   "outputs": [
    {
     "data": {
      "text/plain": [
       "array([87, 99, 23,  2, 21, 52,  1, 87, 29, 37])"
      ]
     },
     "execution_count": 50,
     "metadata": {},
     "output_type": "execute_result"
    }
   ],
   "source": [
    "vectorb = np.random.randint(100,size=(10))\n",
    "vectorb"
   ]
  },
  {
   "cell_type": "code",
   "execution_count": 53,
   "metadata": {
    "colab": {
     "base_uri": "https://localhost:8080/"
    },
    "executionInfo": {
     "elapsed": 8,
     "status": "ok",
     "timestamp": 1747339246490,
     "user": {
      "displayName": "Francisco Fernandez",
      "userId": "14484514716531413217"
     },
     "user_tz": 180
    },
    "id": "GFIrQmLsh2tc",
    "outputId": "4861a03e-c5e1-434b-abe0-5fceda6af860"
   },
   "outputs": [
    {
     "data": {
      "text/plain": [
       "array([138, 191,  37,  73,  81,  72,  83, 173, 103, 111])"
      ]
     },
     "execution_count": 53,
     "metadata": {},
     "output_type": "execute_result"
    }
   ],
   "source": [
    "#Suma\n",
    "vectora + vectorb"
   ]
  },
  {
   "cell_type": "code",
   "execution_count": 60,
   "metadata": {
    "colab": {
     "base_uri": "https://localhost:8080/"
    },
    "executionInfo": {
     "elapsed": 27,
     "status": "ok",
     "timestamp": 1747339634664,
     "user": {
      "displayName": "Francisco Fernandez",
      "userId": "14484514716531413217"
     },
     "user_tz": 180
    },
    "id": "H42UsNpjjqQv",
    "outputId": "feb0ebee-d71e-419a-f418-9f7fe689f247"
   },
   "outputs": [
    {
     "data": {
      "text/plain": [
       "array([138, 191,  37,  73,  81,  72,  83, 173, 103, 111])"
      ]
     },
     "execution_count": 60,
     "metadata": {},
     "output_type": "execute_result"
    }
   ],
   "source": [
    "np.add(vectora,vectorb)"
   ]
  },
  {
   "cell_type": "code",
   "execution_count": 54,
   "metadata": {
    "colab": {
     "base_uri": "https://localhost:8080/"
    },
    "executionInfo": {
     "elapsed": 6,
     "status": "ok",
     "timestamp": 1747339248256,
     "user": {
      "displayName": "Francisco Fernandez",
      "userId": "14484514716531413217"
     },
     "user_tz": 180
    },
    "id": "z3tytdz_iJ3j",
    "outputId": "5ebcbc74-107c-4191-8f87-78940027c9c5"
   },
   "outputs": [
    {
     "data": {
      "text/plain": [
       "array([-36,  -7,  -9,  69,  39, -32,  81,  -1,  45,  37])"
      ]
     },
     "execution_count": 54,
     "metadata": {},
     "output_type": "execute_result"
    }
   ],
   "source": [
    "#Resta\n",
    "vectora - vectorb\n",
    "#np.subtract(vectora,vectorb)"
   ]
  },
  {
   "cell_type": "code",
   "execution_count": 62,
   "metadata": {
    "colab": {
     "base_uri": "https://localhost:8080/"
    },
    "executionInfo": {
     "elapsed": 10,
     "status": "ok",
     "timestamp": 1747339662219,
     "user": {
      "displayName": "Francisco Fernandez",
      "userId": "14484514716531413217"
     },
     "user_tz": 180
    },
    "id": "Z4j-nfjdiQpZ",
    "outputId": "a97847a2-9f87-4465-f963-76d8b0350e95"
   },
   "outputs": [
    {
     "data": {
      "text/plain": [
       "array([4437, 9108,  322,  142, 1260, 1040,   82, 7482, 2146, 2738])"
      ]
     },
     "execution_count": 62,
     "metadata": {},
     "output_type": "execute_result"
    }
   ],
   "source": [
    "#Multiplicacion\n",
    "vectora * vectorb\n",
    "# np.multiply(vectora,vectorb)"
   ]
  },
  {
   "cell_type": "code",
   "execution_count": 56,
   "metadata": {
    "colab": {
     "base_uri": "https://localhost:8080/"
    },
    "executionInfo": {
     "elapsed": 46,
     "status": "ok",
     "timestamp": 1747339286292,
     "user": {
      "displayName": "Francisco Fernandez",
      "userId": "14484514716531413217"
     },
     "user_tz": 180
    },
    "id": "e87jX-zciWTl",
    "outputId": "2954ef7c-f3dc-4af9-c921-b0f94eb0beed"
   },
   "outputs": [
    {
     "data": {
      "text/plain": [
       "array([ 0.5862069 ,  0.92929293,  0.60869565, 35.5       ,  2.85714286,\n",
       "        0.38461538, 82.        ,  0.98850575,  2.55172414,  2.        ])"
      ]
     },
     "execution_count": 56,
     "metadata": {},
     "output_type": "execute_result"
    }
   ],
   "source": [
    "#division\n",
    "vectora / vectorb\n",
    "#np.divide(vectora,vectorb)"
   ]
  },
  {
   "cell_type": "code",
   "execution_count": 57,
   "metadata": {
    "colab": {
     "base_uri": "https://localhost:8080/"
    },
    "executionInfo": {
     "elapsed": 14,
     "status": "ok",
     "timestamp": 1747339295503,
     "user": {
      "displayName": "Francisco Fernandez",
      "userId": "14484514716531413217"
     },
     "user_tz": 180
    },
    "id": "OqWbLawHiZ9X",
    "outputId": "8c3b3baf-e72d-439b-9b16-6c0a5c36d84a"
   },
   "outputs": [
    {
     "data": {
      "text/plain": [
       "array([51, 92, 14, 71, 60, 20, 82, 86, 74, 74])"
      ]
     },
     "execution_count": 57,
     "metadata": {},
     "output_type": "execute_result"
    }
   ],
   "source": [
    "vectora"
   ]
  },
  {
   "cell_type": "code",
   "execution_count": 63,
   "metadata": {
    "colab": {
     "base_uri": "https://localhost:8080/"
    },
    "executionInfo": {
     "elapsed": 190,
     "status": "ok",
     "timestamp": 1747339727188,
     "user": {
      "displayName": "Francisco Fernandez",
      "userId": "14484514716531413217"
     },
     "user_tz": 180
    },
    "id": "Dknvcas2icR5",
    "outputId": "35f2bd5b-901e-4765-9a5f-de7907486098"
   },
   "outputs": [
    {
     "data": {
      "text/plain": [
       "array([102, 184,  28, 142, 120,  40, 164, 172, 148, 148])"
      ]
     },
     "execution_count": 63,
     "metadata": {},
     "output_type": "execute_result"
    }
   ],
   "source": [
    "vectora * 2"
   ]
  },
  {
   "cell_type": "code",
   "execution_count": 64,
   "metadata": {
    "colab": {
     "base_uri": "https://localhost:8080/"
    },
    "executionInfo": {
     "elapsed": 6,
     "status": "ok",
     "timestamp": 1747339728660,
     "user": {
      "displayName": "Francisco Fernandez",
      "userId": "14484514716531413217"
     },
     "user_tz": 180
    },
    "id": "zSc1ThqHigOk",
    "outputId": "9c4feb65-aeed-4447-b1dd-bfc243783e17"
   },
   "outputs": [
    {
     "data": {
      "text/plain": [
       "array([2601, 8464,  196, 5041, 3600,  400, 6724, 7396, 5476, 5476])"
      ]
     },
     "execution_count": 64,
     "metadata": {},
     "output_type": "execute_result"
    }
   ],
   "source": [
    "vectora ** 2\n",
    "#np.exp(vectora,2)"
   ]
  },
  {
   "cell_type": "code",
   "execution_count": 65,
   "metadata": {
    "colab": {
     "base_uri": "https://localhost:8080/"
    },
    "executionInfo": {
     "elapsed": 12,
     "status": "ok",
     "timestamp": 1747339743819,
     "user": {
      "displayName": "Francisco Fernandez",
      "userId": "14484514716531413217"
     },
     "user_tz": 180
    },
    "id": "abX7tjrXkF4E",
    "outputId": "f4e05f12-170d-49dd-a76d-7db052933f23"
   },
   "outputs": [
    {
     "data": {
      "text/plain": [
       "array([ 0.67022918, -0.77946607,  0.99060736,  0.95105465, -0.30481062,\n",
       "        0.91294525,  0.31322878, -0.92345845, -0.98514626, -0.98514626])"
      ]
     },
     "execution_count": 65,
     "metadata": {},
     "output_type": "execute_result"
    }
   ],
   "source": [
    "np.sin(vectora)"
   ]
  },
  {
   "cell_type": "code",
   "execution_count": 66,
   "metadata": {
    "colab": {
     "base_uri": "https://localhost:8080/"
    },
    "executionInfo": {
     "elapsed": 10,
     "status": "ok",
     "timestamp": 1747339755797,
     "user": {
      "displayName": "Francisco Fernandez",
      "userId": "14484514716531413217"
     },
     "user_tz": 180
    },
    "id": "bXpoBSpKkKLN",
    "outputId": "0bf86753-01ec-466a-c722-0d4ff8612cea"
   },
   "outputs": [
    {
     "data": {
      "text/plain": [
       "array([ 0.7421542 , -0.62644445,  0.13673722, -0.30902273, -0.95241298,\n",
       "        0.40808206,  0.9496777 , -0.38369844,  0.17171734,  0.17171734])"
      ]
     },
     "execution_count": 66,
     "metadata": {},
     "output_type": "execute_result"
    }
   ],
   "source": [
    "np.cos(vectora)"
   ]
  },
  {
   "cell_type": "code",
   "execution_count": 68,
   "metadata": {
    "colab": {
     "base_uri": "https://localhost:8080/"
    },
    "executionInfo": {
     "elapsed": 16,
     "status": "ok",
     "timestamp": 1747339798293,
     "user": {
      "displayName": "Francisco Fernandez",
      "userId": "14484514716531413217"
     },
     "user_tz": 180
    },
    "id": "kiRjaFl9kMvx",
    "outputId": "ce0d51c2-fd12-4ff8-9833-7cfc970483f7"
   },
   "outputs": [
    {
     "data": {
      "text/plain": [
       "np.int64(28757)"
      ]
     },
     "execution_count": 68,
     "metadata": {},
     "output_type": "execute_result"
    }
   ],
   "source": [
    "#Producto punto\n",
    "vectora.dot(vectorb)"
   ]
  },
  {
   "cell_type": "markdown",
   "metadata": {
    "id": "CFrnlPTZIv99"
   },
   "source": [
    "# **Ejercicios**\n",
    "\n",
    "Recordar importar libreria numpy en sus colab"
   ]
  },
  {
   "cell_type": "code",
   "execution_count": null,
   "metadata": {
    "id": "Z7juqzHlvx3Y"
   },
   "outputs": [],
   "source": [
    "#Crear un array del 0 al 9 llamado a"
   ]
  },
  {
   "cell_type": "code",
   "execution_count": null,
   "metadata": {
    "id": "l6PT555XwH01"
   },
   "outputs": [],
   "source": [
    "#Crear un array de 50 ceros"
   ]
  },
  {
   "cell_type": "code",
   "execution_count": null,
   "metadata": {
    "id": "fePu0OIbwLzb"
   },
   "outputs": [],
   "source": [
    "#Crear un array de 35 unos"
   ]
  },
  {
   "cell_type": "code",
   "execution_count": null,
   "metadata": {
    "id": "_GqbaUqHwOUt"
   },
   "outputs": [],
   "source": [
    "#Acceder al primer, último y penúltimo elemento del vector a"
   ]
  },
  {
   "cell_type": "code",
   "execution_count": null,
   "metadata": {
    "id": "0RiWH0WAweY_"
   },
   "outputs": [],
   "source": [
    "#Multiplicar todos los elementos por 2 del vector a"
   ]
  },
  {
   "cell_type": "code",
   "execution_count": null,
   "metadata": {
    "id": "wYQv4LwZwyAK"
   },
   "outputs": [],
   "source": [
    "#Invertir un array"
   ]
  },
  {
   "cell_type": "markdown",
   "metadata": {
    "id": "ji9Uq_YTkckq"
   },
   "source": [
    "# **Condicionales**"
   ]
  },
  {
   "cell_type": "code",
   "execution_count": 69,
   "metadata": {
    "colab": {
     "base_uri": "https://localhost:8080/"
    },
    "executionInfo": {
     "elapsed": 10,
     "status": "ok",
     "timestamp": 1747339844556,
     "user": {
      "displayName": "Francisco Fernandez",
      "userId": "14484514716531413217"
     },
     "user_tz": 180
    },
    "id": "4T9U9br9kgmj",
    "outputId": "82093866-d785-403d-efcf-d3098ef6f679"
   },
   "outputs": [
    {
     "data": {
      "text/plain": [
       "array([51, 92, 14, 71, 60, 20, 82, 86, 74, 74])"
      ]
     },
     "execution_count": 69,
     "metadata": {},
     "output_type": "execute_result"
    }
   ],
   "source": [
    "vectora"
   ]
  },
  {
   "cell_type": "code",
   "execution_count": 71,
   "metadata": {
    "colab": {
     "base_uri": "https://localhost:8080/"
    },
    "executionInfo": {
     "elapsed": 24,
     "status": "ok",
     "timestamp": 1747339908022,
     "user": {
      "displayName": "Francisco Fernandez",
      "userId": "14484514716531413217"
     },
     "user_tz": 180
    },
    "id": "YXR2Z_QtkllV",
    "outputId": "e4d17d7c-36b0-4780-c05d-fe644b0bd05d"
   },
   "outputs": [
    {
     "data": {
      "text/plain": [
       "array([92, 14, 60, 20, 82, 86, 74, 74])"
      ]
     },
     "execution_count": 71,
     "metadata": {},
     "output_type": "execute_result"
    }
   ],
   "source": [
    "vectora[ vectora % 2 == 0 ]"
   ]
  },
  {
   "cell_type": "code",
   "execution_count": 72,
   "metadata": {
    "colab": {
     "base_uri": "https://localhost:8080/"
    },
    "executionInfo": {
     "elapsed": 14,
     "status": "ok",
     "timestamp": 1747339950075,
     "user": {
      "displayName": "Francisco Fernandez",
      "userId": "14484514716531413217"
     },
     "user_tz": 180
    },
    "id": "NR24qAKnk1qb",
    "outputId": "9bc580b5-5042-4628-daaf-8674c2f8f171"
   },
   "outputs": [
    {
     "data": {
      "text/plain": [
       "array([51, 92, 71, 60, 82, 86, 74, 74])"
      ]
     },
     "execution_count": 72,
     "metadata": {},
     "output_type": "execute_result"
    }
   ],
   "source": [
    "vectora[ vectora >= 50 ]"
   ]
  },
  {
   "cell_type": "code",
   "execution_count": 73,
   "metadata": {
    "colab": {
     "base_uri": "https://localhost:8080/"
    },
    "executionInfo": {
     "elapsed": 7,
     "status": "ok",
     "timestamp": 1747339966076,
     "user": {
      "displayName": "Francisco Fernandez",
      "userId": "14484514716531413217"
     },
     "user_tz": 180
    },
    "id": "5-h6HuMYk9Yd",
    "outputId": "b2ac5b19-343a-44d8-c631-f06e6d7e97bc"
   },
   "outputs": [
    {
     "data": {
      "text/plain": [
       "array([14, 20])"
      ]
     },
     "execution_count": 73,
     "metadata": {},
     "output_type": "execute_result"
    }
   ],
   "source": [
    "vectora[ vectora < 50 ]"
   ]
  },
  {
   "cell_type": "code",
   "execution_count": 74,
   "metadata": {
    "colab": {
     "base_uri": "https://localhost:8080/"
    },
    "executionInfo": {
     "elapsed": 12,
     "status": "ok",
     "timestamp": 1747339988685,
     "user": {
      "displayName": "Francisco Fernandez",
      "userId": "14484514716531413217"
     },
     "user_tz": 180
    },
    "id": "-2BdaHUtlBHg",
    "outputId": "a9e8b485-da1d-4220-8831-db90ecc83ff3"
   },
   "outputs": [
    {
     "data": {
      "text/plain": [
       "array([14])"
      ]
     },
     "execution_count": 74,
     "metadata": {},
     "output_type": "execute_result"
    }
   ],
   "source": [
    "vectora[ vectora == 14]"
   ]
  },
  {
   "cell_type": "markdown",
   "metadata": {
    "id": "suWEl3Koxy8R"
   },
   "source": [
    "# **Funciones de agregacion**\n",
    "\n",
    "\n",
    "![Ejercicio NumPy](https://blogger.googleusercontent.com/img/b/R29vZ2xl/AVvXsEhXjuo6_gVu1IYhnb8OroS5BvhaFNIiTY5NzwGRoYF23apFLjJzM3er8OFSFMAqcphKBtruQ8KOoAiqDU98usUU6rQvawaZJNXGJ3S2aSmuZg920RUf9LtTFiyBTY-e_4nFgHwNmleqvIA/s1600/4214_t2-3.PNG)\n"
   ]
  },
  {
   "cell_type": "code",
   "execution_count": 80,
   "metadata": {
    "colab": {
     "base_uri": "https://localhost:8080/"
    },
    "executionInfo": {
     "elapsed": 10,
     "status": "ok",
     "timestamp": 1747340192552,
     "user": {
      "displayName": "Francisco Fernandez",
      "userId": "14484514716531413217"
     },
     "user_tz": 180
    },
    "id": "hXYnmOy_lk9N",
    "outputId": "84b18c3f-44d3-4ca3-8f91-ccb7dc5a6e61"
   },
   "outputs": [
    {
     "data": {
      "text/plain": [
       "array([94.22017557, 56.32882178, 38.54165025,  1.59662522, 23.08938256,\n",
       "       24.1025466 , 68.32635188, 60.99966578, 83.31949117, 17.33646535])"
      ]
     },
     "execution_count": 80,
     "metadata": {},
     "output_type": "execute_result"
    }
   ],
   "source": [
    "vector_a = np.random.random(size=(10)) * 100\n",
    "vector_a"
   ]
  },
  {
   "cell_type": "code",
   "execution_count": 81,
   "metadata": {
    "colab": {
     "base_uri": "https://localhost:8080/"
    },
    "executionInfo": {
     "elapsed": 13,
     "status": "ok",
     "timestamp": 1747340204228,
     "user": {
      "displayName": "Francisco Fernandez",
      "userId": "14484514716531413217"
     },
     "user_tz": 180
    },
    "id": "mUTyPhDZx6hm",
    "outputId": "1890278b-f75e-4570-bf91-d9335063fde3"
   },
   "outputs": [
    {
     "data": {
      "text/plain": [
       "np.float64(467.86117617906984)"
      ]
     },
     "execution_count": 81,
     "metadata": {},
     "output_type": "execute_result"
    }
   ],
   "source": [
    "np.sum(vector_a)"
   ]
  },
  {
   "cell_type": "code",
   "execution_count": 82,
   "metadata": {
    "colab": {
     "base_uri": "https://localhost:8080/"
    },
    "executionInfo": {
     "elapsed": 6,
     "status": "ok",
     "timestamp": 1747340216966,
     "user": {
      "displayName": "Francisco Fernandez",
      "userId": "14484514716531413217"
     },
     "user_tz": 180
    },
    "id": "_d8zlxmiyI-R",
    "outputId": "41dca39f-74bb-43bf-f47c-e0a0e0f356bb"
   },
   "outputs": [
    {
     "data": {
      "text/plain": [
       "np.float64(46.78611761790698)"
      ]
     },
     "execution_count": 82,
     "metadata": {},
     "output_type": "execute_result"
    }
   ],
   "source": [
    "np.mean(vector_a)"
   ]
  },
  {
   "cell_type": "code",
   "execution_count": 83,
   "metadata": {
    "colab": {
     "base_uri": "https://localhost:8080/"
    },
    "executionInfo": {
     "elapsed": 10,
     "status": "ok",
     "timestamp": 1747340220800,
     "user": {
      "displayName": "Francisco Fernandez",
      "userId": "14484514716531413217"
     },
     "user_tz": 180
    },
    "id": "2EmUcemkysxv",
    "outputId": "db633d0a-2d23-4ee9-c010-12513bb73d29"
   },
   "outputs": [
    {
     "data": {
      "text/plain": [
       "np.float64(1.5966252220214194)"
      ]
     },
     "execution_count": 83,
     "metadata": {},
     "output_type": "execute_result"
    }
   ],
   "source": [
    "np.min(vector_a)"
   ]
  },
  {
   "cell_type": "code",
   "execution_count": 85,
   "metadata": {
    "colab": {
     "base_uri": "https://localhost:8080/"
    },
    "executionInfo": {
     "elapsed": 9,
     "status": "ok",
     "timestamp": 1747340242989,
     "user": {
      "displayName": "Francisco Fernandez",
      "userId": "14484514716531413217"
     },
     "user_tz": 180
    },
    "id": "WE-CUSiKmA66",
    "outputId": "3d4eff15-dad8-4024-af94-c986a2850e1f"
   },
   "outputs": [
    {
     "data": {
      "text/plain": [
       "np.int64(3)"
      ]
     },
     "execution_count": 85,
     "metadata": {},
     "output_type": "execute_result"
    }
   ],
   "source": [
    "np.argmin(vector_a)"
   ]
  },
  {
   "cell_type": "code",
   "execution_count": 84,
   "metadata": {
    "colab": {
     "base_uri": "https://localhost:8080/"
    },
    "executionInfo": {
     "elapsed": 7,
     "status": "ok",
     "timestamp": 1747340228254,
     "user": {
      "displayName": "Francisco Fernandez",
      "userId": "14484514716531413217"
     },
     "user_tz": 180
    },
    "id": "U1QqZTqWy0jC",
    "outputId": "230b696f-976b-4996-9597-da744f9e71bc"
   },
   "outputs": [
    {
     "data": {
      "text/plain": [
       "np.float64(94.22017556848527)"
      ]
     },
     "execution_count": 84,
     "metadata": {},
     "output_type": "execute_result"
    }
   ],
   "source": [
    "np.max(vector_a)"
   ]
  },
  {
   "cell_type": "markdown",
   "metadata": {
    "id": "LPd_L76GmNwS"
   },
   "source": [
    "# Matplolib"
   ]
  },
  {
   "cell_type": "code",
   "execution_count": 86,
   "metadata": {
    "executionInfo": {
     "elapsed": 42,
     "status": "ok",
     "timestamp": 1747340393010,
     "user": {
      "displayName": "Francisco Fernandez",
      "userId": "14484514716531413217"
     },
     "user_tz": 180
    },
    "id": "XLXiY0LImP3G"
   },
   "outputs": [],
   "source": [
    "import matplotlib.pyplot as plt\n",
    "import math"
   ]
  },
  {
   "cell_type": "code",
   "execution_count": 96,
   "metadata": {
    "colab": {
     "base_uri": "https://localhost:8080/",
     "height": 447
    },
    "executionInfo": {
     "elapsed": 458,
     "status": "ok",
     "timestamp": 1747340608570,
     "user": {
      "displayName": "Francisco Fernandez",
      "userId": "14484514716531413217"
     },
     "user_tz": 180
    },
    "id": "W6Q7kDQbmnkW",
    "outputId": "897d2e74-1f5f-40df-8c1e-76ff4cf518fe"
   },
   "outputs": [
    {
     "data": {
      "text/plain": [
       "[<matplotlib.lines.Line2D at 0x787b515c9c90>]"
      ]
     },
     "execution_count": 96,
     "metadata": {},
     "output_type": "execute_result"
    },
    {
     "data": {
      "image/png": "[encoded data removed]",
      "text/plain": [
       "<Figure size 640x480 with 1 Axes>"
      ]
     },
     "metadata": {},
     "output_type": "display_data"
    }
   ],
   "source": [
    "X = np.arange(0, 5*math.pi, math.pi/100)\n",
    "y = np.sin(X)\n",
    "\n",
    "plt.plot(X,y)"
   ]
  },
  {
   "cell_type": "code",
   "execution_count": 128,
   "metadata": {
    "executionInfo": {
     "elapsed": 2,
     "status": "ok",
     "timestamp": 1747341969282,
     "user": {
      "displayName": "Francisco Fernandez",
      "userId": "14484514716531413217"
     },
     "user_tz": 180
    },
    "id": "FEF-3aWPnSXr"
   },
   "outputs": [],
   "source": [
    "X = np.linspace(0 , 100, 1000)\n",
    "y = np.sqrt(X)\n",
    "u = 0.1*X"
   ]
  },
  {
   "cell_type": "code",
   "execution_count": 130,
   "metadata": {
    "colab": {
     "base_uri": "https://localhost:8080/",
     "height": 410
    },
    "executionInfo": {
     "elapsed": 238,
     "status": "ok",
     "timestamp": 1747341993610,
     "user": {
      "displayName": "Francisco Fernandez",
      "userId": "14484514716531413217"
     },
     "user_tz": 180
    },
    "id": "HJ_mxM6Sn7FH",
    "outputId": "0fcc0619-2ff4-440a-8a92-402eb07420c8"
   },
   "outputs": [
    {
     "data": {
      "image/png": "[encoded data removed]",
      "text/plain": [
       "<Figure size 600x400 with 1 Axes>"
      ]
     },
     "metadata": {},
     "output_type": "display_data"
    }
   ],
   "source": [
    "fig, ax = plt.subplots(figsize=(6, 4))\n",
    "ax.set_title('Hola Pip')\n",
    "ax.set_xlabel('Cantidad')\n",
    "ax.set_ylabel('Raiz Cuadrada')\n",
    "ax = plt.plot(X,y, color ='#10a921')\n",
    "ax = plt.plot(X,u,color='#7275e4')\n",
    "plt.show()"
   ]
  }
 ],
 "metadata": {
  "colab": {
   "authorship_tag": "ABX9TyOjgk2wJN8/bndDxO74Fa7I",
   "provenance": []
  },
  "kernelspec": {
   "display_name": "Python 3",
   "name": "python3"
  },
  "language_info": {
   "name": "python"
  }
 },
 "nbformat": 4,
 "nbformat_minor": 0
}
