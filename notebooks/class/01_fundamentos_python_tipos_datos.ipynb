{
 "cells": [
  {
   "cell_type": "markdown",
   "metadata": {},
   "source": [
    "# 📊 Fundamentos de Python: Tipos de Datos\n",
    "\n",
    "## 🎯 Objetivos de Aprendizaje\n",
    "\n",
    "Al finalizar este notebook, serás capaz de:\n",
    "\n",
    "- Comprender los conceptos básicos de Python y Jupyter Notebooks\n",
    "- Identificar y trabajar con los tipos de datos fundamentales en Python\n",
    "- Utilizar variables para almacenar y manipular información\n",
    "- Aplicar operaciones básicas con diferentes tipos de datos\n",
    "- Trabajar con estructuras de datos como listas y diccionarios\n",
    "\n",
    "## 📚 Contenido\n",
    "\n",
    "1. **Introducción a Python y Jupyter**\n",
    "   - ¿Qué es Python?\n",
    "   - Entorno Jupyter Notebook\n",
    "   - Primera ejecución de código\n",
    "\n",
    "2. **Variables y Asignación**\n",
    "   - Declaración de variables\n",
    "   - Nomenclatura y buenas prácticas\n",
    "\n",
    "3. **Tipos de Datos Primitivos**\n",
    "   - `int`: Números enteros\n",
    "   - `float`: Números decimales\n",
    "   - `str`: Cadenas de texto\n",
    "   - `bool`: Valores booleanos\n",
    "\n",
    "4. **Estructuras de Datos Básicas**\n",
    "   - `list`: Listas\n",
    "   - `dict`: Diccionarios\n",
    "\n",
    "5. **Operaciones y Manipulación**\n",
    "   - Operaciones aritméticas\n",
    "   - Concatenación de strings\n",
    "   - Indexación y slicing\n",
    "\n",
    "## 🛠️ Prerrequisitos\n",
    "\n",
    "- Conocimientos básicos de lógica de programación\n",
    "- Instalación de Python y Jupyter Notebook (o acceso a Google Colab)\n",
    "\n",
    "## 📖 Recursos Adicionales\n",
    "\n",
    "- [Documentación oficial de Python](https://docs.python.org/3/)\n",
    "- [Tutorial de Python para principiantes](https://docs.python.org/3/tutorial/)\n",
    "\n",
    "---"
   ]
  },
  {
   "cell_type": "markdown",
   "metadata": {
    "id": "qg3bYNhh7HH4"
   },
   "source": [
    "Hola mundo"
   ]
  },
  {
   "cell_type": "code",
   "execution_count": null,
   "metadata": {
    "hidePrompt": false,
    "id": "9al6coO99zcc"
   },
   "outputs": [],
   "source": [
    "# Introducción a la programación con Python - Jupiter Notebook\n",
    "# Holaaaaa"
   ]
  },
  {
   "cell_type": "code",
   "execution_count": null,
   "metadata": {
    "colab": {
     "base_uri": "https://localhost:8080/"
    },
    "executionInfo": {
     "elapsed": 34,
     "status": "ok",
     "timestamp": 1750801978505,
     "user": {
      "displayName": "Francisco Fernandez",
      "userId": "14484514716531413217"
     },
     "user_tz": 180
    },
    "id": "YBiOf2Wj7U2z",
    "outputId": "549c7e35-4c08-4a45-89d9-92c703cbd3f8"
   },
   "outputs": [
    {
     "name": "stdout",
     "output_type": "stream",
     "text": [
      "Hola Mila\n"
     ]
    }
   ],
   "source": [
    "print('Hola Mila')"
   ]
  },
  {
   "cell_type": "code",
   "execution_count": null,
   "metadata": {
    "colab": {
     "base_uri": "https://localhost:8080/"
    },
    "executionInfo": {
     "elapsed": 49,
     "status": "ok",
     "timestamp": 1750801987095,
     "user": {
      "displayName": "Francisco Fernandez",
      "userId": "14484514716531413217"
     },
     "user_tz": 180
    },
    "id": "OaV5Vt6P7fde",
    "outputId": "d5fd87bf-30da-4f14-f7a2-f771d7877cf1"
   },
   "outputs": [
    {
     "name": "stdout",
     "output_type": "stream",
     "text": [
      "Hola Mila\n"
     ]
    }
   ],
   "source": [
    "print(\"Hola Mila\")"
   ]
  },
  {
   "cell_type": "markdown",
   "metadata": {
    "id": "227Fg1Q60p_v"
   },
   "source": [
    "<h1 id=\"tocheading\">Tabla de Contenidos</h1>\n",
    "<div id=\"toc\"></div>"
   ]
  },
  {
   "cell_type": "markdown",
   "metadata": {
    "hidePrompt": true,
    "id": "Gj3Cvq8m0p_v"
   },
   "source": [
    "## Python\n",
    "\n",
    "- Elegante, sencillo\n",
    "- Comunidad y accesibilidad\n",
    "- Desarrollos de estado del arte\n",
    "- Flexibilidad \"full stack\"\n",
    "- Multi-paradigma\n"
   ]
  },
  {
   "cell_type": "markdown",
   "metadata": {
    "id": "zz37KJbi7Adx"
   },
   "source": [
    "# Hola Jupyter!\n",
    "\n",
    "En esta _notebook_ conoceremos el entorno Jupyter (o Google Colaboratory, una versión online gratuita), interfaz incluida en la instalación de Python ampliamente usada para Data Science llamada <a href=\"https://www.anaconda.com/products/individual\"/> Anaconda </a>. Para seguir el curso offline, luego de descargar e instalar Anaconda, si usan Windows deberán buscar el programa en su computadora y ejecutar Jupyter.\n",
    "\n",
    "Si están en una distribución de linux o Mac pueden ejecutar en la terminal:\n",
    "\n",
    "> jupyter notebook\n",
    "\n",
    "Cada una de estas _celdas_ funciona como un bloque donde podemos escribir texto plano, Latex, HTML, además de ejecutar código Python, R, bash y otros.\n",
    "\n",
    "$$\\bar{x} = \\frac{1}{n} \\sum_{i=1}^n x_i$$"
   ]
  },
  {
   "cell_type": "markdown",
   "metadata": {
    "id": "AcoLjYP-NWpd"
   },
   "source": [
    "# Declarando variables <a name=\"section-2\"></a>"
   ]
  },
  {
   "cell_type": "markdown",
   "metadata": {
    "id": "oFtrilzdZHCG"
   },
   "source": [
    "Existen distintos tipos de variables:\n",
    "- int: entero\n",
    "- float: punto flotante\n",
    "- string: cadena de caracteres\n",
    "- bool: booleano, 0, 1, True o False\n",
    "\n",
    "Y estructuras de datos, como:\n",
    "  - list: lista de elementos (de cualquier tipo, incluida otra lista)\n",
    "  - dict: \"diccionario\", conjunto de pares llave:valor\n",
    "\n",
    "Veamos un primer ejemplo"
   ]
  },
  {
   "cell_type": "code",
   "execution_count": null,
   "metadata": {
    "colab": {
     "base_uri": "https://localhost:8080/"
    },
    "executionInfo": {
     "elapsed": 26,
     "status": "ok",
     "timestamp": 1750802910902,
     "user": {
      "displayName": "Francisco Fernandez",
      "userId": "14484514716531413217"
     },
     "user_tz": 180
    },
    "id": "K7kcLb2F_ELM",
    "outputId": "f40aba27-4fac-4e10-c198-c5e6903a02fd"
   },
   "outputs": [
    {
     "name": "stdout",
     "output_type": "stream",
     "text": [
      "Hola Mila\n"
     ]
    }
   ],
   "source": [
    "print('Hola Mila')"
   ]
  },
  {
   "cell_type": "code",
   "execution_count": null,
   "metadata": {
    "colab": {
     "base_uri": "https://localhost:8080/"
    },
    "executionInfo": {
     "elapsed": 31,
     "status": "ok",
     "timestamp": 1750802926488,
     "user": {
      "displayName": "Francisco Fernandez",
      "userId": "14484514716531413217"
     },
     "user_tz": 180
    },
    "id": "dFD_GFqB0p_x",
    "outputId": "8ffcb567-8c04-4e34-dbb8-3a678674f4c8"
   },
   "outputs": [
    {
     "name": "stdout",
     "output_type": "stream",
     "text": [
      "Hola Mila\n"
     ]
    }
   ],
   "source": [
    "primera_variable = 'Hola Mila'\n",
    "\n",
    "print(primera_variable)"
   ]
  },
  {
   "cell_type": "code",
   "execution_count": null,
   "metadata": {
    "id": "HB-iMKS_-CUH"
   },
   "outputs": [],
   "source": [
    "segunda_variable = 10\n",
    "tercera_variable = 1.3\n",
    "cuarta_variable = False"
   ]
  },
  {
   "cell_type": "code",
   "execution_count": null,
   "metadata": {
    "colab": {
     "base_uri": "https://localhost:8080/"
    },
    "executionInfo": {
     "elapsed": 41,
     "status": "ok",
     "timestamp": 1750803175227,
     "user": {
      "displayName": "Francisco Fernandez",
      "userId": "14484514716531413217"
     },
     "user_tz": 180
    },
    "id": "-czAxdYT_Wib",
    "outputId": "28f9ca31-b4ff-47cc-cf9e-f4e9c209a555"
   },
   "outputs": [
    {
     "name": "stdout",
     "output_type": "stream",
     "text": [
      "60\n"
     ]
    }
   ],
   "source": [
    "u = 30\n",
    "u = u + 10\n",
    "w = u + 20\n",
    "print(w)"
   ]
  },
  {
   "cell_type": "code",
   "execution_count": null,
   "metadata": {
    "colab": {
     "base_uri": "https://localhost:8080/"
    },
    "executionInfo": {
     "elapsed": 67,
     "status": "ok",
     "timestamp": 1750803189494,
     "user": {
      "displayName": "Francisco Fernandez",
      "userId": "14484514716531413217"
     },
     "user_tz": 180
    },
    "id": "CNSoP41sAHfu",
    "outputId": "ff3bc217-ed92-429f-9c5d-7aadae43d0e0"
   },
   "outputs": [
    {
     "name": "stdout",
     "output_type": "stream",
     "text": [
      "40\n"
     ]
    }
   ],
   "source": [
    "print(u)"
   ]
  },
  {
   "cell_type": "code",
   "execution_count": null,
   "metadata": {
    "colab": {
     "base_uri": "https://localhost:8080/"
    },
    "executionInfo": {
     "elapsed": 74,
     "status": "ok",
     "timestamp": 1750803253037,
     "user": {
      "displayName": "Francisco Fernandez",
      "userId": "14484514716531413217"
     },
     "user_tz": 180
    },
    "id": "dFoyc6yWAVBD",
    "outputId": "ad9e249e-7eaa-4cf9-edfc-03e5accd8061"
   },
   "outputs": [
    {
     "data": {
      "text/plain": [
       "60"
      ]
     },
     "execution_count": 13,
     "metadata": {},
     "output_type": "execute_result"
    }
   ],
   "source": [
    "w"
   ]
  },
  {
   "cell_type": "code",
   "execution_count": null,
   "metadata": {
    "colab": {
     "base_uri": "https://localhost:8080/"
    },
    "executionInfo": {
     "elapsed": 39,
     "status": "ok",
     "timestamp": 1750803262397,
     "user": {
      "displayName": "Francisco Fernandez",
      "userId": "14484514716531413217"
     },
     "user_tz": 180
    },
    "id": "CZJDdAP4AaKU",
    "outputId": "f08b5206-cd01-4625-ed8a-ed9d3c53c16b"
   },
   "outputs": [
    {
     "data": {
      "text/plain": [
       "40"
      ]
     },
     "execution_count": 14,
     "metadata": {},
     "output_type": "execute_result"
    }
   ],
   "source": [
    "u"
   ]
  },
  {
   "cell_type": "markdown",
   "metadata": {
    "id": "6X3tBXCb0p_x"
   },
   "source": [
    "Declaramos una variable llamada *primera_variable* asignándole el valor de \"Hola mundo!\". La **función print** toma entre paréntesis esa variable y muestra el valor en pantalla."
   ]
  },
  {
   "cell_type": "markdown",
   "metadata": {
    "id": "co6ZjTNo0p_x"
   },
   "source": [
    "En Jupyter la última línea de una celda se imprime al ejecutar..."
   ]
  },
  {
   "cell_type": "code",
   "execution_count": null,
   "metadata": {
    "colab": {
     "base_uri": "https://localhost:8080/",
     "height": 35
    },
    "executionInfo": {
     "elapsed": 6,
     "status": "ok",
     "timestamp": 1747346492403,
     "user": {
      "displayName": "Francisco Fernandez",
      "userId": "14484514716531413217"
     },
     "user_tz": 180
    },
    "id": "GfU3qND80p_x",
    "outputId": "37c98988-19c4-4682-d82c-98f346aea7fa"
   },
   "outputs": [
    {
     "data": {
      "application/vnd.google.colaboratory.intrinsic+json": {
       "type": "string"
      },
      "text/plain": [
       "'Hola mundo!'"
      ]
     },
     "execution_count": 10,
     "metadata": {},
     "output_type": "execute_result"
    }
   ],
   "source": [
    "primera_variable"
   ]
  },
  {
   "cell_type": "markdown",
   "metadata": {
    "id": "ccQ8XpcG0p_x"
   },
   "source": [
    "## Numéricos"
   ]
  },
  {
   "cell_type": "markdown",
   "metadata": {
    "id": "y4mzuyAb0p_x"
   },
   "source": [
    "Declaramos dos variables de tipo numérico:"
   ]
  },
  {
   "cell_type": "code",
   "execution_count": null,
   "metadata": {
    "colab": {
     "base_uri": "https://localhost:8080/"
    },
    "executionInfo": {
     "elapsed": 71,
     "status": "ok",
     "timestamp": 1750803707741,
     "user": {
      "displayName": "Francisco Fernandez",
      "userId": "14484514716531413217"
     },
     "user_tz": 180
    },
    "hidePrompt": true,
    "id": "mfxF76C4ZGJK",
    "outputId": "529b9b67-bbb7-4b0f-fe56-edb2d8ccbd5f"
   },
   "outputs": [
    {
     "name": "stdout",
     "output_type": "stream",
     "text": [
      "5 17\n"
     ]
    }
   ],
   "source": [
    "x = 5\n",
    "y = 17\n",
    "print(x,y)"
   ]
  },
  {
   "cell_type": "code",
   "execution_count": null,
   "metadata": {
    "colab": {
     "base_uri": "https://localhost:8080/"
    },
    "executionInfo": {
     "elapsed": 45,
     "status": "ok",
     "timestamp": 1747347114920,
     "user": {
      "displayName": "Francisco Fernandez",
      "userId": "14484514716531413217"
     },
     "user_tz": 180
    },
    "id": "yWYDYYtP_0kA",
    "outputId": "07c397b8-5bb5-434e-dfb6-57e0d5101166"
   },
   "outputs": [
    {
     "data": {
      "text/plain": [
       "15"
      ]
     },
     "execution_count": 26,
     "metadata": {},
     "output_type": "execute_result"
    }
   ],
   "source": [
    "x+segunda_variable"
   ]
  },
  {
   "cell_type": "code",
   "execution_count": null,
   "metadata": {
    "colab": {
     "base_uri": "https://localhost:8080/"
    },
    "executionInfo": {
     "elapsed": 7,
     "status": "ok",
     "timestamp": 1747347072853,
     "user": {
      "displayName": "Francisco Fernandez",
      "userId": "14484514716531413217"
     },
     "user_tz": 180
    },
    "id": "oY8ZJyiYAE6-",
    "outputId": "68578e5d-93b9-4343-ad9c-56c4b4e63f2a"
   },
   "outputs": [
    {
     "data": {
      "text/plain": [
       "85"
      ]
     },
     "execution_count": 24,
     "metadata": {},
     "output_type": "execute_result"
    }
   ],
   "source": [
    "x*y"
   ]
  },
  {
   "cell_type": "code",
   "execution_count": null,
   "metadata": {
    "colab": {
     "base_uri": "https://localhost:8080/"
    },
    "executionInfo": {
     "elapsed": 46,
     "status": "ok",
     "timestamp": 1747347352426,
     "user": {
      "displayName": "Francisco Fernandez",
      "userId": "14484514716531413217"
     },
     "user_tz": 180
    },
    "id": "ZzImtHtNBC7j",
    "outputId": "999a9346-b591-4150-d22c-9191cd723f2b"
   },
   "outputs": [
    {
     "data": {
      "text/plain": [
       "125"
      ]
     },
     "execution_count": 32,
     "metadata": {},
     "output_type": "execute_result"
    }
   ],
   "source": [
    "x**3"
   ]
  },
  {
   "cell_type": "code",
   "execution_count": null,
   "metadata": {
    "colab": {
     "base_uri": "https://localhost:8080/"
    },
    "executionInfo": {
     "elapsed": 7,
     "status": "ok",
     "timestamp": 1747347079026,
     "user": {
      "displayName": "Francisco Fernandez",
      "userId": "14484514716531413217"
     },
     "user_tz": 180
    },
    "id": "MRXirL0JAHPD",
    "outputId": "6b4b7eaf-c610-4bf4-99ca-9abfd57452ff"
   },
   "outputs": [
    {
     "data": {
      "text/plain": [
       "0.29411764705882354"
      ]
     },
     "execution_count": 25,
     "metadata": {},
     "output_type": "execute_result"
    }
   ],
   "source": [
    "x/y"
   ]
  },
  {
   "cell_type": "code",
   "execution_count": null,
   "metadata": {
    "colab": {
     "base_uri": "https://localhost:8080/"
    },
    "executionInfo": {
     "elapsed": 5,
     "status": "ok",
     "timestamp": 1747347187212,
     "user": {
      "displayName": "Francisco Fernandez",
      "userId": "14484514716531413217"
     },
     "user_tz": 180
    },
    "id": "vWvNHI8wAa_8",
    "outputId": "8dfaaa0e-c967-417e-b028-c28a8a851fad"
   },
   "outputs": [
    {
     "data": {
      "text/plain": [
       "40.0"
      ]
     },
     "execution_count": 27,
     "metadata": {},
     "output_type": "execute_result"
    }
   ],
   "source": [
    "u = 200*12/60\n",
    "u"
   ]
  },
  {
   "cell_type": "code",
   "execution_count": null,
   "metadata": {
    "colab": {
     "base_uri": "https://localhost:8080/"
    },
    "executionInfo": {
     "elapsed": 12,
     "status": "ok",
     "timestamp": 1747347222313,
     "user": {
      "displayName": "Francisco Fernandez",
      "userId": "14484514716531413217"
     },
     "user_tz": 180
    },
    "id": "PTI3VxeMAke5",
    "outputId": "28382baa-63dc-4b5b-fffa-766cb5d1364d"
   },
   "outputs": [
    {
     "data": {
      "text/plain": [
       "15"
      ]
     },
     "execution_count": 28,
     "metadata": {},
     "output_type": "execute_result"
    }
   ],
   "source": [
    "z = x + segunda_variable\n",
    "z"
   ]
  },
  {
   "cell_type": "markdown",
   "metadata": {
    "id": "KI-t5uox0p_y"
   },
   "source": [
    "Podemos hacer las operaciones numéricas usuales:"
   ]
  },
  {
   "cell_type": "code",
   "execution_count": null,
   "metadata": {
    "colab": {
     "base_uri": "https://localhost:8080/"
    },
    "executionInfo": {
     "elapsed": 189,
     "status": "ok",
     "timestamp": 1747273019425,
     "user": {
      "displayName": "Francisco Fernandez",
      "userId": "14484514716531413217"
     },
     "user_tz": 180
    },
    "hidePrompt": true,
    "id": "SVW5Eq_60p_y",
    "outputId": "5f818934-b5bc-4064-d987-300e8a9636c4"
   },
   "outputs": [
    {
     "name": "stdout",
     "output_type": "stream",
     "text": [
      "22\n",
      "10\n",
      "2.23606797749979\n"
     ]
    }
   ],
   "source": [
    "print(x+y) # suma\n",
    "print(x*2) # multiplicacion\n",
    "print(x**(1/2)) # elevado a 1/2"
   ]
  },
  {
   "cell_type": "markdown",
   "metadata": {
    "id": "WsJSqKW90p_y"
   },
   "source": [
    "## Operaciones numéricas - Divisiones"
   ]
  },
  {
   "cell_type": "markdown",
   "metadata": {
    "id": "t2F-fsKG0p_y"
   },
   "source": [
    "Devuelve la división:"
   ]
  },
  {
   "cell_type": "code",
   "execution_count": null,
   "metadata": {
    "colab": {
     "base_uri": "https://localhost:8080/"
    },
    "executionInfo": {
     "elapsed": 10,
     "status": "ok",
     "timestamp": 1747273019437,
     "user": {
      "displayName": "Francisco Fernandez",
      "userId": "14484514716531413217"
     },
     "user_tz": 180
    },
    "id": "guHtBUYO0p_y",
    "outputId": "7739d2ca-b20f-4aa3-b5bb-6a14f25c2aee"
   },
   "outputs": [
    {
     "name": "stdout",
     "output_type": "stream",
     "text": [
      "3.4\n"
     ]
    }
   ],
   "source": [
    "print(y / x)"
   ]
  },
  {
   "cell_type": "markdown",
   "metadata": {
    "id": "bDHEFBLr0p_y"
   },
   "source": [
    "Devuelve la parte entera de la división:"
   ]
  },
  {
   "cell_type": "code",
   "execution_count": null,
   "metadata": {
    "colab": {
     "base_uri": "https://localhost:8080/"
    },
    "executionInfo": {
     "elapsed": 24,
     "status": "ok",
     "timestamp": 1747273019456,
     "user": {
      "displayName": "Francisco Fernandez",
      "userId": "14484514716531413217"
     },
     "user_tz": 180
    },
    "id": "g7Q4fopQ0p_y",
    "outputId": "33598c4d-0a8d-4656-c196-d9aa3a002d28"
   },
   "outputs": [
    {
     "name": "stdout",
     "output_type": "stream",
     "text": [
      "3\n"
     ]
    }
   ],
   "source": [
    "print(y // x)"
   ]
  },
  {
   "cell_type": "markdown",
   "metadata": {
    "id": "ZbTlKMp80p_y"
   },
   "source": [
    "Devuelve el resto:"
   ]
  },
  {
   "cell_type": "code",
   "execution_count": null,
   "metadata": {
    "colab": {
     "base_uri": "https://localhost:8080/"
    },
    "executionInfo": {
     "elapsed": 23,
     "status": "ok",
     "timestamp": 1747273019479,
     "user": {
      "displayName": "Francisco Fernandez",
      "userId": "14484514716531413217"
     },
     "user_tz": 180
    },
    "id": "C9TjGilw0p_y",
    "outputId": "86c1d99c-6b26-4756-d2aa-ee8590fd5ad0"
   },
   "outputs": [
    {
     "name": "stdout",
     "output_type": "stream",
     "text": [
      "2\n"
     ]
    }
   ],
   "source": [
    "print(y % x)"
   ]
  },
  {
   "cell_type": "markdown",
   "metadata": {
    "id": "_p1TwJ3W0p_y"
   },
   "source": [
    "Otros ejemplos:"
   ]
  },
  {
   "cell_type": "code",
   "execution_count": null,
   "metadata": {
    "hidePrompt": true,
    "id": "Lu_2i-Hn0p_y"
   },
   "outputs": [],
   "source": [
    "un_string = 'variable de ejemplo'\n",
    "un_bool = True"
   ]
  },
  {
   "cell_type": "markdown",
   "metadata": {
    "id": "Mw74RhM00p_y"
   },
   "source": [
    "La **función** _type_ recibe de **argumento** una **variable** y **devuelve** su tipo"
   ]
  },
  {
   "cell_type": "code",
   "execution_count": null,
   "metadata": {
    "colab": {
     "base_uri": "https://localhost:8080/"
    },
    "executionInfo": {
     "elapsed": 44,
     "status": "ok",
     "timestamp": 1750803664264,
     "user": {
      "displayName": "Francisco Fernandez",
      "userId": "14484514716531413217"
     },
     "user_tz": 180
    },
    "id": "548BxwviB3w_",
    "outputId": "7f08b532-bda2-4e99-aa9d-e81d3830ed5b"
   },
   "outputs": [
    {
     "data": {
      "text/plain": [
       "str"
      ]
     },
     "execution_count": 16,
     "metadata": {},
     "output_type": "execute_result"
    }
   ],
   "source": [
    "type(un_string)"
   ]
  },
  {
   "cell_type": "code",
   "execution_count": null,
   "metadata": {
    "colab": {
     "base_uri": "https://localhost:8080/"
    },
    "executionInfo": {
     "elapsed": 6,
     "status": "ok",
     "timestamp": 1747347679605,
     "user": {
      "displayName": "Francisco Fernandez",
      "userId": "14484514716531413217"
     },
     "user_tz": 180
    },
    "id": "2b608-gkCNgM",
    "outputId": "5ca3b200-7a1b-4b9a-a7f1-0c1f490a2bb4"
   },
   "outputs": [
    {
     "data": {
      "text/plain": [
       "bool"
      ]
     },
     "execution_count": 33,
     "metadata": {},
     "output_type": "execute_result"
    }
   ],
   "source": [
    "jaco = True\n",
    "type(jaco)"
   ]
  },
  {
   "cell_type": "markdown",
   "metadata": {
    "id": "oaQhTQZA0p_y"
   },
   "source": [
    "Intentemos la siguiente suma..."
   ]
  },
  {
   "cell_type": "code",
   "execution_count": null,
   "metadata": {
    "colab": {
     "base_uri": "https://localhost:8080/",
     "height": 187
    },
    "executionInfo": {
     "elapsed": 178,
     "status": "error",
     "timestamp": 1750803758001,
     "user": {
      "displayName": "Francisco Fernandez",
      "userId": "14484514716531413217"
     },
     "user_tz": 180
    },
    "id": "OXFoRCxX0p_y",
    "outputId": "921329b3-339b-4b42-e0c5-96890b025615"
   },
   "outputs": [
    {
     "ename": "TypeError",
     "evalue": "unsupported operand type(s) for +: 'int' and 'str'",
     "output_type": "error",
     "traceback": [
      "\u001b[0;31m---------------------------------------------------------------------------\u001b[0m",
      "\u001b[0;31mTypeError\u001b[0m                                 Traceback (most recent call last)",
      "\u001b[0;32m/tmp/ipython-input-18-2330720926.py\u001b[0m in \u001b[0;36m<cell line: 0>\u001b[0;34m()\u001b[0m\n\u001b[0;32m----> 1\u001b[0;31m \u001b[0;36m5\u001b[0m \u001b[0;34m+\u001b[0m \u001b[0;34m\"10\"\u001b[0m\u001b[0;34m\u001b[0m\u001b[0;34m\u001b[0m\u001b[0m\n\u001b[0m",
      "\u001b[0;31mTypeError\u001b[0m: unsupported operand type(s) for +: 'int' and 'str'"
     ]
    }
   ],
   "source": [
    "5 + \"10\""
   ]
  },
  {
   "cell_type": "markdown",
   "metadata": {
    "id": "srHC7U1E0p_y"
   },
   "source": [
    "¿Qué paso?"
   ]
  },
  {
   "cell_type": "markdown",
   "metadata": {
    "id": "uSHGmzs60p_y"
   },
   "source": [
    "Si **convertimos** el string \"10\" a tipo int"
   ]
  },
  {
   "cell_type": "code",
   "execution_count": null,
   "metadata": {
    "colab": {
     "base_uri": "https://localhost:8080/"
    },
    "executionInfo": {
     "elapsed": 5,
     "status": "ok",
     "timestamp": 1747348108360,
     "user": {
      "displayName": "Francisco Fernandez",
      "userId": "14484514716531413217"
     },
     "user_tz": 180
    },
    "id": "1534aRg20p_1",
    "outputId": "dca9be3e-8f8a-45d1-a5af-e45357ae956a"
   },
   "outputs": [
    {
     "data": {
      "text/plain": [
       "15"
      ]
     },
     "execution_count": 39,
     "metadata": {},
     "output_type": "execute_result"
    }
   ],
   "source": [
    "5 + int('10')"
   ]
  },
  {
   "cell_type": "code",
   "execution_count": null,
   "metadata": {
    "colab": {
     "base_uri": "https://localhost:8080/"
    },
    "executionInfo": {
     "elapsed": 5,
     "status": "ok",
     "timestamp": 1747348236776,
     "user": {
      "displayName": "Francisco Fernandez",
      "userId": "14484514716531413217"
     },
     "user_tz": 180
    },
    "id": "QiGi7j0_Ed3B",
    "outputId": "a8c4d679-5e8c-40e4-c600-1ce71b4ee00b"
   },
   "outputs": [
    {
     "data": {
      "text/plain": [
       "4.7"
      ]
     },
     "execution_count": 42,
     "metadata": {},
     "output_type": "execute_result"
    }
   ],
   "source": [
    "2.5 + 2.2"
   ]
  },
  {
   "cell_type": "code",
   "execution_count": null,
   "metadata": {
    "colab": {
     "base_uri": "https://localhost:8080/"
    },
    "executionInfo": {
     "elapsed": 5,
     "status": "ok",
     "timestamp": 1747348270301,
     "user": {
      "displayName": "Francisco Fernandez",
      "userId": "14484514716531413217"
     },
     "user_tz": 180
    },
    "id": "klUPPi6yEkHJ",
    "outputId": "cfdf9905-53eb-49aa-bcdd-b2247f1b680c"
   },
   "outputs": [
    {
     "data": {
      "text/plain": [
       "5.0"
      ]
     },
     "execution_count": 43,
     "metadata": {},
     "output_type": "execute_result"
    }
   ],
   "source": [
    "2.0 + 3"
   ]
  },
  {
   "cell_type": "code",
   "execution_count": null,
   "metadata": {
    "colab": {
     "base_uri": "https://localhost:8080/"
    },
    "executionInfo": {
     "elapsed": 7,
     "status": "ok",
     "timestamp": 1747423719807,
     "user": {
      "displayName": "Francisco Fernandez",
      "userId": "14484514716531413217"
     },
     "user_tz": 180
    },
    "id": "yBWKkhiHRuw2",
    "outputId": "3106b8d0-7acf-42f7-f33d-13a519d725fa"
   },
   "outputs": [
    {
     "data": {
      "text/plain": [
       "5.7"
      ]
     },
     "execution_count": 5,
     "metadata": {},
     "output_type": "execute_result"
    }
   ],
   "source": [
    "2.2 + 3.5"
   ]
  },
  {
   "cell_type": "code",
   "execution_count": null,
   "metadata": {
    "colab": {
     "base_uri": "https://localhost:8080/"
    },
    "executionInfo": {
     "elapsed": 12,
     "status": "ok",
     "timestamp": 1747423739409,
     "user": {
      "displayName": "Francisco Fernandez",
      "userId": "14484514716531413217"
     },
     "user_tz": 180
    },
    "id": "36lwjOL3R9xJ",
    "outputId": "b131f3b3-ce16-42c3-f053-c933df72184b"
   },
   "outputs": [
    {
     "data": {
      "text/plain": [
       "5"
      ]
     },
     "execution_count": 6,
     "metadata": {},
     "output_type": "execute_result"
    }
   ],
   "source": [
    "int(2.2 + 3.5)"
   ]
  },
  {
   "cell_type": "code",
   "execution_count": null,
   "metadata": {
    "colab": {
     "base_uri": "https://localhost:8080/"
    },
    "executionInfo": {
     "elapsed": 32,
     "status": "ok",
     "timestamp": 1750803917409,
     "user": {
      "displayName": "Francisco Fernandez",
      "userId": "14484514716531413217"
     },
     "user_tz": 180
    },
    "id": "nd4-nIIvKJaf",
    "outputId": "6500a3af-2484-4d06-8601-1508414f53db"
   },
   "outputs": [
    {
     "data": {
      "text/plain": [
       "3.1622776601683795"
      ]
     },
     "execution_count": 19,
     "metadata": {},
     "output_type": "execute_result"
    }
   ],
   "source": [
    "import math\n",
    "\n",
    "math.sqrt(10)"
   ]
  },
  {
   "cell_type": "code",
   "execution_count": null,
   "metadata": {
    "colab": {
     "base_uri": "https://localhost:8080/"
    },
    "executionInfo": {
     "elapsed": 68,
     "status": "ok",
     "timestamp": 1750804177152,
     "user": {
      "displayName": "Francisco Fernandez",
      "userId": "14484514716531413217"
     },
     "user_tz": 180
    },
    "id": "WEX34i7tM_04",
    "outputId": "fe9f44c1-95d4-4382-9457-161578a146d8"
   },
   "outputs": [
    {
     "data": {
      "text/plain": [
       "1.0"
      ]
     },
     "execution_count": 20,
     "metadata": {},
     "output_type": "execute_result"
    }
   ],
   "source": [
    "pi = math.pi\n",
    "math.sin(pi/2)"
   ]
  },
  {
   "cell_type": "code",
   "execution_count": null,
   "metadata": {
    "colab": {
     "base_uri": "https://localhost:8080/"
    },
    "executionInfo": {
     "elapsed": 5,
     "status": "ok",
     "timestamp": 1747350612255,
     "user": {
      "displayName": "Francisco Fernandez",
      "userId": "14484514716531413217"
     },
     "user_tz": 180
    },
    "id": "tztxYC5tNkHb",
    "outputId": "8fb555d1-e57d-4f2b-fe97-bc7f3156b594"
   },
   "outputs": [
    {
     "data": {
      "text/plain": [
       "1"
      ]
     },
     "execution_count": 55,
     "metadata": {},
     "output_type": "execute_result"
    }
   ],
   "source": [
    "abs(-1)"
   ]
  },
  {
   "cell_type": "code",
   "execution_count": null,
   "metadata": {
    "id": "OgljAz7cDZZS"
   },
   "outputs": [],
   "source": [
    "a = 3\n",
    "b = 7\n",
    "c = -10\n",
    "\n",
    "x_1 = +\n",
    "x_2 = -"
   ]
  },
  {
   "cell_type": "markdown",
   "metadata": {
    "id": "AHniPuI50p_2"
   },
   "source": [
    "## Booleanos"
   ]
  },
  {
   "cell_type": "markdown",
   "metadata": {
    "id": "QhNYzTuk0p_2"
   },
   "source": [
    "### Operaciones lógicas"
   ]
  },
  {
   "cell_type": "code",
   "execution_count": 1,
   "metadata": {
    "colab": {
     "base_uri": "https://localhost:8080/"
    },
    "executionInfo": {
     "elapsed": 143,
     "status": "ok",
     "timestamp": 1750977214658,
     "user": {
      "displayName": "Francisco Fernandez",
      "userId": "14484514716531413217"
     },
     "user_tz": 180
    },
    "id": "bpJvYpHW0p_2",
    "outputId": "5afd6f6f-1ff8-4e76-c305-503b64e2e8dc"
   },
   "outputs": [
    {
     "name": "stdout",
     "output_type": "stream",
     "text": [
      "True\n"
     ]
    }
   ],
   "source": [
    "print(10 >= 9)"
   ]
  },
  {
   "cell_type": "code",
   "execution_count": 2,
   "metadata": {
    "colab": {
     "base_uri": "https://localhost:8080/"
    },
    "executionInfo": {
     "elapsed": 6,
     "status": "ok",
     "timestamp": 1750977214666,
     "user": {
      "displayName": "Francisco Fernandez",
      "userId": "14484514716531413217"
     },
     "user_tz": 180
    },
    "id": "r1Uw4YgW0p_2",
    "outputId": "260730a5-514b-49c5-9cf9-70eefa02362a"
   },
   "outputs": [
    {
     "name": "stdout",
     "output_type": "stream",
     "text": [
      "True\n",
      "False\n"
     ]
    }
   ],
   "source": [
    "print(\"palabra\" == \"palabra\")\n",
    "print(\"otras palabras\" != \"otras palabras\")"
   ]
  },
  {
   "cell_type": "code",
   "execution_count": 3,
   "metadata": {
    "colab": {
     "base_uri": "https://localhost:8080/"
    },
    "executionInfo": {
     "elapsed": 58,
     "status": "ok",
     "timestamp": 1750977256451,
     "user": {
      "displayName": "Francisco Fernandez",
      "userId": "14484514716531413217"
     },
     "user_tz": 180
    },
    "id": "0L8gxX3X0p_2",
    "outputId": "3908ccec-3bc0-4ea4-b269-9c3700993326"
   },
   "outputs": [
    {
     "name": "stdout",
     "output_type": "stream",
     "text": [
      "True\n",
      "True\n"
     ]
    }
   ],
   "source": [
    "print(\"test\" in \"testing\")\n",
    "\n",
    "a = 'testing'\n",
    "\n",
    "print('test' in a)"
   ]
  },
  {
   "cell_type": "markdown",
   "metadata": {
    "id": "OQhlrs3C0p_2"
   },
   "source": [
    "Los operadores disponibles son:\n",
    "\n",
    "    Relacionales:\n",
    "    - >= , <=, <, > : Mayor o igual, menor o igual, mayor o menor\n",
    "    - != , == : Distinto, Igual\n",
    "    - in : Contenido por\n",
    "    Lógicos:\n",
    "    - not o ~ : Negación\n",
    "    - and o & : Ambas verdaderas\n",
    "    - or o | : Una u otra es verdadera\n",
    "\n",
    "Como booleanos, se pueden utilizar tanto 0 y 1 como True y False."
   ]
  },
  {
   "cell_type": "markdown",
   "metadata": {
    "id": "zZ-SrQ5C0p_2"
   },
   "source": [
    "# Ejercicios <a name=\"section-3\"></a>\n",
    "\n",
    "\n",
    "1- Definan a = 5, b = 7 y c = 8\n",
    "\n",
    "Prueben las siguientes operaciones booleanas:\n",
    "\n",
    "2- a > b\n",
    "\n",
    "3- a < b\n",
    "\n",
    "4- a + b < c\n",
    "\n",
    "5- (a + b > c) | (a + b < c) --> a + b o es mayor a c o es menor\n",
    "\n",
    "6- (a + b > c) & (a + b < c) --> a + b es mayor a c y es menor a c"
   ]
  },
  {
   "cell_type": "markdown",
   "metadata": {
    "id": "4y9Jn6FC0p_2"
   },
   "source": [
    "## Strings <a name=\"section-4\"></a>"
   ]
  },
  {
   "cell_type": "code",
   "execution_count": null,
   "metadata": {
    "colab": {
     "base_uri": "https://localhost:8080/",
     "height": 35
    },
    "executionInfo": {
     "elapsed": 6,
     "status": "ok",
     "timestamp": 1747351162172,
     "user": {
      "displayName": "Francisco Fernandez",
      "userId": "14484514716531413217"
     },
     "user_tz": 180
    },
    "id": "edHLp_Ec0p_2",
    "outputId": "47fb4e77-9d60-4a58-ca99-15073309cb49"
   },
   "outputs": [
    {
     "data": {
      "application/vnd.google.colaboratory.intrinsic+json": {
       "type": "string"
      },
      "text/plain": [
       "'dos strings se pueden sumar'"
      ]
     },
     "execution_count": 60,
     "metadata": {},
     "output_type": "execute_result"
    }
   ],
   "source": [
    "\"dos strings se pueden \" + \"sumar\""
   ]
  },
  {
   "cell_type": "markdown",
   "metadata": {
    "id": "acLUTX3T0p_2"
   },
   "source": [
    "Podemos acceder a ellos mediante **índices**. Los mismos funcionan para cualquier **iterable**, que es un objeto con muchos elementos que son accesibles secuencialmente. Podemos usar los índices para acceder a una posición determinada, pasándola entre corchetes [posición]. Es IMPORTANTE mencionar que en Python la primera posición tiene el índice 0 (y no 1)."
   ]
  },
  {
   "cell_type": "code",
   "execution_count": null,
   "metadata": {
    "id": "1XGIpatG0p_2"
   },
   "outputs": [],
   "source": [
    "texto = \"programación en python\""
   ]
  },
  {
   "cell_type": "code",
   "execution_count": null,
   "metadata": {
    "colab": {
     "base_uri": "https://localhost:8080/",
     "height": 35
    },
    "executionInfo": {
     "elapsed": 13,
     "status": "ok",
     "timestamp": 1747273720415,
     "user": {
      "displayName": "Francisco Fernandez",
      "userId": "14484514716531413217"
     },
     "user_tz": 180
    },
    "id": "IlnvJKSz0p_2",
    "outputId": "e5e51b1b-74dc-4138-9215-91238fa6678a"
   },
   "outputs": [
    {
     "data": {
      "application/vnd.google.colaboratory.intrinsic+json": {
       "type": "string"
      },
      "text/plain": [
       "'o'"
      ]
     },
     "execution_count": 206,
     "metadata": {},
     "output_type": "execute_result"
    }
   ],
   "source": [
    "texto[-2]"
   ]
  },
  {
   "cell_type": "markdown",
   "metadata": {
    "id": "N6Re6bcD0p_2"
   },
   "source": [
    "También podemos usar los índices para traer más de un elemento al mismo tiempo, usando el **slicing**. El slicing lleva tres parámetros: comienzo (start), final (stop) e intervalo o paso (step).\n",
    "\n",
    "- El parámetro comienzo (start) indica la primera posición incluida en la selección, por default es 0.\n",
    "\n",
    "- El parámetro final (stop) es la primera posición que NO va a estar incluída, por default se incluyen todos los elementos.\n",
    "\n",
    "- El parámetro intervalo o paso (step), es optativo e indica el tamaño del paso entre seleccionar un elemento y el siguiente, por default el paso es 1. El paso también puede ser negativo, en este caso contamos desde el final hacia el comienzo, esto es muy útil para dar vuelta los strings...\n",
    "\n",
    "\n",
    "    [comienzo : final : intervalo] (en inglés es [start : stop : step] )\n",
    "\n",
    "\n",
    "El intervalo que se recibe es semi-abierto (indice_primero, indice_segundo], es decir se incluye el primero y no el segundo valor. Se admiten números negativos, que contabilizan desde el final."
   ]
  },
  {
   "cell_type": "code",
   "execution_count": null,
   "metadata": {
    "colab": {
     "base_uri": "https://localhost:8080/",
     "height": 35
    },
    "executionInfo": {
     "elapsed": 43,
     "status": "ok",
     "timestamp": 1747273019821,
     "user": {
      "displayName": "Francisco Fernandez",
      "userId": "14484514716531413217"
     },
     "user_tz": 180
    },
    "id": "5GeBEDEraUmQ",
    "outputId": "efe68db0-5ae5-4505-d761-91b2770c45d9"
   },
   "outputs": [
    {
     "data": {
      "application/vnd.google.colaboratory.intrinsic+json": {
       "type": "string"
      },
      "text/plain": [
       "'programación en python'"
      ]
     },
     "execution_count": 143,
     "metadata": {},
     "output_type": "execute_result"
    }
   ],
   "source": [
    "texto"
   ]
  },
  {
   "cell_type": "code",
   "execution_count": null,
   "metadata": {
    "colab": {
     "base_uri": "https://localhost:8080/",
     "height": 35
    },
    "executionInfo": {
     "elapsed": 4,
     "status": "ok",
     "timestamp": 1747273019822,
     "user": {
      "displayName": "Francisco Fernandez",
      "userId": "14484514716531413217"
     },
     "user_tz": 180
    },
    "id": "0mVKmaKe0p_2",
    "outputId": "3b411ff0-5b2f-4091-e8de-0f7f914ca439"
   },
   "outputs": [
    {
     "data": {
      "application/vnd.google.colaboratory.intrinsic+json": {
       "type": "string"
      },
      "text/plain": [
       "'programación en python'"
      ]
     },
     "execution_count": 144,
     "metadata": {},
     "output_type": "execute_result"
    }
   ],
   "source": [
    "texto[:]"
   ]
  },
  {
   "cell_type": "code",
   "execution_count": null,
   "metadata": {
    "colab": {
     "base_uri": "https://localhost:8080/",
     "height": 35
    },
    "executionInfo": {
     "elapsed": 17,
     "status": "ok",
     "timestamp": 1747273818429,
     "user": {
      "displayName": "Francisco Fernandez",
      "userId": "14484514716531413217"
     },
     "user_tz": 180
    },
    "id": "SN-4-JTR0p_2",
    "outputId": "1e7d9e1b-a534-4d1e-e73f-f78e3c698bc5"
   },
   "outputs": [
    {
     "data": {
      "application/vnd.google.colaboratory.intrinsic+json": {
       "type": "string"
      },
      "text/plain": [
       "'progr'"
      ]
     },
     "execution_count": 208,
     "metadata": {},
     "output_type": "execute_result"
    }
   ],
   "source": [
    "texto[:5]"
   ]
  },
  {
   "cell_type": "code",
   "execution_count": null,
   "metadata": {
    "colab": {
     "base_uri": "https://localhost:8080/",
     "height": 35
    },
    "executionInfo": {
     "elapsed": 5,
     "status": "ok",
     "timestamp": 1747273873968,
     "user": {
      "displayName": "Francisco Fernandez",
      "userId": "14484514716531413217"
     },
     "user_tz": 180
    },
    "id": "BPlyrJ_C0p_2",
    "outputId": "75776cb6-43c1-4e35-9eb2-79da42174589"
   },
   "outputs": [
    {
     "data": {
      "application/vnd.google.colaboratory.intrinsic+json": {
       "type": "string"
      },
      "text/plain": [
       "'en'"
      ]
     },
     "execution_count": 211,
     "metadata": {},
     "output_type": "execute_result"
    }
   ],
   "source": [
    "texto[13:15]"
   ]
  },
  {
   "cell_type": "code",
   "execution_count": null,
   "metadata": {
    "colab": {
     "base_uri": "https://localhost:8080/",
     "height": 35
    },
    "executionInfo": {
     "elapsed": 2,
     "status": "ok",
     "timestamp": 1747273019838,
     "user": {
      "displayName": "Francisco Fernandez",
      "userId": "14484514716531413217"
     },
     "user_tz": 180
    },
    "id": "w_TGn4o20p_3",
    "outputId": "bbaecba6-4898-4b17-cd57-f9252a93afef"
   },
   "outputs": [
    {
     "data": {
      "application/vnd.google.colaboratory.intrinsic+json": {
       "type": "string"
      },
      "text/plain": [
       "'nohtyp ne nóicamargorp'"
      ]
     },
     "execution_count": 147,
     "metadata": {},
     "output_type": "execute_result"
    }
   ],
   "source": [
    "texto[::-1]"
   ]
  },
  {
   "cell_type": "markdown",
   "metadata": {
    "id": "xKF1aWZ80p_3"
   },
   "source": [
    "Ejercicio\n",
    "\n",
    "1- Dado ese string devuelvan únicamente la palabra python usando slicing"
   ]
  },
  {
   "cell_type": "code",
   "execution_count": null,
   "metadata": {
    "colab": {
     "base_uri": "https://localhost:8080/",
     "height": 35
    },
    "executionInfo": {
     "elapsed": 3,
     "status": "ok",
     "timestamp": 1747273908875,
     "user": {
      "displayName": "Francisco Fernandez",
      "userId": "14484514716531413217"
     },
     "user_tz": 180
    },
    "id": "osXBG4vv0p_3",
    "outputId": "b2eb72f3-995f-4539-dbf8-75c3c3128e1b"
   },
   "outputs": [
    {
     "data": {
      "application/vnd.google.colaboratory.intrinsic+json": {
       "type": "string"
      },
      "text/plain": [
       "'programación en python'"
      ]
     },
     "execution_count": 212,
     "metadata": {},
     "output_type": "execute_result"
    }
   ],
   "source": [
    "texto"
   ]
  },
  {
   "cell_type": "code",
   "execution_count": null,
   "metadata": {
    "colab": {
     "base_uri": "https://localhost:8080/",
     "height": 35
    },
    "executionInfo": {
     "elapsed": 4,
     "status": "ok",
     "timestamp": 1747273019925,
     "user": {
      "displayName": "Francisco Fernandez",
      "userId": "14484514716531413217"
     },
     "user_tz": 180
    },
    "id": "I7Z0qIho0p_3",
    "outputId": "8f01573b-99ff-4f4e-8e40-7eacc1079c0b"
   },
   "outputs": [
    {
     "data": {
      "application/vnd.google.colaboratory.intrinsic+json": {
       "type": "string"
      },
      "text/plain": [
       "'python'"
      ]
     },
     "execution_count": 149,
     "metadata": {},
     "output_type": "execute_result"
    }
   ],
   "source": [
    "texto[16:]"
   ]
  },
  {
   "cell_type": "code",
   "execution_count": null,
   "metadata": {
    "colab": {
     "base_uri": "https://localhost:8080/",
     "height": 35
    },
    "executionInfo": {
     "elapsed": 3,
     "status": "ok",
     "timestamp": 1747273019929,
     "user": {
      "displayName": "Francisco Fernandez",
      "userId": "14484514716531413217"
     },
     "user_tz": 180
    },
    "id": "XenKGVI20p_3",
    "outputId": "319651a8-d0bf-43e7-de34-d979a1c7151c"
   },
   "outputs": [
    {
     "data": {
      "application/vnd.google.colaboratory.intrinsic+json": {
       "type": "string"
      },
      "text/plain": [
       "'python'"
      ]
     },
     "execution_count": 150,
     "metadata": {},
     "output_type": "execute_result"
    }
   ],
   "source": [
    "texto[-6:]"
   ]
  },
  {
   "cell_type": "code",
   "execution_count": null,
   "metadata": {
    "colab": {
     "base_uri": "https://localhost:8080/",
     "height": 35
    },
    "executionInfo": {
     "elapsed": 42,
     "status": "ok",
     "timestamp": 1747273982216,
     "user": {
      "displayName": "Francisco Fernandez",
      "userId": "14484514716531413217"
     },
     "user_tz": 180
    },
    "id": "drYbxaAt0p_3",
    "outputId": "3356ec31-3b09-4a76-c190-e7e8ea2e8c98"
   },
   "outputs": [
    {
     "data": {
      "application/vnd.google.colaboratory.intrinsic+json": {
       "type": "string"
      },
      "text/plain": [
       "'python'"
      ]
     },
     "execution_count": 216,
     "metadata": {},
     "output_type": "execute_result"
    }
   ],
   "source": [
    "texto[-6::1]"
   ]
  },
  {
   "cell_type": "markdown",
   "metadata": {
    "id": "_ZZGBKwj0p_3"
   },
   "source": [
    "Veamos algunos otros métodos de los strings"
   ]
  },
  {
   "cell_type": "code",
   "execution_count": null,
   "metadata": {
    "colab": {
     "base_uri": "https://localhost:8080/",
     "height": 35
    },
    "executionInfo": {
     "elapsed": 4,
     "status": "ok",
     "timestamp": 1747273019938,
     "user": {
      "displayName": "Francisco Fernandez",
      "userId": "14484514716531413217"
     },
     "user_tz": 180
    },
    "id": "HVg_V-k9bBO9",
    "outputId": "df56a8ea-5870-4ada-8cb0-7390fa5453db"
   },
   "outputs": [
    {
     "data": {
      "application/vnd.google.colaboratory.intrinsic+json": {
       "type": "string"
      },
      "text/plain": [
       "'programación en python'"
      ]
     },
     "execution_count": 152,
     "metadata": {},
     "output_type": "execute_result"
    }
   ],
   "source": [
    "texto"
   ]
  },
  {
   "cell_type": "code",
   "execution_count": null,
   "metadata": {
    "colab": {
     "base_uri": "https://localhost:8080/",
     "height": 35
    },
    "executionInfo": {
     "elapsed": 3,
     "status": "ok",
     "timestamp": 1747273019942,
     "user": {
      "displayName": "Francisco Fernandez",
      "userId": "14484514716531413217"
     },
     "user_tz": 180
    },
    "id": "0xsTDuPs0p_3",
    "outputId": "ebd7f6c0-196c-4a02-81d4-a15347146b8b"
   },
   "outputs": [
    {
     "data": {
      "application/vnd.google.colaboratory.intrinsic+json": {
       "type": "string"
      },
      "text/plain": [
       "'PROGRAMACIÓN EN PYTHON'"
      ]
     },
     "execution_count": 153,
     "metadata": {},
     "output_type": "execute_result"
    }
   ],
   "source": [
    "texto.upper()"
   ]
  },
  {
   "cell_type": "code",
   "execution_count": null,
   "metadata": {
    "colab": {
     "base_uri": "https://localhost:8080/",
     "height": 35
    },
    "executionInfo": {
     "elapsed": 14,
     "status": "ok",
     "timestamp": 1747273019956,
     "user": {
      "displayName": "Francisco Fernandez",
      "userId": "14484514716531413217"
     },
     "user_tz": 180
    },
    "id": "ebffk9ea0p_3",
    "outputId": "ddda3522-4e6d-48df-a0e5-70da59304b8c"
   },
   "outputs": [
    {
     "data": {
      "application/vnd.google.colaboratory.intrinsic+json": {
       "type": "string"
      },
      "text/plain": [
       "'Programación En Python'"
      ]
     },
     "execution_count": 154,
     "metadata": {},
     "output_type": "execute_result"
    }
   ],
   "source": [
    "texto.title()"
   ]
  },
  {
   "cell_type": "code",
   "execution_count": null,
   "metadata": {
    "colab": {
     "base_uri": "https://localhost:8080/"
    },
    "executionInfo": {
     "elapsed": 10,
     "status": "ok",
     "timestamp": 1747273019957,
     "user": {
      "displayName": "Francisco Fernandez",
      "userId": "14484514716531413217"
     },
     "user_tz": 180
    },
    "id": "WnXTIBvd0p_3",
    "outputId": "b273cb64-39ae-408e-87a5-7f01a7dfb93f"
   },
   "outputs": [
    {
     "data": {
      "text/plain": [
       "['programación', 'en', 'python']"
      ]
     },
     "execution_count": 155,
     "metadata": {},
     "output_type": "execute_result"
    }
   ],
   "source": [
    "texto.split() # Devuelve una lista, de ésto vamos a hablar a continuación"
   ]
  },
  {
   "cell_type": "markdown",
   "metadata": {
    "id": "QpFKxC0O0p_3"
   },
   "source": [
    "Otras formas de combinar variables y texto..."
   ]
  },
  {
   "cell_type": "markdown",
   "metadata": {
    "id": "H75_DQ_v0p_3"
   },
   "source": [
    "Rellenamos un string con **.format(query, modales)**:"
   ]
  },
  {
   "cell_type": "code",
   "execution_count": null,
   "metadata": {
    "colab": {
     "base_uri": "https://localhost:8080/"
    },
    "executionInfo": {
     "elapsed": 38,
     "status": "ok",
     "timestamp": 1747273019992,
     "user": {
      "displayName": "Francisco Fernandez",
      "userId": "14484514716531413217"
     },
     "user_tz": 180
    },
    "id": "Bs204NhI0p_3",
    "outputId": "9e6516d9-4619-46b6-a93a-fddadfbf4dcc"
   },
   "outputs": [
    {
     "name": "stdout",
     "output_type": "stream",
     "text": [
      "Dame información de data science si esta disponible, por favor Saso\n"
     ]
    }
   ],
   "source": [
    "tema = 'data science'\n",
    "modales = 'por favor Saso'\n",
    "\n",
    "print('Dame información de {0} si esta disponible, {1}'.format(tema, modales))"
   ]
  },
  {
   "cell_type": "code",
   "execution_count": null,
   "metadata": {
    "colab": {
     "base_uri": "https://localhost:8080/"
    },
    "executionInfo": {
     "elapsed": 26,
     "status": "ok",
     "timestamp": 1747273019999,
     "user": {
      "displayName": "Francisco Fernandez",
      "userId": "14484514716531413217"
     },
     "user_tz": 180
    },
    "id": "TwT8SvAl0p_3",
    "outputId": "50254012-a2ea-4996-eaf8-f85ff37560c9"
   },
   "outputs": [
    {
     "name": "stdout",
     "output_type": "stream",
     "text": [
      "Dame información de DATA SCIENCE si esta disponible, por favor Saso\n"
     ]
    }
   ],
   "source": [
    "#Otra manera\n",
    "print(f'Dame información de {tema.upper()} si esta disponible, {modales}')"
   ]
  },
  {
   "cell_type": "markdown",
   "metadata": {
    "id": "sRpJ4vfQ0p_4"
   },
   "source": [
    "Otros métodos a mencionar son:"
   ]
  },
  {
   "cell_type": "code",
   "execution_count": null,
   "metadata": {
    "colab": {
     "base_uri": "https://localhost:8080/"
    },
    "executionInfo": {
     "elapsed": 16,
     "status": "ok",
     "timestamp": 1747273019999,
     "user": {
      "displayName": "Francisco Fernandez",
      "userId": "14484514716531413217"
     },
     "user_tz": 180
    },
    "id": "kskECW3L0p_4",
    "outputId": "fd45d6a2-17f1-4a3e-83ef-03fa068c2229"
   },
   "outputs": [
    {
     "data": {
      "text/plain": [
       "True"
      ]
     },
     "execution_count": 158,
     "metadata": {},
     "output_type": "execute_result"
    }
   ],
   "source": [
    "\"1000\".isdigit()"
   ]
  },
  {
   "cell_type": "code",
   "execution_count": null,
   "metadata": {
    "colab": {
     "base_uri": "https://localhost:8080/",
     "height": 35
    },
    "executionInfo": {
     "elapsed": 16,
     "status": "ok",
     "timestamp": 1747273020003,
     "user": {
      "displayName": "Francisco Fernandez",
      "userId": "14484514716531413217"
     },
     "user_tz": 180
    },
    "id": "lqfVvAX-bsWI",
    "outputId": "a09465a5-6709-4c70-d2a5-de6678e20d8e"
   },
   "outputs": [
    {
     "data": {
      "application/vnd.google.colaboratory.intrinsic+json": {
       "type": "string"
      },
      "text/plain": [
       "'programación en python'"
      ]
     },
     "execution_count": 159,
     "metadata": {},
     "output_type": "execute_result"
    }
   ],
   "source": [
    "texto"
   ]
  },
  {
   "cell_type": "code",
   "execution_count": null,
   "metadata": {
    "colab": {
     "base_uri": "https://localhost:8080/",
     "height": 35
    },
    "executionInfo": {
     "elapsed": 4,
     "status": "ok",
     "timestamp": 1747273020004,
     "user": {
      "displayName": "Francisco Fernandez",
      "userId": "14484514716531413217"
     },
     "user_tz": 180
    },
    "id": "JcF98sE40p_4",
    "outputId": "96e2e14d-453f-4a8d-f106-3e1ca65c79ff"
   },
   "outputs": [
    {
     "data": {
      "application/vnd.google.colaboratory.intrinsic+json": {
       "type": "string"
      },
      "text/plain": [
       "'programación...en...python'"
      ]
     },
     "execution_count": 160,
     "metadata": {},
     "output_type": "execute_result"
    }
   ],
   "source": [
    "texto.replace(' ', '...')"
   ]
  },
  {
   "cell_type": "code",
   "execution_count": null,
   "metadata": {
    "colab": {
     "base_uri": "https://localhost:8080/",
     "height": 35
    },
    "executionInfo": {
     "elapsed": 45,
     "status": "ok",
     "timestamp": 1747273020049,
     "user": {
      "displayName": "Francisco Fernandez",
      "userId": "14484514716531413217"
     },
     "user_tz": 180
    },
    "id": "HwdG-D1M0p_4",
    "outputId": "c0699622-25d8-4967-b8d1-edf19cbef4bd"
   },
   "outputs": [
    {
     "data": {
      "application/vnd.google.colaboratory.intrinsic+json": {
       "type": "string"
      },
      "text/plain": [
       "'quitando espacios'"
      ]
     },
     "execution_count": 161,
     "metadata": {},
     "output_type": "execute_result"
    }
   ],
   "source": [
    "\"   quitando espacios  \".strip()"
   ]
  },
  {
   "cell_type": "code",
   "execution_count": null,
   "metadata": {
    "colab": {
     "base_uri": "https://localhost:8080/"
    },
    "executionInfo": {
     "elapsed": 8,
     "status": "ok",
     "timestamp": 1747273020050,
     "user": {
      "displayName": "Francisco Fernandez",
      "userId": "14484514716531413217"
     },
     "user_tz": 180
    },
    "id": "3bPVBfKa0p_4",
    "outputId": "459e3e4b-ff14-40a0-aea5-ec358fa947d0"
   },
   "outputs": [
    {
     "data": {
      "text/plain": [
       "False"
      ]
     },
     "execution_count": 162,
     "metadata": {},
     "output_type": "execute_result"
    }
   ],
   "source": [
    "texto = \"Me gusta el 37\" # Piso el contenido de la variable para hacer otras pruebas\n",
    "texto.isalpha()"
   ]
  },
  {
   "cell_type": "code",
   "execution_count": null,
   "metadata": {
    "colab": {
     "base_uri": "https://localhost:8080/"
    },
    "executionInfo": {
     "elapsed": 27,
     "status": "ok",
     "timestamp": 1747274305787,
     "user": {
      "displayName": "Francisco Fernandez",
      "userId": "14484514716531413217"
     },
     "user_tz": 180
    },
    "id": "UDPrGBww0p_4",
    "outputId": "1c4d7bc3-7cf4-4afd-a80e-31404fffcf31"
   },
   "outputs": [
    {
     "data": {
      "text/plain": [
       "True"
      ]
     },
     "execution_count": 218,
     "metadata": {},
     "output_type": "execute_result"
    }
   ],
   "source": [
    "texto = \"Me\" # Piso el contenido de la variable\n",
    "texto.isalpha()"
   ]
  },
  {
   "cell_type": "markdown",
   "metadata": {
    "id": "6DMZykAE0p_4"
   },
   "source": [
    "#### Ejercicios <a name=\"section-5\"></a>\n",
    "\n",
    "1- Concatenar los string \"hola\" y \"qué tal\", separando ambos strings con un espacio (Tip: un espacio es: \" \")\n",
    "\n",
    "2- Guardar el resultado anterior en una variable y pasar el texto a mayúsculas."
   ]
  },
  {
   "cell_type": "code",
   "execution_count": null,
   "metadata": {
    "colab": {
     "base_uri": "https://localhost:8080/",
     "height": 35
    },
    "executionInfo": {
     "elapsed": 6,
     "status": "ok",
     "timestamp": 1747274449294,
     "user": {
      "displayName": "Francisco Fernandez",
      "userId": "14484514716531413217"
     },
     "user_tz": 180
    },
    "id": "FY5_xzCu0p_4",
    "outputId": "e8411e09-154d-42c7-cfc5-0f14dd0c8a7d"
   },
   "outputs": [
    {
     "data": {
      "application/vnd.google.colaboratory.intrinsic+json": {
       "type": "string"
      },
      "text/plain": [
       "'hola que tal'"
      ]
     },
     "execution_count": 221,
     "metadata": {},
     "output_type": "execute_result"
    }
   ],
   "source": [
    "# Ejercicio 1\n",
    "solucion = 'hola' + ' ' + 'que tal'\n",
    "solucion"
   ]
  },
  {
   "cell_type": "code",
   "execution_count": null,
   "metadata": {
    "colab": {
     "base_uri": "https://localhost:8080/",
     "height": 35
    },
    "executionInfo": {
     "elapsed": 40,
     "status": "ok",
     "timestamp": 1747274456029,
     "user": {
      "displayName": "Francisco Fernandez",
      "userId": "14484514716531413217"
     },
     "user_tz": 180
    },
    "id": "B3toCGZe0p_4",
    "outputId": "d0ece2a8-03ae-4767-e16b-194aa3baae56"
   },
   "outputs": [
    {
     "data": {
      "application/vnd.google.colaboratory.intrinsic+json": {
       "type": "string"
      },
      "text/plain": [
       "'HOLA QUE TAL'"
      ]
     },
     "execution_count": 222,
     "metadata": {},
     "output_type": "execute_result"
    }
   ],
   "source": [
    "# Ejercicio 2\n",
    "solucion.upper()"
   ]
  },
  {
   "cell_type": "markdown",
   "metadata": {
    "id": "zi-QAz7w0p_4"
   },
   "source": [
    "## Listas <a name=\"section-6\"></a>\n",
    "\n",
    "Las listas son un conjunto de elementos ordenados. Estos elementos pueden ser de cualquier tipo, incluyendo otras listas. Veamos algunas operaciones con ellas."
   ]
  },
  {
   "cell_type": "code",
   "execution_count": null,
   "metadata": {
    "id": "adgLSydK0p_4",
    "scrolled": true
   },
   "outputs": [],
   "source": [
    "amigos = ['Mateo', 'Nico', 'Claudia', 'Ernestina', 'Paola']"
   ]
  },
  {
   "cell_type": "markdown",
   "metadata": {
    "id": "oMhvzrYn0p_4"
   },
   "source": [
    "### Indexing y slicing en listas"
   ]
  },
  {
   "cell_type": "markdown",
   "metadata": {
    "id": "Lnm95oNt0p_4"
   },
   "source": [
    "De la misma forma que con los strings en el contexto de la listas generalmente hablamos de **indexación** o acceso por índice a la acción de encontrar un valor según su posición en la lista.\n",
    "\n",
    "Importantísimo (sí, ¡una vez más!): En Python el primer elemento se indexa con el valor 0. Es decir, si queremos el primer valor de una lista tenemos que llamar a la posición 0."
   ]
  },
  {
   "cell_type": "code",
   "execution_count": null,
   "metadata": {
    "colab": {
     "base_uri": "https://localhost:8080/",
     "height": 35
    },
    "executionInfo": {
     "elapsed": 3,
     "status": "ok",
     "timestamp": 1747273020082,
     "user": {
      "displayName": "Francisco Fernandez",
      "userId": "14484514716531413217"
     },
     "user_tz": 180
    },
    "id": "hj2gZDnf0p_4",
    "outputId": "79df8cd5-6bf9-4098-ebd6-f797f01dea0e"
   },
   "outputs": [
    {
     "data": {
      "application/vnd.google.colaboratory.intrinsic+json": {
       "type": "string"
      },
      "text/plain": [
       "'Mateo'"
      ]
     },
     "execution_count": 167,
     "metadata": {},
     "output_type": "execute_result"
    }
   ],
   "source": [
    "amigos[0]"
   ]
  },
  {
   "cell_type": "markdown",
   "metadata": {
    "id": "GGeC2W9d0p_4"
   },
   "source": [
    "Además, el último elemento se indexa como -1, el siguiente -2 y así sucesivamente. Entonces para acceder al último elemento:"
   ]
  },
  {
   "cell_type": "code",
   "execution_count": null,
   "metadata": {
    "colab": {
     "base_uri": "https://localhost:8080/",
     "height": 35
    },
    "executionInfo": {
     "elapsed": 5,
     "status": "ok",
     "timestamp": 1747274567117,
     "user": {
      "displayName": "Francisco Fernandez",
      "userId": "14484514716531413217"
     },
     "user_tz": 180
    },
    "id": "pZQ-Woeo0p_4",
    "outputId": "7a403d8e-2059-427d-a236-7c63a2e8406a"
   },
   "outputs": [
    {
     "data": {
      "application/vnd.google.colaboratory.intrinsic+json": {
       "type": "string"
      },
      "text/plain": [
       "'Ernestina'"
      ]
     },
     "execution_count": 225,
     "metadata": {},
     "output_type": "execute_result"
    }
   ],
   "source": [
    "amigos[-2]"
   ]
  },
  {
   "cell_type": "markdown",
   "metadata": {
    "id": "RSfoZG3g0p_4"
   },
   "source": [
    "Además, podemos acceder a varios elementos en simultáneo, usando el **slicing** de la misma manera que con strings.\n",
    "\n",
    "El slicing aplicado a una lista nos devuelve una **lista**.\n",
    "\n",
    "Veamos algunos ejemplos:"
   ]
  },
  {
   "cell_type": "code",
   "execution_count": null,
   "metadata": {
    "colab": {
     "base_uri": "https://localhost:8080/"
    },
    "executionInfo": {
     "elapsed": 11,
     "status": "ok",
     "timestamp": 1747273020099,
     "user": {
      "displayName": "Francisco Fernandez",
      "userId": "14484514716531413217"
     },
     "user_tz": 180
    },
    "id": "bm7Bk6Ht0p_4",
    "outputId": "b08f1a92-bb2f-4c7d-8078-c70454098890"
   },
   "outputs": [
    {
     "data": {
      "text/plain": [
       "['Mateo', 'Nico', 'Claudia', 'Ernestina', 'Paola']"
      ]
     },
     "execution_count": 169,
     "metadata": {},
     "output_type": "execute_result"
    }
   ],
   "source": [
    "amigos[:] # arranco en 0 hasta el final, con el paso default (1)"
   ]
  },
  {
   "cell_type": "code",
   "execution_count": null,
   "metadata": {
    "colab": {
     "base_uri": "https://localhost:8080/"
    },
    "executionInfo": {
     "elapsed": 9,
     "status": "ok",
     "timestamp": 1747273020109,
     "user": {
      "displayName": "Francisco Fernandez",
      "userId": "14484514716531413217"
     },
     "user_tz": 180
    },
    "id": "a2dyDIxH0p_4",
    "outputId": "b8df9915-8c67-431a-807f-9a7fb57a4256"
   },
   "outputs": [
    {
     "data": {
      "text/plain": [
       "['Mateo']"
      ]
     },
     "execution_count": 170,
     "metadata": {},
     "output_type": "execute_result"
    }
   ],
   "source": [
    "amigos[:1] # arranco en 0 y el primero sin incluir es el 1, con el paso default (1)"
   ]
  },
  {
   "cell_type": "code",
   "execution_count": null,
   "metadata": {
    "colab": {
     "base_uri": "https://localhost:8080/"
    },
    "executionInfo": {
     "elapsed": 10,
     "status": "ok",
     "timestamp": 1747273020118,
     "user": {
      "displayName": "Francisco Fernandez",
      "userId": "14484514716531413217"
     },
     "user_tz": 180
    },
    "id": "tIp9Mykz0p_5",
    "outputId": "5aa2ca3a-d3f3-43b5-be63-9195e4049ba5"
   },
   "outputs": [
    {
     "data": {
      "text/plain": [
       "['Mateo', 'Nico', 'Claudia', 'Ernestina']"
      ]
     },
     "execution_count": 171,
     "metadata": {},
     "output_type": "execute_result"
    }
   ],
   "source": [
    "amigos[:-1] # excluímos el último elemento"
   ]
  },
  {
   "cell_type": "code",
   "execution_count": null,
   "metadata": {
    "colab": {
     "base_uri": "https://localhost:8080/"
    },
    "executionInfo": {
     "elapsed": 21,
     "status": "ok",
     "timestamp": 1747274641963,
     "user": {
      "displayName": "Francisco Fernandez",
      "userId": "14484514716531413217"
     },
     "user_tz": 180
    },
    "id": "v-SM-y-B0p_5",
    "outputId": "e8053a48-1799-4879-a7bd-93e403f95d5d"
   },
   "outputs": [
    {
     "data": {
      "text/plain": [
       "['Mateo', 'Claudia', 'Paola']"
      ]
     },
     "execution_count": 229,
     "metadata": {},
     "output_type": "execute_result"
    }
   ],
   "source": [
    "amigos[::2] # salteamos dos elemento a la vez"
   ]
  },
  {
   "cell_type": "markdown",
   "metadata": {
    "id": "zQmGJN210p_5"
   },
   "source": [
    "Ejercicios:\n",
    "\n",
    "1- ¿Es el resultado de amigos[:1] igual al de acceder directamente a la primera posición?\n",
    "\n",
    "2- Recorrer la lista de elementos de atrás para adelante.\n",
    "\n",
    "3- Seleccionar del 3er elemento al 4to elemento."
   ]
  },
  {
   "cell_type": "markdown",
   "metadata": {
    "id": "ELY-9YRg0p_5"
   },
   "source": [
    "### Otras operaciones y métodos"
   ]
  },
  {
   "cell_type": "markdown",
   "metadata": {
    "id": "o-8qHS0I0p_5"
   },
   "source": [
    "Agregar un nuevo elemento:"
   ]
  },
  {
   "cell_type": "code",
   "execution_count": null,
   "metadata": {
    "colab": {
     "base_uri": "https://localhost:8080/"
    },
    "executionInfo": {
     "elapsed": 8,
     "status": "ok",
     "timestamp": 1747273020163,
     "user": {
      "displayName": "Francisco Fernandez",
      "userId": "14484514716531413217"
     },
     "user_tz": 180
    },
    "id": "EIaVF-n9dQf8",
    "outputId": "371af59d-d480-4ded-e457-c7221e99606f"
   },
   "outputs": [
    {
     "data": {
      "text/plain": [
       "['Mateo', 'Nico', 'Claudia', 'Ernestina', 'Paola']"
      ]
     },
     "execution_count": 173,
     "metadata": {},
     "output_type": "execute_result"
    }
   ],
   "source": [
    "amigos"
   ]
  },
  {
   "cell_type": "code",
   "execution_count": null,
   "metadata": {
    "colab": {
     "base_uri": "https://localhost:8080/"
    },
    "executionInfo": {
     "elapsed": 6,
     "status": "ok",
     "timestamp": 1747273020170,
     "user": {
      "displayName": "Francisco Fernandez",
      "userId": "14484514716531413217"
     },
     "user_tz": 180
    },
    "id": "cGwcac5tdZnC",
    "outputId": "abb7cba9-2bff-4061-f67f-1facd0dba24b"
   },
   "outputs": [
    {
     "name": "stdout",
     "output_type": "stream",
     "text": [
      "['Mateo', 'Nico', 'Claudia', 'Ernestina', 'Paola', 'Romanex']\n"
     ]
    }
   ],
   "source": [
    "amigos.append('Romanex')\n",
    "print(amigos)"
   ]
  },
  {
   "cell_type": "code",
   "execution_count": null,
   "metadata": {
    "id": "51VEp3Zodf-S"
   },
   "outputs": [],
   "source": [
    "amigos = amigos + ['Poli']"
   ]
  },
  {
   "cell_type": "code",
   "execution_count": null,
   "metadata": {
    "colab": {
     "base_uri": "https://localhost:8080/"
    },
    "executionInfo": {
     "elapsed": 6,
     "status": "ok",
     "timestamp": 1747273020181,
     "user": {
      "displayName": "Francisco Fernandez",
      "userId": "14484514716531413217"
     },
     "user_tz": 180
    },
    "id": "hqW4pLg-dimy",
    "outputId": "e140bbe8-82e1-4b20-e02a-0a27231621d7"
   },
   "outputs": [
    {
     "data": {
      "text/plain": [
       "['Mateo', 'Nico', 'Claudia', 'Ernestina', 'Paola', 'Romanex', 'Poli']"
      ]
     },
     "execution_count": 176,
     "metadata": {},
     "output_type": "execute_result"
    }
   ],
   "source": [
    "amigos"
   ]
  },
  {
   "cell_type": "markdown",
   "metadata": {
    "id": "nK5AXROI0p_5"
   },
   "source": [
    "Sumamos otra lista:"
   ]
  },
  {
   "cell_type": "code",
   "execution_count": null,
   "metadata": {
    "colab": {
     "base_uri": "https://localhost:8080/"
    },
    "executionInfo": {
     "elapsed": 6,
     "status": "ok",
     "timestamp": 1747274960267,
     "user": {
      "displayName": "Francisco Fernandez",
      "userId": "14484514716531413217"
     },
     "user_tz": 180
    },
    "id": "eJ-z7USL0p_5",
    "outputId": "5195f919-28a9-4c08-8107-172adcc011ce"
   },
   "outputs": [
    {
     "name": "stdout",
     "output_type": "stream",
     "text": [
      "['Mateo', 'Nico', 'Claudia', 'Ernestina', 'Poli', 'Pip', 'Saso']\n"
     ]
    }
   ],
   "source": [
    "amigos = amigos + ['Pip', 'Saso']\n",
    "print(amigos)"
   ]
  },
  {
   "cell_type": "markdown",
   "metadata": {
    "id": "kUInkAa30p_5"
   },
   "source": [
    "Unir una lista con un separador dado:"
   ]
  },
  {
   "cell_type": "code",
   "execution_count": null,
   "metadata": {
    "colab": {
     "base_uri": "https://localhost:8080/",
     "height": 35
    },
    "executionInfo": {
     "elapsed": 41,
     "status": "ok",
     "timestamp": 1747274822512,
     "user": {
      "displayName": "Francisco Fernandez",
      "userId": "14484514716531413217"
     },
     "user_tz": 180
    },
    "id": "ceO_smKO0p_5",
    "outputId": "49531b88-e12c-4585-fffc-22137f560c89"
   },
   "outputs": [
    {
     "data": {
      "application/vnd.google.colaboratory.intrinsic+json": {
       "type": "string"
      },
      "text/plain": [
       "'valor1++++++++valor2++++++++valor3'"
      ]
     },
     "execution_count": 231,
     "metadata": {},
     "output_type": "execute_result"
    }
   ],
   "source": [
    "ejemplo = ['valor1', 'valor2', 'valor3']\n",
    "'++++++++'.join(ejemplo)"
   ]
  },
  {
   "cell_type": "markdown",
   "metadata": {
    "id": "vs5Li1kb0p_5"
   },
   "source": [
    "El ejercicio 1 se podría haber resuelto usando .join así:"
   ]
  },
  {
   "cell_type": "code",
   "execution_count": null,
   "metadata": {
    "colab": {
     "base_uri": "https://localhost:8080/",
     "height": 35
    },
    "executionInfo": {
     "elapsed": 48,
     "status": "ok",
     "timestamp": 1747273020238,
     "user": {
      "displayName": "Francisco Fernandez",
      "userId": "14484514716531413217"
     },
     "user_tz": 180
    },
    "id": "j7xFiDQV0p_5",
    "outputId": "ffb27ad3-69ba-4b7a-b9a0-e937f49e715f"
   },
   "outputs": [
    {
     "data": {
      "application/vnd.google.colaboratory.intrinsic+json": {
       "type": "string"
      },
      "text/plain": [
       "'hola qué tal'"
      ]
     },
     "execution_count": 179,
     "metadata": {},
     "output_type": "execute_result"
    }
   ],
   "source": [
    "\" \".join([\"hola\", \"qué tal\"])"
   ]
  },
  {
   "cell_type": "markdown",
   "metadata": {
    "id": "6S-ddJDs0p_6"
   },
   "source": [
    "Borrado por valor:"
   ]
  },
  {
   "cell_type": "code",
   "execution_count": null,
   "metadata": {
    "colab": {
     "base_uri": "https://localhost:8080/"
    },
    "executionInfo": {
     "elapsed": 42,
     "status": "ok",
     "timestamp": 1747273020239,
     "user": {
      "displayName": "Francisco Fernandez",
      "userId": "14484514716531413217"
     },
     "user_tz": 180
    },
    "id": "AFdFRj8neB6i",
    "outputId": "873935c3-6d4c-4d5b-f627-31c08a9b093a"
   },
   "outputs": [
    {
     "data": {
      "text/plain": [
       "['Mateo',\n",
       " 'Nico',\n",
       " 'Claudia',\n",
       " 'Ernestina',\n",
       " 'Paola',\n",
       " 'Romanex',\n",
       " 'Poli',\n",
       " 'Pip',\n",
       " 'Saso']"
      ]
     },
     "execution_count": 180,
     "metadata": {},
     "output_type": "execute_result"
    }
   ],
   "source": [
    "amigos"
   ]
  },
  {
   "cell_type": "code",
   "execution_count": null,
   "metadata": {
    "id": "R0Qp-e4YeQgM"
   },
   "outputs": [],
   "source": [
    "amigos.append('Federico De la Rosa')"
   ]
  },
  {
   "cell_type": "code",
   "execution_count": null,
   "metadata": {
    "colab": {
     "base_uri": "https://localhost:8080/"
    },
    "executionInfo": {
     "elapsed": 58,
     "status": "ok",
     "timestamp": 1747273020324,
     "user": {
      "displayName": "Francisco Fernandez",
      "userId": "14484514716531413217"
     },
     "user_tz": 180
    },
    "id": "06UMRK05eUIJ",
    "outputId": "b1d7ad27-6155-49fe-c311-e0301eca9b4c"
   },
   "outputs": [
    {
     "data": {
      "text/plain": [
       "['Mateo',\n",
       " 'Nico',\n",
       " 'Claudia',\n",
       " 'Ernestina',\n",
       " 'Paola',\n",
       " 'Romanex',\n",
       " 'Poli',\n",
       " 'Pip',\n",
       " 'Saso',\n",
       " 'Federico De la Rosa']"
      ]
     },
     "execution_count": 182,
     "metadata": {},
     "output_type": "execute_result"
    }
   ],
   "source": [
    "amigos"
   ]
  },
  {
   "cell_type": "code",
   "execution_count": null,
   "metadata": {
    "id": "xijkanUYehgJ"
   },
   "outputs": [],
   "source": [
    "amigos.append('')"
   ]
  },
  {
   "cell_type": "code",
   "execution_count": null,
   "metadata": {
    "colab": {
     "base_uri": "https://localhost:8080/"
    },
    "executionInfo": {
     "elapsed": 52,
     "status": "ok",
     "timestamp": 1747273020326,
     "user": {
      "displayName": "Francisco Fernandez",
      "userId": "14484514716531413217"
     },
     "user_tz": 180
    },
    "id": "W6FrP0MGejrg",
    "outputId": "2cdbc1a1-a8c0-43b4-b3c3-34e455fb667f"
   },
   "outputs": [
    {
     "data": {
      "text/plain": [
       "['Mateo',\n",
       " 'Nico',\n",
       " 'Claudia',\n",
       " 'Ernestina',\n",
       " 'Paola',\n",
       " 'Romanex',\n",
       " 'Poli',\n",
       " 'Pip',\n",
       " 'Saso',\n",
       " 'Federico De la Rosa',\n",
       " '']"
      ]
     },
     "execution_count": 184,
     "metadata": {},
     "output_type": "execute_result"
    }
   ],
   "source": [
    "amigos"
   ]
  },
  {
   "cell_type": "code",
   "execution_count": null,
   "metadata": {
    "colab": {
     "base_uri": "https://localhost:8080/"
    },
    "executionInfo": {
     "elapsed": 24,
     "status": "ok",
     "timestamp": 1747273020327,
     "user": {
      "displayName": "Francisco Fernandez",
      "userId": "14484514716531413217"
     },
     "user_tz": 180
    },
    "id": "IcjdTENx0p_6",
    "outputId": "938312f1-3f31-4f4b-e584-eedb58b81de1"
   },
   "outputs": [
    {
     "name": "stdout",
     "output_type": "stream",
     "text": [
      "['Mateo', 'Nico', 'Claudia', 'Ernestina', 'Paola', 'Romanex', 'Poli', 'Pip', 'Saso', '']\n"
     ]
    }
   ],
   "source": [
    "amigos.remove('Federico De la Rosa')\n",
    "print(amigos)"
   ]
  },
  {
   "cell_type": "markdown",
   "metadata": {
    "id": "DUkyQQ180p_6"
   },
   "source": [
    "Borrado por índice:"
   ]
  },
  {
   "cell_type": "code",
   "execution_count": null,
   "metadata": {
    "colab": {
     "base_uri": "https://localhost:8080/"
    },
    "executionInfo": {
     "elapsed": 6,
     "status": "ok",
     "timestamp": 1747274972864,
     "user": {
      "displayName": "Francisco Fernandez",
      "userId": "14484514716531413217"
     },
     "user_tz": 180
    },
    "id": "1vjyIAW3tCwb",
    "outputId": "6b2da2ae-b94c-4fb4-b706-0da72b3fa21d"
   },
   "outputs": [
    {
     "data": {
      "text/plain": [
       "['Mateo',\n",
       " 'Nico',\n",
       " 'Claudia',\n",
       " 'Ernestina',\n",
       " 'Poli',\n",
       " 'Pip',\n",
       " 'Saso',\n",
       " 'Federico De la Rosa']"
      ]
     },
     "execution_count": 236,
     "metadata": {},
     "output_type": "execute_result"
    }
   ],
   "source": [
    "amigos"
   ]
  },
  {
   "cell_type": "code",
   "execution_count": null,
   "metadata": {
    "colab": {
     "base_uri": "https://localhost:8080/"
    },
    "executionInfo": {
     "elapsed": 18,
     "status": "ok",
     "timestamp": 1747274979608,
     "user": {
      "displayName": "Francisco Fernandez",
      "userId": "14484514716531413217"
     },
     "user_tz": 180
    },
    "id": "ECxFMK7c0p_6",
    "outputId": "10a2f7a3-5e49-44d8-83e9-d86989c7a765",
    "scrolled": true
   },
   "outputs": [
    {
     "name": "stdout",
     "output_type": "stream",
     "text": [
      "['Mateo', 'Nico', 'Claudia', 'Ernestina', 'Poli', 'Pip', 'Saso']\n"
     ]
    }
   ],
   "source": [
    "del amigos[-1]\n",
    "print(amigos)"
   ]
  },
  {
   "cell_type": "markdown",
   "metadata": {
    "id": "ALFAwA4z0p_6"
   },
   "source": [
    "Devuelve un elemento y lo borra de la lista:"
   ]
  },
  {
   "cell_type": "code",
   "execution_count": null,
   "metadata": {
    "id": "wOCeRoDI0p_6"
   },
   "outputs": [],
   "source": [
    "valor = amigos.pop(0)"
   ]
  },
  {
   "cell_type": "code",
   "execution_count": null,
   "metadata": {
    "colab": {
     "base_uri": "https://localhost:8080/",
     "height": 35
    },
    "executionInfo": {
     "elapsed": 3,
     "status": "ok",
     "timestamp": 1747275015064,
     "user": {
      "displayName": "Francisco Fernandez",
      "userId": "14484514716531413217"
     },
     "user_tz": 180
    },
    "id": "0FC9cYive1Df",
    "outputId": "701dc527-2032-4f57-b58c-8da835dc1e26"
   },
   "outputs": [
    {
     "data": {
      "application/vnd.google.colaboratory.intrinsic+json": {
       "type": "string"
      },
      "text/plain": [
       "'Mateo'"
      ]
     },
     "execution_count": 239,
     "metadata": {},
     "output_type": "execute_result"
    }
   ],
   "source": [
    "valor"
   ]
  },
  {
   "cell_type": "code",
   "execution_count": null,
   "metadata": {
    "id": "3b3WzoEs0p_6"
   },
   "outputs": [],
   "source": [
    "edades = [30, 40, 38, 30, 37]"
   ]
  },
  {
   "cell_type": "code",
   "execution_count": null,
   "metadata": {
    "colab": {
     "base_uri": "https://localhost:8080/"
    },
    "executionInfo": {
     "elapsed": 11,
     "status": "ok",
     "timestamp": 1747273020354,
     "user": {
      "displayName": "Francisco Fernandez",
      "userId": "14484514716531413217"
     },
     "user_tz": 180
    },
    "id": "thm9px_Me7t3",
    "outputId": "9bcf495e-09e6-4905-c0d4-29a5ab8bce5a"
   },
   "outputs": [
    {
     "data": {
      "text/plain": [
       "[30, 40, 38, 30, 37]"
      ]
     },
     "execution_count": 190,
     "metadata": {},
     "output_type": "execute_result"
    }
   ],
   "source": [
    "edades"
   ]
  },
  {
   "cell_type": "markdown",
   "metadata": {
    "id": "rsnJWTcD0p_6"
   },
   "source": [
    "Cantidad de apariciones:"
   ]
  },
  {
   "cell_type": "code",
   "execution_count": null,
   "metadata": {
    "colab": {
     "base_uri": "https://localhost:8080/"
    },
    "executionInfo": {
     "elapsed": 5,
     "status": "ok",
     "timestamp": 1747275114574,
     "user": {
      "displayName": "Francisco Fernandez",
      "userId": "14484514716531413217"
     },
     "user_tz": 180
    },
    "id": "3f9LmBvK0p_6",
    "outputId": "97be7792-4c4d-47da-94b1-78247a83b3aa"
   },
   "outputs": [
    {
     "name": "stdout",
     "output_type": "stream",
     "text": [
      "1\n"
     ]
    }
   ],
   "source": [
    "print(edades.count(37))"
   ]
  },
  {
   "cell_type": "markdown",
   "metadata": {
    "id": "3m5HNmV00p_6"
   },
   "source": [
    "Largo de la lista:"
   ]
  },
  {
   "cell_type": "code",
   "execution_count": null,
   "metadata": {
    "colab": {
     "base_uri": "https://localhost:8080/"
    },
    "executionInfo": {
     "elapsed": 8,
     "status": "ok",
     "timestamp": 1747273020369,
     "user": {
      "displayName": "Francisco Fernandez",
      "userId": "14484514716531413217"
     },
     "user_tz": 180
    },
    "id": "NLzDgE5a0p_6",
    "outputId": "ed63dddf-1c53-49de-90e7-fc22fbeb34c8"
   },
   "outputs": [
    {
     "name": "stdout",
     "output_type": "stream",
     "text": [
      "5\n"
     ]
    }
   ],
   "source": [
    "print(len(edades))"
   ]
  },
  {
   "cell_type": "markdown",
   "metadata": {
    "id": "h6-j8s1l0p_6"
   },
   "source": [
    "Ordenar la lista:"
   ]
  },
  {
   "cell_type": "code",
   "execution_count": null,
   "metadata": {
    "colab": {
     "base_uri": "https://localhost:8080/"
    },
    "executionInfo": {
     "elapsed": 7,
     "status": "ok",
     "timestamp": 1747273020377,
     "user": {
      "displayName": "Francisco Fernandez",
      "userId": "14484514716531413217"
     },
     "user_tz": 180
    },
    "id": "TnYp_ZhZ0p_6",
    "outputId": "59cffa12-5e3d-45b6-fe94-87a2b7c935ba"
   },
   "outputs": [
    {
     "data": {
      "text/plain": [
       "[30, 30, 37, 38, 40]"
      ]
     },
     "execution_count": 193,
     "metadata": {},
     "output_type": "execute_result"
    }
   ],
   "source": [
    "sorted(edades)"
   ]
  },
  {
   "cell_type": "markdown",
   "metadata": {
    "id": "y-0k46ma0p_6"
   },
   "source": [
    "Sumar el total:"
   ]
  },
  {
   "cell_type": "code",
   "execution_count": null,
   "metadata": {
    "colab": {
     "base_uri": "https://localhost:8080/"
    },
    "executionInfo": {
     "elapsed": 5,
     "status": "ok",
     "timestamp": 1747273020383,
     "user": {
      "displayName": "Francisco Fernandez",
      "userId": "14484514716531413217"
     },
     "user_tz": 180
    },
    "id": "uKgliAJi0p_6",
    "outputId": "5c4756c8-5c55-47c4-eab9-39f290e13745"
   },
   "outputs": [
    {
     "name": "stdout",
     "output_type": "stream",
     "text": [
      "175\n"
     ]
    }
   ],
   "source": [
    "print(sum(edades))"
   ]
  },
  {
   "cell_type": "markdown",
   "metadata": {
    "id": "v1sTsuwk0p_6"
   },
   "source": [
    "Mínimo:"
   ]
  },
  {
   "cell_type": "code",
   "execution_count": null,
   "metadata": {
    "colab": {
     "base_uri": "https://localhost:8080/"
    },
    "executionInfo": {
     "elapsed": 32,
     "status": "ok",
     "timestamp": 1747273020421,
     "user": {
      "displayName": "Francisco Fernandez",
      "userId": "14484514716531413217"
     },
     "user_tz": 180
    },
    "id": "Uwe6DwMp0p_6",
    "outputId": "a4067d4d-fcf7-4eae-faa2-78c23cbe4177"
   },
   "outputs": [
    {
     "name": "stdout",
     "output_type": "stream",
     "text": [
      "30\n"
     ]
    }
   ],
   "source": [
    "print(min(edades))"
   ]
  },
  {
   "cell_type": "markdown",
   "metadata": {
    "id": "Mnvvt0eW0p_7"
   },
   "source": [
    "Máximo:"
   ]
  },
  {
   "cell_type": "code",
   "execution_count": null,
   "metadata": {
    "colab": {
     "base_uri": "https://localhost:8080/"
    },
    "executionInfo": {
     "elapsed": 12,
     "status": "ok",
     "timestamp": 1747273020421,
     "user": {
      "displayName": "Francisco Fernandez",
      "userId": "14484514716531413217"
     },
     "user_tz": 180
    },
    "id": "s54Emq1p0p_7",
    "outputId": "011c4b85-3334-458e-884c-2d79c7eb4530"
   },
   "outputs": [
    {
     "name": "stdout",
     "output_type": "stream",
     "text": [
      "40\n"
     ]
    }
   ],
   "source": [
    "print(max(edades))"
   ]
  },
  {
   "cell_type": "markdown",
   "metadata": {
    "id": "r_VtaAk20p_7"
   },
   "source": [
    "Ejercicio: <a name=\"section-7\"></a>\n",
    "\n",
    "1- Calcular el promedio de edad de la lista \"edades\"\n"
   ]
  },
  {
   "cell_type": "markdown",
   "metadata": {
    "id": "Yf4i5TUz0p_7"
   },
   "source": [
    "## Diccionarios <a name=\"section-8\"></a>\n",
    "\n",
    "Los diccionarios consisten en estructuras que contienen pares de una **llave** y un **valor**. Los elementos NO están ordenados, con lo cual no se puede acceder por posición ni slicing.\n",
    "\n",
    "Veamos un ejemplo"
   ]
  },
  {
   "cell_type": "code",
   "execution_count": null,
   "metadata": {
    "id": "00OMYCUqfuxR"
   },
   "outputs": [],
   "source": [
    "edades = [30, 40, 38, 30, 37]"
   ]
  },
  {
   "cell_type": "code",
   "execution_count": null,
   "metadata": {
    "id": "qCjuG1Fu0p_7"
   },
   "outputs": [],
   "source": [
    "dnis = {'Herrera':32676585,\n",
    "        'Guzmán':9564787,\n",
    "        'Pérez':5676898,\n",
    "        'Hernández':40565999,\n",
    "        'Abraham':28375814,\n",
    "       \"soy_una_llave\":\"soy_un_valor\"}"
   ]
  },
  {
   "cell_type": "markdown",
   "metadata": {
    "id": "l-zTN41l0p_7"
   },
   "source": [
    "Sin embargo, sí podemos acceder a un elemento por su llave. Accedemos al valor de \"Abraham\""
   ]
  },
  {
   "cell_type": "code",
   "execution_count": null,
   "metadata": {
    "colab": {
     "base_uri": "https://localhost:8080/"
    },
    "executionInfo": {
     "elapsed": 16,
     "status": "ok",
     "timestamp": 1747273020448,
     "user": {
      "displayName": "Francisco Fernandez",
      "userId": "14484514716531413217"
     },
     "user_tz": 180
    },
    "id": "rtvtRibQgO3u",
    "outputId": "e87486db-fc0e-4346-cc13-eaeeb662d668"
   },
   "outputs": [
    {
     "data": {
      "text/plain": [
       "30"
      ]
     },
     "execution_count": 200,
     "metadata": {},
     "output_type": "execute_result"
    }
   ],
   "source": [
    "edades[0]"
   ]
  },
  {
   "cell_type": "code",
   "execution_count": null,
   "metadata": {
    "colab": {
     "base_uri": "https://localhost:8080/"
    },
    "executionInfo": {
     "elapsed": 9,
     "status": "ok",
     "timestamp": 1747273020448,
     "user": {
      "displayName": "Francisco Fernandez",
      "userId": "14484514716531413217"
     },
     "user_tz": 180
    },
    "id": "BSAVWymM0p_7",
    "outputId": "f54aacbb-e737-43ba-d124-bf58fa7ee7c0"
   },
   "outputs": [
    {
     "data": {
      "text/plain": [
       "28375814"
      ]
     },
     "execution_count": 201,
     "metadata": {},
     "output_type": "execute_result"
    }
   ],
   "source": [
    "dnis['Abraham'] # noten que se usa la misma notación que con las listas"
   ]
  },
  {
   "cell_type": "markdown",
   "metadata": {
    "id": "-c4Z4W-w0p_7"
   },
   "source": [
    "¿Qué pasa si tratamos un diccionario como una lista?"
   ]
  },
  {
   "cell_type": "code",
   "execution_count": null,
   "metadata": {
    "colab": {
     "base_uri": "https://localhost:8080/"
    },
    "executionInfo": {
     "elapsed": 5,
     "status": "ok",
     "timestamp": 1747275458666,
     "user": {
      "displayName": "Francisco Fernandez",
      "userId": "14484514716531413217"
     },
     "user_tz": 180
    },
    "id": "wsffc3PM0p_7",
    "outputId": "1006e318-f070-4778-eff4-3b2d1ccc2116"
   },
   "outputs": [
    {
     "data": {
      "text/plain": [
       "9564787"
      ]
     },
     "execution_count": 244,
     "metadata": {},
     "output_type": "execute_result"
    }
   ],
   "source": [
    "dnis['Guzmán']"
   ]
  },
  {
   "cell_type": "markdown",
   "metadata": {
    "id": "J0emlHhT0p_7"
   },
   "source": [
    "Tenemos un error, tratemos de interpretarlo: KeyError se refierre a que no existe una llave (Key) a la que se trató de acceder. En este caso la llave que se trató de acceder es 0."
   ]
  },
  {
   "cell_type": "markdown",
   "metadata": {
    "id": "Y2IJ0LLq0p_7"
   },
   "source": [
    "Podemos ver todas las llaves:"
   ]
  },
  {
   "cell_type": "code",
   "execution_count": null,
   "metadata": {
    "colab": {
     "base_uri": "https://localhost:8080/"
    },
    "executionInfo": {
     "elapsed": 14,
     "status": "ok",
     "timestamp": 1747275470309,
     "user": {
      "displayName": "Francisco Fernandez",
      "userId": "14484514716531413217"
     },
     "user_tz": 180
    },
    "id": "Cbit6MTM0p_7",
    "outputId": "e3604521-3768-4ef8-a6a0-4db4cf1e4881"
   },
   "outputs": [
    {
     "data": {
      "text/plain": [
       "dict_keys(['Herrera', 'Guzmán', 'Pérez', 'Hernández', 'Abraham', 'soy_una_llave'])"
      ]
     },
     "execution_count": 245,
     "metadata": {},
     "output_type": "execute_result"
    }
   ],
   "source": [
    "dnis.keys()"
   ]
  },
  {
   "cell_type": "markdown",
   "metadata": {
    "id": "ZDub92740p_7"
   },
   "source": [
    "Traer todos los pares de elementos:"
   ]
  },
  {
   "cell_type": "code",
   "execution_count": null,
   "metadata": {
    "colab": {
     "base_uri": "https://localhost:8080/"
    },
    "executionInfo": {
     "elapsed": 18,
     "status": "ok",
     "timestamp": 1747275582276,
     "user": {
      "displayName": "Francisco Fernandez",
      "userId": "14484514716531413217"
     },
     "user_tz": 180
    },
    "id": "eSS34bSm0p_7",
    "outputId": "9e3984a3-0510-4138-9734-6383d2538118"
   },
   "outputs": [
    {
     "data": {
      "text/plain": [
       "dict_items([('Herrera', 32676585), ('Guzmán', 9564787), ('Pérez', 5676898), ('Hernández', 40565999), ('Abraham', 28375814), ('soy_una_llave', 'soy_un_valor')])"
      ]
     },
     "execution_count": 253,
     "metadata": {},
     "output_type": "execute_result"
    }
   ],
   "source": [
    "dnis.items()"
   ]
  },
  {
   "cell_type": "markdown",
   "metadata": {
    "id": "CtWV4eUm0p_7"
   },
   "source": [
    "Y utilizar los mismos métodos para borrar y extrar como en las listas:"
   ]
  },
  {
   "cell_type": "code",
   "execution_count": null,
   "metadata": {
    "colab": {
     "base_uri": "https://localhost:8080/"
    },
    "executionInfo": {
     "elapsed": 5,
     "status": "ok",
     "timestamp": 1747275604062,
     "user": {
      "displayName": "Francisco Fernandez",
      "userId": "14484514716531413217"
     },
     "user_tz": 180
    },
    "id": "oc_0TwGv0p_7",
    "outputId": "7e6406b4-7ce8-4cf9-fcad-501c80fa9a6f"
   },
   "outputs": [
    {
     "data": {
      "text/plain": [
       "32676585"
      ]
     },
     "execution_count": 254,
     "metadata": {},
     "output_type": "execute_result"
    }
   ],
   "source": [
    "dnis.pop('Herrera')"
   ]
  },
  {
   "cell_type": "markdown",
   "metadata": {
    "id": "ZGsCd7KN0p_7"
   },
   "source": [
    "Los diccionarios tienen longitud, de la misma forma que las listas y string"
   ]
  },
  {
   "cell_type": "code",
   "execution_count": null,
   "metadata": {
    "colab": {
     "base_uri": "https://localhost:8080/"
    },
    "executionInfo": {
     "elapsed": 22,
     "status": "ok",
     "timestamp": 1747275614392,
     "user": {
      "displayName": "Francisco Fernandez",
      "userId": "14484514716531413217"
     },
     "user_tz": 180
    },
    "id": "5WIkNKm6vf_Q",
    "outputId": "2bf8d234-7d2c-4837-d10a-c48a7fd635f4"
   },
   "outputs": [
    {
     "data": {
      "text/plain": [
       "{'Guzmán': 9564787,\n",
       " 'Pérez': 5676898,\n",
       " 'Hernández': 40565999,\n",
       " 'Abraham': 28375814,\n",
       " 'soy_una_llave': 'soy_un_valor'}"
      ]
     },
     "execution_count": 255,
     "metadata": {},
     "output_type": "execute_result"
    }
   ],
   "source": [
    "dnis"
   ]
  },
  {
   "cell_type": "code",
   "execution_count": null,
   "metadata": {
    "colab": {
     "base_uri": "https://localhost:8080/"
    },
    "executionInfo": {
     "elapsed": 12,
     "status": "ok",
     "timestamp": 1747275620310,
     "user": {
      "displayName": "Francisco Fernandez",
      "userId": "14484514716531413217"
     },
     "user_tz": 180
    },
    "id": "vmwdD31c0p_7",
    "outputId": "554433fc-9089-4ae5-9c59-39a009303e58"
   },
   "outputs": [
    {
     "data": {
      "text/plain": [
       "5"
      ]
     },
     "execution_count": 256,
     "metadata": {},
     "output_type": "execute_result"
    }
   ],
   "source": [
    "len(dnis)"
   ]
  },
  {
   "cell_type": "code",
   "execution_count": null,
   "metadata": {
    "id": "YAJrTfFTlKov"
   },
   "outputs": [],
   "source": [
    "import requests"
   ]
  },
  {
   "cell_type": "code",
   "execution_count": null,
   "metadata": {
    "colab": {
     "base_uri": "https://localhost:8080/"
    },
    "executionInfo": {
     "elapsed": 322,
     "status": "ok",
     "timestamp": 1747276438773,
     "user": {
      "displayName": "Francisco Fernandez",
      "userId": "14484514716531413217"
     },
     "user_tz": 180
    },
    "id": "abXwU08XlQX-",
    "outputId": "63794806-0e7d-42d0-ae2d-3f5880138fc2"
   },
   "outputs": [
    {
     "data": {
      "text/plain": [
       "<Response [200]>"
      ]
     },
     "execution_count": 265,
     "metadata": {},
     "output_type": "execute_result"
    }
   ],
   "source": [
    "city = 'tokyo'\n",
    "api = f'http://api.weatherapi.com/v1/current.json?key=c41f962f29e04fcab0d171915240108&q={city}&aqi=no'\n",
    "\n",
    "response = requests.get(api)\n",
    "response #imprimo el codigo de solicitud de la api"
   ]
  },
  {
   "cell_type": "code",
   "execution_count": null,
   "metadata": {
    "colab": {
     "base_uri": "https://localhost:8080/"
    },
    "executionInfo": {
     "elapsed": 5,
     "status": "ok",
     "timestamp": 1747276440814,
     "user": {
      "displayName": "Francisco Fernandez",
      "userId": "14484514716531413217"
     },
     "user_tz": 180
    },
    "id": "gwh6pLjRl7LD",
    "outputId": "4119cdfc-4bc4-414c-a8d5-6fcecca45b8a"
   },
   "outputs": [
    {
     "data": {
      "text/plain": [
       "{'location': {'name': 'Tokyo',\n",
       "  'region': 'Tokyo',\n",
       "  'country': 'Japan',\n",
       "  'lat': 35.6895,\n",
       "  'lon': 139.6917,\n",
       "  'tz_id': 'Asia/Tokyo',\n",
       "  'localtime_epoch': 1747276414,\n",
       "  'localtime': '2025-05-15 11:33'},\n",
       " 'current': {'last_updated_epoch': 1747276200,\n",
       "  'last_updated': '2025-05-15 11:30',\n",
       "  'temp_c': 24.0,\n",
       "  'is_day': 1,\n",
       "  'condition': {'text': 'Partly cloudy',\n",
       "   'icon': '//cdn.weatherapi.com/weather/64x64/day/116.png',\n",
       "   'code': 1003},\n",
       "  'wind_kph': 13.0,\n",
       "  'wind_degree': 168,\n",
       "  'wind_dir': 'SSE',\n",
       "  'pressure_mb': 1021.0,\n",
       "  'precip_mm': 0.0,\n",
       "  'humidity': 57,\n",
       "  'cloud': 75,\n",
       "  'feelslike_c': 25.1,\n",
       "  'windchill_c': 23.3,\n",
       "  'heatindex_c': 24.7,\n",
       "  'dewpoint_c': 11.2,\n",
       "  'vis_km': 10.0,\n",
       "  'uv': 8.3,\n",
       "  'gust_kph': 14.9}}"
      ]
     },
     "execution_count": 266,
     "metadata": {},
     "output_type": "execute_result"
    }
   ],
   "source": [
    "response_json = response.json() #obtengo el json de la solicitud\n",
    "response_json"
   ]
  },
  {
   "cell_type": "code",
   "execution_count": null,
   "metadata": {
    "colab": {
     "base_uri": "https://localhost:8080/"
    },
    "executionInfo": {
     "elapsed": 5,
     "status": "ok",
     "timestamp": 1747276442260,
     "user": {
      "displayName": "Francisco Fernandez",
      "userId": "14484514716531413217"
     },
     "user_tz": 180
    },
    "id": "ioeZxmD7m1Jb",
    "outputId": "1d4879b8-6e45-449e-90cd-3216662180b1"
   },
   "outputs": [
    {
     "data": {
      "text/plain": [
       "2"
      ]
     },
     "execution_count": 267,
     "metadata": {},
     "output_type": "execute_result"
    }
   ],
   "source": [
    "len(response_json)"
   ]
  },
  {
   "cell_type": "code",
   "execution_count": null,
   "metadata": {
    "colab": {
     "base_uri": "https://localhost:8080/"
    },
    "executionInfo": {
     "elapsed": 17,
     "status": "ok",
     "timestamp": 1747276259997,
     "user": {
      "displayName": "Francisco Fernandez",
      "userId": "14484514716531413217"
     },
     "user_tz": 180
    },
    "id": "Y21ANnXem950",
    "outputId": "63c611e0-0a00-428e-ea2b-3b23d31eaf96"
   },
   "outputs": [
    {
     "data": {
      "text/plain": [
       "dict_keys(['location', 'current'])"
      ]
     },
     "execution_count": 262,
     "metadata": {},
     "output_type": "execute_result"
    }
   ],
   "source": [
    "response_json.keys()"
   ]
  },
  {
   "cell_type": "code",
   "execution_count": null,
   "metadata": {
    "colab": {
     "base_uri": "https://localhost:8080/"
    },
    "executionInfo": {
     "elapsed": 5,
     "status": "ok",
     "timestamp": 1747276445337,
     "user": {
      "displayName": "Francisco Fernandez",
      "userId": "14484514716531413217"
     },
     "user_tz": 180
    },
    "id": "F7pC4RcfnBxh",
    "outputId": "7bd40f43-e1a3-4869-c85b-68bad0c6558c"
   },
   "outputs": [
    {
     "data": {
      "text/plain": [
       "{'name': 'Tokyo',\n",
       " 'region': 'Tokyo',\n",
       " 'country': 'Japan',\n",
       " 'lat': 35.6895,\n",
       " 'lon': 139.6917,\n",
       " 'tz_id': 'Asia/Tokyo',\n",
       " 'localtime_epoch': 1747276414,\n",
       " 'localtime': '2025-05-15 11:33'}"
      ]
     },
     "execution_count": 268,
     "metadata": {},
     "output_type": "execute_result"
    }
   ],
   "source": [
    "response_json['location']"
   ]
  },
  {
   "cell_type": "code",
   "execution_count": null,
   "metadata": {
    "colab": {
     "base_uri": "https://localhost:8080/"
    },
    "executionInfo": {
     "elapsed": 5,
     "status": "ok",
     "timestamp": 1747276450856,
     "user": {
      "displayName": "Francisco Fernandez",
      "userId": "14484514716531413217"
     },
     "user_tz": 180
    },
    "id": "9aFeDFJFnNqv",
    "outputId": "0126f301-7cf2-4aaa-8ca0-66b27ef11457"
   },
   "outputs": [
    {
     "data": {
      "text/plain": [
       "dict_keys(['name', 'region', 'country', 'lat', 'lon', 'tz_id', 'localtime_epoch', 'localtime'])"
      ]
     },
     "execution_count": 269,
     "metadata": {},
     "output_type": "execute_result"
    }
   ],
   "source": [
    "response_json['location'].keys()"
   ]
  },
  {
   "cell_type": "code",
   "execution_count": null,
   "metadata": {
    "id": "7-NmLZRpoB-a"
   },
   "outputs": [],
   "source": [
    "import requests\n",
    "\n",
    "meal = 'Arrabiata'\n",
    "api = f'https://www.themealdb.com/api/json/v1/1/search.php?s={meal}'\n",
    "\n",
    "response = requests.get(api)"
   ]
  },
  {
   "cell_type": "markdown",
   "metadata": {
    "id": "2mAOWm1P0p_7"
   },
   "source": [
    "## Condicionales <a name=\"section-9\"></a>\n",
    "\n",
    "El condicional tiene la siguiente sintáxis:\n",
    "\n",
    "    if CONDICIÓN:\n",
    "        código1\n",
    "    elif CONDICIÓN2:\n",
    "        código2\n",
    "    else:\n",
    "        código3\n",
    "\n",
    "Donde la condición es un operador que devuelve un objeto de tipo booleano. La **indentación** del código define qué parte se incluye como condicional.\n",
    "\n",
    "El término \"elif\" viene de \"else if\". La condición sólo se evaluará si la condición del \"if\" no se cumple."
   ]
  },
  {
   "cell_type": "code",
   "execution_count": null,
   "metadata": {
    "id": "s0_pEilc0p_7"
   },
   "outputs": [],
   "source": [
    "precio_dolar = 62\n",
    "\n",
    "if precio_dolar >= 90:\n",
    "    print(\"El dólar se fue por las nubes\")\n",
    "elif (precio_dolar < 90) and (precio_dolar >= 70):\n",
    "    print(\"El dolar subió\")\n",
    "else:\n",
    "    print(\"El dólar es menor a 70\")\n",
    "\n",
    "print(precio_dolar)"
   ]
  },
  {
   "cell_type": "markdown",
   "metadata": {
    "id": "mPWjb46F0p_7"
   },
   "source": [
    "## Bucles o Loops\n",
    "\n",
    "Los bucles son un tipo de sentencia donde se realiza el código contenido repetidamente. Existen dos tipos. En el bucle **for**, se **itera** o recorre un conjunto de elementos actuando por cada uno de ellos. En el bucle **while** se itera hasta que se cumple una condiciónn de corte."
   ]
  },
  {
   "cell_type": "markdown",
   "metadata": {
    "id": "aty42heC0p_8"
   },
   "source": [
    "### For loop"
   ]
  },
  {
   "cell_type": "code",
   "execution_count": null,
   "metadata": {
    "id": "pEw-PDU30p_8"
   },
   "outputs": [],
   "source": [
    "for n in [1,2,'3']:\n",
    "    print(f'EL tipo es {n*2} {type(n*2)}')"
   ]
  },
  {
   "cell_type": "code",
   "execution_count": null,
   "metadata": {
    "id": "TBfFDX7D0p_8"
   },
   "outputs": [],
   "source": [
    "lista = [1,2,3,4,5]\n",
    "\n",
    "for n in lista:\n",
    "    print(n * 2)"
   ]
  },
  {
   "cell_type": "markdown",
   "metadata": {
    "id": "7EAss2VU0p_8"
   },
   "source": [
    "También agreguemos la función **range** a nuestro repertorio. La función range consta de tres parámetros importante: start, stop, step. Si pasamos un sólo parámetro, estamos pasando el \"stop\" y tomamos 0 como valor default de \"start\". Del mismo modo que cuando vimos listas, el stop no está incluído y el step por default es 1.\n",
    "\n",
    "Veamos cómo funciona:"
   ]
  },
  {
   "cell_type": "code",
   "execution_count": null,
   "metadata": {
    "id": "Rnp-L9RH0p_8"
   },
   "outputs": [],
   "source": [
    "for n in range(5):\n",
    "    print(n)"
   ]
  },
  {
   "cell_type": "markdown",
   "metadata": {
    "id": "HF1Ejs070p_8"
   },
   "source": [
    "Si pasamos dos parámetros, estamos pasando el start y el stop, el primer valor es el \"start\" y el segundo el \"stop\"."
   ]
  },
  {
   "cell_type": "code",
   "execution_count": null,
   "metadata": {
    "id": "EcIaK5xx0p_8"
   },
   "outputs": [],
   "source": [
    "for n in range(0,5):\n",
    "    print(n)"
   ]
  },
  {
   "cell_type": "markdown",
   "metadata": {
    "id": "4YvgCxAI0p_8"
   },
   "source": [
    "Noten que el valor de start se incluye y el de stop no:"
   ]
  },
  {
   "cell_type": "code",
   "execution_count": null,
   "metadata": {
    "id": "YSnIhgPd0p_8"
   },
   "outputs": [],
   "source": [
    "for n in range(1, 6): # esto nos da el mismo resultado que un par de celdas más arriba\n",
    "    print(n * 2)"
   ]
  },
  {
   "cell_type": "markdown",
   "metadata": {
    "id": "MbBvX65D0p_8"
   },
   "source": [
    "Por último, el tercer parámetro es el step..."
   ]
  },
  {
   "cell_type": "markdown",
   "metadata": {
    "id": "Hjg9G56F0p_8"
   },
   "source": [
    "Ejercicios combinando lo visto hasta el momento:\n",
    "\n",
    "1- Imprimir los valores de 1 a 50, salteando de a un valor por vez...\n",
    "\n",
    "2- Dada la siguiente lista: medios = [\"cheques\", \"bonos\", \"acciones\", 1000, \"transferencia\"]. Acceder al 2do elemento, y luego al 3er elemento (de ese 2do elemento) y responder qué devulve.\n",
    "\n",
    "3- De manera similar, ahora accedan al 4to elemento, y luego al 3er elemento de éste, ¿qué ocurre?\n",
    "\n",
    "4- Agreguen una lista vacía al final de esa lista.\n",
    "\n",
    "5- Recorran *medios* (iteren) y si el tipo del elemento es string, hagan un print de su primer elemento, si es int (entero) pásenlo a string y hagan un print de su primer elemento y si no es nada de eso hagan un print que diga \"Es otro tipo\". Tip1: para pasar un elemento a tipo string pueden usar la función str(variable), donde variable es el elemento que quieren transformar. Tip2: para arrancar este ejercicio pueden copiar lo siguiente:"
   ]
  },
  {
   "cell_type": "code",
   "execution_count": null,
   "metadata": {
    "id": "38kIVAOq0p_8"
   },
   "outputs": [],
   "source": [
    "for medio in medios:\n",
    "    pass # pass no hace nada, sólo pasa sin ejecutar nada... Reemplácenlo y completen con las condiciones."
   ]
  },
  {
   "cell_type": "markdown",
   "metadata": {
    "id": "uycp0U750p_8"
   },
   "source": [
    "### While loop"
   ]
  },
  {
   "cell_type": "markdown",
   "metadata": {
    "id": "gEuTystI0p_8"
   },
   "source": [
    "Los bucles **while** se definen con una condición, y el código contenido se ejecuta mientras la misma evalue como True. Es importante definir correctamente cuándo la condición pasa de True a False, si no lo hacemos podemos dejar corriendo un programa infinitamente sin que corte. Si eso llega a suceder tienen un botón de stop arriba en la notebook."
   ]
  },
  {
   "cell_type": "code",
   "execution_count": null,
   "metadata": {
    "id": "Cz129atu0p_8"
   },
   "outputs": [],
   "source": [
    "contador = 0\n",
    "\n",
    "while contador < 20:\n",
    "    contador += 1 # esto equivale a count = count + 1\n",
    "    print(contador)"
   ]
  },
  {
   "cell_type": "markdown",
   "metadata": {
    "id": "ISh4hUt40p_8"
   },
   "source": [
    "---\n",
    "\n",
    "## Recursos y tips\n",
    "\n",
    "\n",
    "- [Google!](https://google.com)\n",
    "- [StackOverflow](https://stackoverflow.com)\n",
    "- [Google Colab](https://colab.research.google.com)\n",
    "- [Slicing](https://python-reference.readthedocs.io/en/latest/docs/brackets/slicing.html)\n",
    "---\n",
    "\n",
    "## Tips en la práctica\n",
    "\n",
    "- Ver _docstring_ con Shift + TAB o help()\n",
    "- Leer Errores\n",
    "- Print"
   ]
  },
  {
   "cell_type": "code",
   "execution_count": null,
   "metadata": {
    "id": "2RNytC4N0p_8"
   },
   "outputs": [],
   "source": []
  }
 ],
 "metadata": {
  "colab": {
   "provenance": [
    {
     "file_id": "1itJ8AVtLuIy71ewrriHOE4av4tlkG8kS",
     "timestamp": 1747250450427
    }
   ]
  },
  "kernelspec": {
   "display_name": "Python 3",
   "name": "python3"
  },
  "language_info": {
   "name": "python"
  }
 },
 "nbformat": 4,
 "nbformat_minor": 0
}
