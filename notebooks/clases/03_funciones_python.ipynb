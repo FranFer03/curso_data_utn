{
 "cells": [
  {
   "cell_type": "markdown",
   "metadata": {},
   "source": [
    "# ⚙️ Funciones en Python\n",
    "\n",
    "## 🎯 Objetivos de Aprendizaje\n",
    "\n",
    "Al finalizar este notebook, serás capaz de:\n",
    "\n",
    "- Comprender el concepto y la importancia de las funciones en programación\n",
    "- Definir y llamar funciones personalizadas\n",
    "- Trabajar con parámetros y argumentos\n",
    "- Utilizar valores de retorno para comunicar resultados\n",
    "- Implementar funciones con parámetros por defecto\n",
    "- Aplicar el concepto de scope (alcance) de variables\n",
    "- Escribir código más modular y reutilizable\n",
    "\n",
    "## 📚 Contenido\n",
    "\n",
    "1. **¿Qué son las Funciones?**\n",
    "   - Definición y propósito\n",
    "   - Ventajas de usar funciones\n",
    "   - Reutilización de código\n",
    "\n",
    "2. **Definición de Funciones**\n",
    "   - Palabra clave `def`\n",
    "   - Sintaxis básica\n",
    "   - Convenciones de nomenclatura\n",
    "\n",
    "3. **Parámetros y Argumentos**\n",
    "   - Diferencia entre parámetros y argumentos\n",
    "   - Parámetros posicionales\n",
    "   - Parámetros por defecto\n",
    "\n",
    "4. **Valores de Retorno**\n",
    "   - Palabra clave `return`\n",
    "   - Funciones que devuelven valores\n",
    "   - Funciones que no devuelven valores\n",
    "\n",
    "5. **Scope (Alcance) de Variables**\n",
    "   - Variables locales vs globales\n",
    "   - Reglas de visibilidad\n",
    "\n",
    "6. **Buenas Prácticas**\n",
    "   - Documentación de funciones (docstrings)\n",
    "   - Nombres descriptivos\n",
    "   - Funciones con una sola responsabilidad\n",
    "\n",
    "## 🛠️ Prerrequisitos\n",
    "\n",
    "- Conocimiento de tipos de datos básicos\n",
    "- Comprensión de estructuras de control condicionales\n",
    "- Familiaridad con variables y operaciones\n",
    "\n",
    "## 💡 Conceptos Clave\n",
    "\n",
    "- **Función**: Bloque de código reutilizable que realiza una tarea específica\n",
    "- **Parámetro**: Variable definida en la declaración de la función\n",
    "- **Argumento**: Valor real pasado a la función cuando se llama\n",
    "- **Scope**: Región del programa donde una variable es accesible\n",
    "- **Docstring**: Cadena de documentación que describe qué hace una función\n",
    "\n",
    "---"
   ]
  },
  {
   "cell_type": "markdown",
   "metadata": {
    "id": "gSWfphdwJJE5"
   },
   "source": [
    "# **Funciones**"
   ]
  },
  {
   "cell_type": "markdown",
   "metadata": {
    "id": "07yo8VO0L7ik"
   },
   "source": [
    "**Concepto**:\n",
    "\n",
    "Una función es un bloque de código organizado y reutilizable que realiza una acción específica. Piensa en ellas como \"mini-programas\" dentro de tu programa principal.\n",
    "\n",
    "**Analogía**:\n",
    "* Una receta de cocina: sigues unos pasos (el código) para obtener un resultado (el retorno de la función).\n",
    "* Un botón en un control remoto: cada botón realiza una acción específica cuando lo presionas.\n",
    "* Un empleado especializado: le das una tarea (argumentos) y te devuelve un resultado.\n",
    "\n",
    "### **¿Por Qué Usar Funciones?**\n",
    "\n",
    "* Reutilización de Código: Escribe el código una vez y úsalo múltiples veces en diferentes partes de tu programa o incluso en otros programas. *Ejemplo: Si necesitas calcular el IVA de varios productos, creas una función calcular_iva() y la llamas para cada producto.*\n",
    "* Modularidad: Divide un programa complejo en partes más pequeñas y manejables. Cada función se encarga de una tarea específica.\n",
    "*Ejemplo: Un programa de gestión de clientes podría tener funciones para agregar_cliente(), buscar_cliente(), eliminar_cliente().*\n",
    "* Legibilidad y Mantenimiento: El código se vuelve más fácil de leer, entender y modificar. Si necesitas cambiar cómo se realiza una tarea, solo modificas la función correspondiente.\n",
    "* Abstracción: Ocultan los detalles de implementación. Solo necesitas saber qué hace la función y qué necesita para funcionar, no necesariamente cómo lo hace internamente.\n",
    "\n",
    "### **Sintaxis Básica de una Función en Python**\n",
    "\n",
    "![sintesis](https://i0.wp.com/holamundo.io/wp-content/uploads/2023/02/funct4-1.png?resize=1024%2C406&ssl=1)"
   ]
  },
  {
   "cell_type": "code",
   "execution_count": null,
   "metadata": {
    "id": "VbVia0YSLpg9"
   },
   "outputs": [],
   "source": [
    "# Sintaxis básica\n",
    "def nombre_de_la_funcion(parametro1, parametro2):\n",
    "  # Cuerpo de la función (código indentado)\n",
    "  resultado = parametro1 + parametro2\n",
    "  return resultado"
   ]
  },
  {
   "cell_type": "code",
   "execution_count": null,
   "metadata": {
    "colab": {
     "base_uri": "https://localhost:8080/"
    },
    "executionInfo": {
     "elapsed": 12,
     "status": "ok",
     "timestamp": 1747427888497,
     "user": {
      "displayName": "Francisco Fernandez",
      "userId": "14484514716531413217"
     },
     "user_tz": 180
    },
    "id": "89sYC48uKczX",
    "outputId": "b1870601-1142-4743-f6bd-667322f4b677"
   },
   "outputs": [
    {
     "name": "stdout",
     "output_type": "stream",
     "text": [
      "8\n"
     ]
    }
   ],
   "source": [
    "# Ejemplo de llamada\n",
    "suma = nombre_de_la_funcion(5, 3)\n",
    "print(suma)"
   ]
  },
  {
   "cell_type": "code",
   "execution_count": null,
   "metadata": {
    "colab": {
     "base_uri": "https://localhost:8080/"
    },
    "executionInfo": {
     "elapsed": 17,
     "status": "ok",
     "timestamp": 1747427936753,
     "user": {
      "displayName": "Francisco Fernandez",
      "userId": "14484514716531413217"
     },
     "user_tz": 180
    },
    "id": "t7MnLWvMMYRA",
    "outputId": "17b2d4f4-806f-4f00-80fa-d2d0972c8712"
   },
   "outputs": [
    {
     "name": "stdout",
     "output_type": "stream",
     "text": [
      "¡Hola, Ana!\n",
      "¡Hola, Carlos!\n"
     ]
    }
   ],
   "source": [
    "def saludar(nombre):\n",
    "  print(f\"¡Hola, {nombre}!\")\n",
    "\n",
    "saludar(\"Ana\") # \"Ana\" es un argumento\n",
    "saludar(\"Carlos\")"
   ]
  },
  {
   "cell_type": "markdown",
   "metadata": {
    "id": "ZUZVa3-XOWWI"
   },
   "source": [
    "# Parametros"
   ]
  },
  {
   "cell_type": "markdown",
   "metadata": {
    "id": "aw28JZzWNOPE"
   },
   "source": [
    "**Argumentos Posicionales:** Se asignan a los parámetros según su orden."
   ]
  },
  {
   "cell_type": "code",
   "execution_count": null,
   "metadata": {
    "colab": {
     "base_uri": "https://localhost:8080/"
    },
    "executionInfo": {
     "elapsed": 6,
     "status": "ok",
     "timestamp": 1747428044319,
     "user": {
      "displayName": "Francisco Fernandez",
      "userId": "14484514716531413217"
     },
     "user_tz": 180
    },
    "id": "7UpMnzKtNMWc",
    "outputId": "ed17de4d-668e-4b53-9b91-e5ebcb6df37a"
   },
   "outputs": [
    {
     "name": "stdout",
     "output_type": "stream",
     "text": [
      "Tengo un perro llamado Fido.\n"
     ]
    }
   ],
   "source": [
    "def describir_mascota(tipo_animal, nombre_mascota):\n",
    "  print(f\"Tengo un {tipo_animal} llamado {nombre_mascota}.\")\n",
    "\n",
    "describir_mascota(\"perro\", \"Fido\")"
   ]
  },
  {
   "cell_type": "code",
   "execution_count": null,
   "metadata": {
    "colab": {
     "base_uri": "https://localhost:8080/"
    },
    "executionInfo": {
     "elapsed": 8,
     "status": "ok",
     "timestamp": 1747428066233,
     "user": {
      "displayName": "Francisco Fernandez",
      "userId": "14484514716531413217"
     },
     "user_tz": 180
    },
    "id": "5E_BueUE0_tB",
    "outputId": "42729a2e-aa8b-4e57-a536-ac44971063b2"
   },
   "outputs": [
    {
     "name": "stdout",
     "output_type": "stream",
     "text": [
      "Tengo un pez llamado nemo.\n"
     ]
    }
   ],
   "source": [
    "describir_mascota('pez','nemo')"
   ]
  },
  {
   "cell_type": "markdown",
   "metadata": {
    "id": "9QzAupdNNa41"
   },
   "source": [
    "**Argumentos por Nombre (Keyword Arguments):** Se especifica el nombre del parámetro al pasar el argumento. El orden no importa."
   ]
  },
  {
   "cell_type": "code",
   "execution_count": null,
   "metadata": {
    "colab": {
     "base_uri": "https://localhost:8080/"
    },
    "executionInfo": {
     "elapsed": 6,
     "status": "ok",
     "timestamp": 1747428119462,
     "user": {
      "displayName": "Francisco Fernandez",
      "userId": "14484514716531413217"
     },
     "user_tz": 180
    },
    "id": "HHq81Q4TNb5p",
    "outputId": "d3d7ee42-33a5-4f6e-9061-24ffce2a0b90"
   },
   "outputs": [
    {
     "name": "stdout",
     "output_type": "stream",
     "text": [
      "Tengo un gato llamado Bigotes.\n"
     ]
    }
   ],
   "source": [
    "describir_mascota(nombre_mascota=\"Bigotes\", tipo_animal=\"gato\")"
   ]
  },
  {
   "cell_type": "markdown",
   "metadata": {
    "id": "mt9r9UeaNe8w"
   },
   "source": [
    "**Parámetros por Defecto:** Puedes asignar un valor por defecto a un parámetro en la definición de la función. Si no se pasa un argumento para ese parámetro al llamar la función, se usará el valor por defecto.\n"
   ]
  },
  {
   "cell_type": "code",
   "execution_count": null,
   "metadata": {
    "colab": {
     "base_uri": "https://localhost:8080/"
    },
    "executionInfo": {
     "elapsed": 4,
     "status": "ok",
     "timestamp": 1747428730654,
     "user": {
      "displayName": "Francisco Fernandez",
      "userId": "14484514716531413217"
     },
     "user_tz": 180
    },
    "id": "zu6yATUsNiEI",
    "outputId": "072592f6-2f9e-4535-acf5-b52cf990b820"
   },
   "outputs": [
    {
     "data": {
      "text/plain": [
       "9"
      ]
     },
     "execution_count": 13,
     "metadata": {},
     "output_type": "execute_result"
    }
   ],
   "source": [
    "def potencia(base, exponente=2):\n",
    "  return base ** exponente\n",
    "\n",
    "potencia(3)"
   ]
  },
  {
   "cell_type": "code",
   "execution_count": null,
   "metadata": {
    "colab": {
     "base_uri": "https://localhost:8080/"
    },
    "executionInfo": {
     "elapsed": 17,
     "status": "ok",
     "timestamp": 1747428754398,
     "user": {
      "displayName": "Francisco Fernandez",
      "userId": "14484514716531413217"
     },
     "user_tz": 180
    },
    "id": "KWTNU0qZ3mw7",
    "outputId": "c0844688-903b-469b-faf0-903a3ddd705c"
   },
   "outputs": [
    {
     "data": {
      "text/plain": [
       "8"
      ]
     },
     "execution_count": 14,
     "metadata": {},
     "output_type": "execute_result"
    }
   ],
   "source": [
    "potencia(2,3)"
   ]
  },
  {
   "cell_type": "code",
   "execution_count": null,
   "metadata": {
    "colab": {
     "base_uri": "https://localhost:8080/"
    },
    "executionInfo": {
     "elapsed": 4,
     "status": "ok",
     "timestamp": 1747428783113,
     "user": {
      "displayName": "Francisco Fernandez",
      "userId": "14484514716531413217"
     },
     "user_tz": 180
    },
    "id": "vHm0zY383siM",
    "outputId": "58872975-3291-4fb8-a102-4d0236ad9a22"
   },
   "outputs": [
    {
     "data": {
      "text/plain": [
       "100"
      ]
     },
     "execution_count": 15,
     "metadata": {},
     "output_type": "execute_result"
    }
   ],
   "source": [
    "potencia(10)"
   ]
  },
  {
   "cell_type": "code",
   "execution_count": null,
   "metadata": {
    "colab": {
     "base_uri": "https://localhost:8080/"
    },
    "executionInfo": {
     "elapsed": 13,
     "status": "ok",
     "timestamp": 1747428683368,
     "user": {
      "displayName": "Francisco Fernandez",
      "userId": "14484514716531413217"
     },
     "user_tz": 180
    },
    "id": "h0LCD9Un1skT",
    "outputId": "5f256f0e-5b52-4591-8d53-8c3af3ee79fc"
   },
   "outputs": [
    {
     "data": {
      "text/plain": [
       "9765625"
      ]
     },
     "execution_count": 12,
     "metadata": {},
     "output_type": "execute_result"
    }
   ],
   "source": [
    "potencia(5,10)"
   ]
  },
  {
   "cell_type": "markdown",
   "metadata": {
    "id": "ydH8W-LqNsE6"
   },
   "source": [
    "**Argumentos Variables:**\n",
    "    \n",
    "* `*args` (Argumentos posicionales variables): Permite pasar un número variable de argumentos posicionales. Dentro de la función, `args` será una **tupla** con todos los argumentos posicionales extra."
   ]
  },
  {
   "cell_type": "code",
   "execution_count": null,
   "metadata": {
    "id": "_9WE1uBe361F"
   },
   "outputs": [],
   "source": [
    "[1,2,3] #lista\n",
    " #tupla"
   ]
  },
  {
   "cell_type": "code",
   "execution_count": null,
   "metadata": {
    "colab": {
     "base_uri": "https://localhost:8080/"
    },
    "executionInfo": {
     "elapsed": 13,
     "status": "ok",
     "timestamp": 1747429343073,
     "user": {
      "displayName": "Francisco Fernandez",
      "userId": "14484514716531413217"
     },
     "user_tz": 180
    },
    "id": "ZVOWHXfVNvSQ",
    "outputId": "3fffc83c-7096-4ee7-daf6-8711aff5d2c6"
   },
   "outputs": [
    {
     "data": {
      "text/plain": [
       "6"
      ]
     },
     "execution_count": 17,
     "metadata": {},
     "output_type": "execute_result"
    }
   ],
   "source": [
    "def sumar_todos(*numeros): # 'numeros' será una tupla\n",
    "  total = 0\n",
    "  for num in numeros:\n",
    "      total = total + num\n",
    "  return total\n",
    "\n",
    "calculadora = sumar_todos(1, 2, 3)\n",
    "calculadora"
   ]
  },
  {
   "cell_type": "code",
   "execution_count": null,
   "metadata": {
    "colab": {
     "base_uri": "https://localhost:8080/"
    },
    "executionInfo": {
     "elapsed": 41,
     "status": "ok",
     "timestamp": 1747429426176,
     "user": {
      "displayName": "Francisco Fernandez",
      "userId": "14484514716531413217"
     },
     "user_tz": 180
    },
    "id": "P6u2q5Fo4XEF",
    "outputId": "4d35d3fb-b8bc-4240-ae1c-1f2f8ebf9c38"
   },
   "outputs": [
    {
     "data": {
      "text/plain": [
       "100"
      ]
     },
     "execution_count": 20,
     "metadata": {},
     "output_type": "execute_result"
    }
   ],
   "source": [
    "calculadora2 = sumar_todos(10, 20, 30, 40)\n",
    "calculadora2"
   ]
  },
  {
   "cell_type": "markdown",
   "metadata": {
    "id": "0DjM6oaHN-6K"
   },
   "source": [
    "* `**kwargs` (Argumentos por nombre variables): Permite pasar un número variable de argumentos por nombre. Dentro de la función, `kwargs` será un **diccionario** con estos argumentos.\n"
   ]
  },
  {
   "cell_type": "code",
   "execution_count": null,
   "metadata": {
    "colab": {
     "base_uri": "https://localhost:8080/"
    },
    "executionInfo": {
     "elapsed": 11,
     "status": "ok",
     "timestamp": 1747429493976,
     "user": {
      "displayName": "Francisco Fernandez",
      "userId": "14484514716531413217"
     },
     "user_tz": 180
    },
    "id": "-1bO2mQCN-Op",
    "outputId": "58592678-b369-4f28-88ec-28120de435bc"
   },
   "outputs": [
    {
     "name": "stdout",
     "output_type": "stream",
     "text": [
      "Nombre: Laura\n",
      "Edad: 30\n",
      "Ciudad: Buenos Aires\n",
      "Provincia: Tucucity\n"
     ]
    }
   ],
   "source": [
    "def imprimir_info_usuario(**datos_usuario): # 'datos_usuario' será un diccionario\n",
    "    for clave, valor in datos_usuario.items():\n",
    "        print(f\"{clave.replace('_', ' ').title()}: {valor}\")\n",
    "\n",
    "imprimir_info_usuario(nombre=\"Laura\", edad=30, ciudad=\"Buenos Aires\",provincia='Tucucity')"
   ]
  },
  {
   "cell_type": "markdown",
   "metadata": {
    "id": "FgpCp02VOb2v"
   },
   "source": [
    "# **Sentencia return**"
   ]
  },
  {
   "cell_type": "markdown",
   "metadata": {
    "id": "NPAftT0kOs0m"
   },
   "source": [
    "* Se utiliza para que una función devuelva un valor (o varios) al código que la llamó.\n",
    "* Cuando se ejecuta return, la función termina inmediatamente."
   ]
  },
  {
   "cell_type": "markdown",
   "metadata": {
    "id": "1GEA2AfVO32x"
   },
   "source": [
    "* **Devolver un único valor**"
   ]
  },
  {
   "cell_type": "code",
   "execution_count": null,
   "metadata": {
    "colab": {
     "base_uri": "https://localhost:8080/"
    },
    "executionInfo": {
     "elapsed": 55,
     "status": "ok",
     "timestamp": 1747429582196,
     "user": {
      "displayName": "Francisco Fernandez",
      "userId": "14484514716531413217"
     },
     "user_tz": 180
    },
    "id": "XKzD4_LLOqjS",
    "outputId": "9d726f34-daac-41a9-b01e-19ba72c9205c"
   },
   "outputs": [
    {
     "name": "stdout",
     "output_type": "stream",
     "text": [
      "El área es: 314.159\n"
     ]
    }
   ],
   "source": [
    "def calcular_area_circulo(radio):\n",
    "  area = 3.14159 * radio ** 2\n",
    "  return area\n",
    "\n",
    "area_mi_circulo = calcular_area_circulo(10)\n",
    "print(f\"El área es: {area_mi_circulo}\")"
   ]
  },
  {
   "cell_type": "markdown",
   "metadata": {
    "id": "4uRg-443OxtH"
   },
   "source": [
    "* **Devolver Múltiples Valores:** Python lo hace devolviendo una tupla (aunque no necesites escribir los paréntesis explícitamente)."
   ]
  },
  {
   "cell_type": "code",
   "execution_count": null,
   "metadata": {
    "colab": {
     "base_uri": "https://localhost:8080/"
    },
    "executionInfo": {
     "elapsed": 13,
     "status": "ok",
     "timestamp": 1747429643391,
     "user": {
      "displayName": "Francisco Fernandez",
      "userId": "14484514716531413217"
     },
     "user_tz": 180
    },
    "id": "KfubDfaWOyLe",
    "outputId": "58aaddc2-cd8a-47de-eb39-b5f36b9f6f0d"
   },
   "outputs": [
    {
     "name": "stdout",
     "output_type": "stream",
     "text": [
      "X: 10, Y: 20, Z: 5\n"
     ]
    }
   ],
   "source": [
    "def obtener_coordenadas():\n",
    "        x = 10\n",
    "        y = 20\n",
    "        z = 5\n",
    "        return x, y, z # Devuelve la tupla (10, 20, 5)\n",
    "\n",
    "coord_x, coord_y, coord_z = obtener_coordenadas()\n",
    "print(f\"X: {coord_x}, Y: {coord_y}, Z: {coord_z}\")"
   ]
  },
  {
   "cell_type": "code",
   "execution_count": null,
   "metadata": {
    "colab": {
     "base_uri": "https://localhost:8080/"
    },
    "executionInfo": {
     "elapsed": 8,
     "status": "ok",
     "timestamp": 1747418148033,
     "user": {
      "displayName": "Francisco Fernandez",
      "userId": "14484514716531413217"
     },
     "user_tz": 180
    },
    "id": "wXw1_vpBPIbn",
    "outputId": "863b198b-ff33-4b97-b0ab-a9fc1522aed5"
   },
   "outputs": [
    {
     "name": "stdout",
     "output_type": "stream",
     "text": [
      "(10, 20, 5)\n"
     ]
    }
   ],
   "source": [
    "# También puedes obtener la tupla completa\n",
    "coordenadas_completas = obtener_coordenadas()\n",
    "print(coordenadas_completas)"
   ]
  },
  {
   "cell_type": "markdown",
   "metadata": {
    "id": "1SSQKq8IPSki"
   },
   "source": [
    "**Funciones sin `return` explícito:** Si una función no tiene una sentencia `return`, o tiene `return` sin un valor, devuelve `None` por defecto.\n"
   ]
  },
  {
   "cell_type": "code",
   "execution_count": null,
   "metadata": {
    "colab": {
     "base_uri": "https://localhost:8080/"
    },
    "executionInfo": {
     "elapsed": 8,
     "status": "ok",
     "timestamp": 1747429678100,
     "user": {
      "displayName": "Francisco Fernandez",
      "userId": "14484514716531413217"
     },
     "user_tz": 180
    },
    "id": "5oivZUnEPV8h",
    "outputId": "81b83836-e911-44ff-d0fe-925a57a5bfbc"
   },
   "outputs": [
    {
     "name": "stdout",
     "output_type": "stream",
     "text": [
      "Hola, Mundo\n",
      "None\n"
     ]
    }
   ],
   "source": [
    "def saludo_simple(nombre):\n",
    "  print(f\"Hola, {nombre}\") # Esta función no devuelve nada explícitamente\n",
    "\n",
    "resultado = saludo_simple(\"Mundo\")\n",
    "print(resultado)"
   ]
  },
  {
   "cell_type": "markdown",
   "metadata": {
    "id": "grxYV3FiPq-8"
   },
   "source": [
    "# **Ámbito de las Variables**\n"
   ]
  },
  {
   "cell_type": "markdown",
   "metadata": {
    "id": "MJsa4XcIQJyF"
   },
   "source": [
    "El ámbito de una variable define la parte del programa donde una variable es accesible."
   ]
  },
  {
   "cell_type": "markdown",
   "metadata": {
    "id": "BTkzpOzIP0o6"
   },
   "source": [
    "1. Variables Locales:\n",
    "* Se definen dentro de una función.\n",
    "* Solo son accesibles desde dentro de esa función.\n",
    "* Se crean cuando la función es llamada y se destruyen cuando la función termin"
   ]
  },
  {
   "cell_type": "code",
   "execution_count": null,
   "metadata": {
    "colab": {
     "base_uri": "https://localhost:8080/"
    },
    "executionInfo": {
     "elapsed": 9,
     "status": "ok",
     "timestamp": 1747430230674,
     "user": {
      "displayName": "Francisco Fernandez",
      "userId": "14484514716531413217"
     },
     "user_tz": 180
    },
    "id": "4iLbLWOhPybm",
    "outputId": "c5a501b4-e414-479b-9c60-9b4e3ff2cdd9"
   },
   "outputs": [
    {
     "name": "stdout",
     "output_type": "stream",
     "text": [
      "Dentro de la función, x es: 10\n"
     ]
    }
   ],
   "source": [
    "def mi_funcion_local():\n",
    "  x = 10 # x es una variable local\n",
    "  print(f\"Dentro de la función, x es: {x}\")\n",
    "\n",
    "mi_funcion_local()"
   ]
  },
  {
   "cell_type": "markdown",
   "metadata": {
    "id": "Lul4_elrQCyz"
   },
   "source": [
    "2. Variables Globales:\n",
    "* Se definen fuera de todas las funciones, en el cuerpo principal del script.\n",
    "* Son accesibles desde cualquier parte del código, tanto dentro como fuera de las funciones (para lectura)."
   ]
  },
  {
   "cell_type": "code",
   "execution_count": null,
   "metadata": {
    "colab": {
     "base_uri": "https://localhost:8080/"
    },
    "executionInfo": {
     "elapsed": 8,
     "status": "ok",
     "timestamp": 1747430074499,
     "user": {
      "displayName": "Francisco Fernandez",
      "userId": "14484514716531413217"
     },
     "user_tz": 180
    },
    "id": "W9B2XpOxP5mT",
    "outputId": "2f395d81-1d88-49a5-ef7d-437bff5e02c3"
   },
   "outputs": [
    {
     "name": "stdout",
     "output_type": "stream",
     "text": [
      "Dentro de la función, y es: 100\n"
     ]
    }
   ],
   "source": [
    "y = 100 # y es una variable global\n",
    "\n",
    "def mi_funcion_global_lectura():\n",
    "    print(f\"Dentro de la función, y es: {y}\")\n",
    "\n",
    "def mi_funcion_intenta_modificar_global():\n",
    "    z_local = y + 10\n",
    "    print(f\"Dentro, z_local (y global + 10) es: {z_local}\")\n",
    "\n",
    "mi_funcion_global_lectura()"
   ]
  },
  {
   "cell_type": "code",
   "execution_count": null,
   "metadata": {
    "colab": {
     "base_uri": "https://localhost:8080/"
    },
    "executionInfo": {
     "elapsed": 11,
     "status": "ok",
     "timestamp": 1747430111444,
     "user": {
      "displayName": "Francisco Fernandez",
      "userId": "14484514716531413217"
     },
     "user_tz": 180
    },
    "id": "0H6LPXm68xWZ",
    "outputId": "8bba58e9-d7dc-4bea-d42c-4fa78bdc632b"
   },
   "outputs": [
    {
     "name": "stdout",
     "output_type": "stream",
     "text": [
      "Dentro, z_local (y global + 10) es: 110\n"
     ]
    }
   ],
   "source": [
    "mi_funcion_intenta_modificar_global()"
   ]
  },
  {
   "cell_type": "markdown",
   "metadata": {
    "id": "Am6-18WtQioW"
   },
   "source": [
    "# **Ejercicios**"
   ]
  },
  {
   "cell_type": "code",
   "execution_count": null,
   "metadata": {
    "colab": {
     "base_uri": "https://localhost:8080/",
     "height": 36
    },
    "collapsed": true,
    "executionInfo": {
     "elapsed": 56,
     "status": "ok",
     "timestamp": 1747430233218,
     "user": {
      "displayName": "Francisco Fernandez",
      "userId": "14484514716531413217"
     },
     "user_tz": 180
    },
    "id": "6UntIQlSQneZ",
    "outputId": "e4d2e35d-7665-41b6-d878-d1cc1a0bffc5"
   },
   "outputs": [
    {
     "data": {
      "application/vnd.google.colaboratory.intrinsic+json": {
       "type": "string"
      },
      "text/plain": [
       "'\\nHacer una funcion para convertir grado Celsius a Fahrenheit llamada convertToFahrenheit() con degreesCelsius como parametro\\n'"
      ]
     },
     "execution_count": 33,
     "metadata": {},
     "output_type": "execute_result"
    }
   ],
   "source": [
    "'''\n",
    "Hacer una funcion para convertir grado Celsius a Fahrenheit llamada convertToFahrenheit() con degreesCelsius como parametro\n",
    "'''\n"
   ]
  },
  {
   "cell_type": "code",
   "execution_count": null,
   "metadata": {
    "colab": {
     "base_uri": "https://localhost:8080/",
     "height": 36
    },
    "collapsed": true,
    "executionInfo": {
     "elapsed": 5,
     "status": "ok",
     "timestamp": 1747430233219,
     "user": {
      "displayName": "Francisco Fernandez",
      "userId": "14484514716531413217"
     },
     "user_tz": 180
    },
    "id": "0UQU35lpQ7Cx",
    "outputId": "8bebd21d-228a-4bb4-edac-75a0177b1238"
   },
   "outputs": [
    {
     "data": {
      "application/vnd.google.colaboratory.intrinsic+json": {
       "type": "string"
      },
      "text/plain": [
       "'\\nHacer una funcion para convertir grado Fahrenheit a Celsius llamada convertToCelsius() con degreesFahrenheit como parametro\\n'"
      ]
     },
     "execution_count": 34,
     "metadata": {},
     "output_type": "execute_result"
    }
   ],
   "source": [
    "'''\n",
    "Hacer una funcion para convertir grado Fahrenheit a Celsius llamada convertToCelsius() con degreesFahrenheit como parametro\n",
    "'''"
   ]
  },
  {
   "cell_type": "code",
   "execution_count": null,
   "metadata": {
    "colab": {
     "base_uri": "https://localhost:8080/",
     "height": 36
    },
    "collapsed": true,
    "executionInfo": {
     "elapsed": 39,
     "status": "ok",
     "timestamp": 1747430233256,
     "user": {
      "displayName": "Francisco Fernandez",
      "userId": "14484514716531413217"
     },
     "user_tz": 180
    },
    "id": "vs9JUngvSb8p",
    "outputId": "06840435-89e7-4a35-f8c2-b8162ce418fe"
   },
   "outputs": [
    {
     "data": {
      "application/vnd.google.colaboratory.intrinsic+json": {
       "type": "string"
      },
      "text/plain": [
       "'\\nEscribe una función que reciba el nombre y la nota de un estudiante y devuelva si aprobó (>=6)\\n'"
      ]
     },
     "execution_count": 35,
     "metadata": {},
     "output_type": "execute_result"
    }
   ],
   "source": [
    "'''\n",
    "Escribe una función que reciba el nombre y la nota de un estudiante y devuelva si aprobó (>=6)\n",
    "'''"
   ]
  },
  {
   "cell_type": "code",
   "execution_count": null,
   "metadata": {
    "colab": {
     "base_uri": "https://localhost:8080/",
     "height": 53
    },
    "collapsed": true,
    "executionInfo": {
     "elapsed": 8,
     "status": "ok",
     "timestamp": 1747430233258,
     "user": {
      "displayName": "Francisco Fernandez",
      "userId": "14484514716531413217"
     },
     "user_tz": 180
    },
    "id": "L1S2itveRKR_",
    "outputId": "b263e310-1ad0-4b2a-d3e0-5eae5a73cc1c"
   },
   "outputs": [
    {
     "data": {
      "application/vnd.google.colaboratory.intrinsic+json": {
       "type": "string"
      },
      "text/plain": [
       "'\\nEscriba dos funciones, isOdd() e isEven(), con un único parámetro numérico llamado número.\\nLa función isOdd() devuelve Verdadero si el número es impar y Falso si el número es par.\\nLa función isEven() devuelve Verdadero si el número es par y Falso si el número es impar.\\n'"
      ]
     },
     "execution_count": 36,
     "metadata": {},
     "output_type": "execute_result"
    }
   ],
   "source": [
    "'''\n",
    "Escriba dos funciones, isOdd() e isEven(), con un único parámetro numérico llamado número.\n",
    "La función isOdd() devuelve Verdadero si el número es impar y Falso si el número es par.\n",
    "La función isEven() devuelve Verdadero si el número es par y Falso si el número es impar.\n",
    "'''"
   ]
  },
  {
   "cell_type": "code",
   "execution_count": null,
   "metadata": {
    "colab": {
     "base_uri": "https://localhost:8080/",
     "height": 53
    },
    "collapsed": true,
    "executionInfo": {
     "elapsed": 7,
     "status": "ok",
     "timestamp": 1747430233259,
     "user": {
      "displayName": "Francisco Fernandez",
      "userId": "14484514716531413217"
     },
     "user_tz": 180
    },
    "id": "Pwi3A2xRRfKW",
    "outputId": "37104b8e-0399-4baf-b493-83c6ed3b33f7"
   },
   "outputs": [
    {
     "data": {
      "application/vnd.google.colaboratory.intrinsic+json": {
       "type": "string"
      },
      "text/plain": [
       "'\\nPara este ejercicio, escribirás cuatro funciones.\\nLas funciones área() y perímetro() tienen parámetros de longitud y anchura,\\nmientras que las funciones volumen() y áreasuperficie() tienen parámetros de longitud, anchura y altura.\\nEstas funciones devuelven el área, el perímetro, el volumen y el área de la superficie, respectivamente.\\n'"
      ]
     },
     "execution_count": 37,
     "metadata": {},
     "output_type": "execute_result"
    }
   ],
   "source": [
    "'''\n",
    "Para este ejercicio, escribirás cuatro funciones.\n",
    "Las funciones área() y perímetro() tienen parámetros de longitud y anchura,\n",
    "mientras que las funciones volumen() y áreasuperficie() tienen parámetros de longitud, anchura y altura.\n",
    "Estas funciones devuelven el área, el perímetro, el volumen y el área de la superficie, respectivamente.\n",
    "'''"
   ]
  },
  {
   "cell_type": "code",
   "execution_count": null,
   "metadata": {
    "colab": {
     "base_uri": "https://localhost:8080/",
     "height": 36
    },
    "collapsed": true,
    "executionInfo": {
     "elapsed": 49,
     "status": "ok",
     "timestamp": 1747430484804,
     "user": {
      "displayName": "Francisco Fernandez",
      "userId": "14484514716531413217"
     },
     "user_tz": 180
    },
    "id": "8Y6l3-AZSqVi",
    "outputId": "f287c671-c2e0-45b6-8068-d4f96899696e"
   },
   "outputs": [
    {
     "data": {
      "application/vnd.google.colaboratory.intrinsic+json": {
       "type": "string"
      },
      "text/plain": [
       "'\\nFunción que reciba un año y diga si es bisiesto.(pista: divisible entre 4 y no 100, o divisible entre 400).\\nDevolver True si es bisiesto y un False si no lo es\\n'"
      ]
     },
     "execution_count": 41,
     "metadata": {},
     "output_type": "execute_result"
    }
   ],
   "source": [
    "'''\n",
    "Función que reciba un año y diga si es bisiesto.(pista: divisible entre 4 y no 100, o divisible entre 400).\n",
    "Devolver True si es bisiesto y un False si no lo es\n",
    "'''"
   ]
  },
  {
   "cell_type": "markdown",
   "metadata": {
    "id": "y41nh4A-TVKs"
   },
   "source": [
    "![bisiesto](https://www.excelfreeblog.com/wp-content/uploads/2020/04/02-1.jpg)"
   ]
  },
  {
   "cell_type": "code",
   "execution_count": 4,
   "metadata": {
    "colab": {
     "base_uri": "https://localhost:8080/"
    },
    "executionInfo": {
     "elapsed": 1913,
     "status": "ok",
     "timestamp": 1747692384452,
     "user": {
      "displayName": "Francisco Fernandez",
      "userId": "14484514716531413217"
     },
     "user_tz": 180
    },
    "id": "ydrylc__k2Wf",
    "outputId": "da1153fe-9e27-4813-9c7e-7f1de5a02c41"
   },
   "outputs": [
    {
     "name": "stdout",
     "output_type": "stream",
     "text": [
      "Ingrese un año: 20\n",
      "¿Es año bisiesto?: True\n"
     ]
    }
   ],
   "source": [
    "def isBisiesto(año):\n",
    "    return (año % 4 == 0 and año % 100 != 0) or (año % 400 == 0)\n",
    "\n",
    "año_consultado = int(input(\"Ingrese un año: \"))\n",
    "print(\"¿Es año bisiesto?:\", isBisiesto(año_consultado))"
   ]
  },
  {
   "cell_type": "code",
   "execution_count": null,
   "metadata": {
    "id": "nHgnGsMHk3PM"
   },
   "outputs": [],
   "source": []
  }
 ],
 "metadata": {
  "colab": {
   "authorship_tag": "ABX9TyPsUFSs5siu+bDJAQQGBI68",
   "provenance": []
  },
  "kernelspec": {
   "display_name": "Python 3",
   "name": "python3"
  },
  "language_info": {
   "name": "python"
  }
 },
 "nbformat": 4,
 "nbformat_minor": 0
}
